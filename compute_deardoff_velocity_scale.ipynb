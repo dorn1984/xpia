{
 "cells": [
  {
   "cell_type": "code",
   "execution_count": 3,
   "metadata": {},
   "outputs": [],
   "source": [
    "import numpy as np\n",
    "import pandas as pd\n",
    "import os\n",
    "import sys\n",
    "import funcs as f\n",
    "import xarray "
   ]
  },
  {
   "cell_type": "markdown",
   "metadata": {},
   "source": [
    "### parameters"
   ]
  },
  {
   "cell_type": "code",
   "execution_count": 4,
   "metadata": {},
   "outputs": [],
   "source": [
    "outpath       = \"/Volumes/Baby-Orange/XPIA-NCAR/processed/\"\n",
    "datapath      = \"/Volumes/Baby-Orange/XPIA-NCAR/rawest/\""
   ]
  },
  {
   "cell_type": "code",
   "execution_count": 5,
   "metadata": {},
   "outputs": [],
   "source": [
    "days = [20,21,28,29,30]"
   ]
  },
  {
   "cell_type": "code",
   "execution_count": 17,
   "metadata": {},
   "outputs": [],
   "source": [
    "g   = 9.81\n",
    "cp  = 1004.5"
   ]
  },
  {
   "cell_type": "code",
   "execution_count": 52,
   "metadata": {},
   "outputs": [],
   "source": [
    "year  = 2015\n",
    "month = 3"
   ]
  },
  {
   "cell_type": "code",
   "execution_count": 60,
   "metadata": {},
   "outputs": [],
   "source": [
    "for iday,day in enumerate(days):\n",
    "    start = pd.Timestamp(year=year,month=month,day=day,hour=14,minute=0)\n",
    "    end   = pd.Timestamp(year=year,month=month,day=day,hour=23,minute=50)    \n",
    "    if iday==0:\n",
    "        desired_idx = pd.date_range(start=start,end=end,freq='10min')\n",
    "    else:\n",
    "        desired_idx = desired_idx.append(pd.date_range(start=start,end=end,freq='10min'))"
   ]
  },
  {
   "cell_type": "markdown",
   "metadata": {},
   "source": [
    "### get density"
   ]
  },
  {
   "cell_type": "code",
   "execution_count": 29,
   "metadata": {},
   "outputs": [],
   "source": [
    "for iday,day in enumerate(days):\n",
    "    rho_path = os.path.join(outpath,\"RHO_SPATIAL_AVG_15km_by_15km_March{0}.csv\".format(day))\n",
    "    rho_tmp  = pd.read_csv(rho_path, index_col=[0])\n",
    "    if iday==0:\n",
    "        rho = rho_tmp.copy()\n",
    "    else:\n",
    "        rho = pd.concat([rho,rho_tmp],axis=0)"
   ]
  },
  {
   "cell_type": "code",
   "execution_count": 62,
   "metadata": {},
   "outputs": [],
   "source": [
    "rho = rho.reindex(desired_idx)"
   ]
  },
  {
   "cell_type": "markdown",
   "metadata": {},
   "source": [
    "### get hfx"
   ]
  },
  {
   "cell_type": "code",
   "execution_count": 65,
   "metadata": {},
   "outputs": [],
   "source": [
    "for iday,day in enumerate(days):\n",
    "    hfx_path = os.path.join(outpath,\"HFX_SPATIAL_AVG_15km_by_15km_D02_March{0}.csv\".format(day))\n",
    "    hfx_tmp  = pd.read_csv(hfx_path, index_col=[0], parse_dates=True)\n",
    "    if iday==0:\n",
    "        hfx = hfx_tmp.copy()\n",
    "    else:\n",
    "        hfx = pd.concat([hfx,hfx_tmp],axis=0)    "
   ]
  },
  {
   "cell_type": "code",
   "execution_count": 66,
   "metadata": {},
   "outputs": [],
   "source": [
    "hfx = hfx.reindex(desired_idx)"
   ]
  },
  {
   "cell_type": "code",
   "execution_count": 108,
   "metadata": {},
   "outputs": [
    {
     "data": {
      "text/html": [
       "<div>\n",
       "<style scoped>\n",
       "    .dataframe tbody tr th:only-of-type {\n",
       "        vertical-align: middle;\n",
       "    }\n",
       "\n",
       "    .dataframe tbody tr th {\n",
       "        vertical-align: top;\n",
       "    }\n",
       "\n",
       "    .dataframe thead th {\n",
       "        text-align: right;\n",
       "    }\n",
       "</style>\n",
       "<table border=\"1\" class=\"dataframe\">\n",
       "  <thead>\n",
       "    <tr style=\"text-align: right;\">\n",
       "      <th></th>\n",
       "      <th>1</th>\n",
       "    </tr>\n",
       "  </thead>\n",
       "  <tbody>\n",
       "    <tr>\n",
       "      <th>2015-03-20 14:00:00</th>\n",
       "      <td>NaN</td>\n",
       "    </tr>\n",
       "    <tr>\n",
       "      <th>2015-03-20 14:10:00</th>\n",
       "      <td>5.915178</td>\n",
       "    </tr>\n",
       "    <tr>\n",
       "      <th>2015-03-20 14:20:00</th>\n",
       "      <td>11.936886</td>\n",
       "    </tr>\n",
       "    <tr>\n",
       "      <th>2015-03-20 14:30:00</th>\n",
       "      <td>20.130190</td>\n",
       "    </tr>\n",
       "    <tr>\n",
       "      <th>2015-03-20 14:40:00</th>\n",
       "      <td>29.592698</td>\n",
       "    </tr>\n",
       "  </tbody>\n",
       "</table>\n",
       "</div>"
      ],
      "text/plain": [
       "                             1\n",
       "2015-03-20 14:00:00        NaN\n",
       "2015-03-20 14:10:00   5.915178\n",
       "2015-03-20 14:20:00  11.936886\n",
       "2015-03-20 14:30:00  20.130190\n",
       "2015-03-20 14:40:00  29.592698"
      ]
     },
     "execution_count": 108,
     "metadata": {},
     "output_type": "execute_result"
    }
   ],
   "source": [
    "hfx.head()"
   ]
  },
  {
   "cell_type": "markdown",
   "metadata": {},
   "source": [
    "### get layer temp"
   ]
  },
  {
   "cell_type": "code",
   "execution_count": 15,
   "metadata": {},
   "outputs": [],
   "source": [
    "for iday,day in enumerate(days):\n",
    "    temp_path = os.path.join(outpath,\"T_LAYER_SPATIAL_AVG_15km_by_15km_March{0}.csv\".format(day))\n",
    "    temp_tmp  = pd.read_csv(temp_path, index_col=[0])\n",
    "    if iday==0:\n",
    "        temps = temp_tmp.copy()\n",
    "    else:\n",
    "        temps = pd.concat([temps,temp_tmp],axis=0)    "
   ]
  },
  {
   "cell_type": "code",
   "execution_count": 68,
   "metadata": {},
   "outputs": [],
   "source": [
    "temps = temps.reindex(desired_idx)"
   ]
  },
  {
   "cell_type": "markdown",
   "metadata": {},
   "source": [
    "### get zi"
   ]
  },
  {
   "cell_type": "code",
   "execution_count": 19,
   "metadata": {},
   "outputs": [],
   "source": [
    "zi       = pd.read_csv(\"/Volumes/Baby-Orange/XPIA-NCAR/processed/ziL_all_days.csv\", header=None, index_col=[0], parse_dates=True)"
   ]
  },
  {
   "cell_type": "code",
   "execution_count": 70,
   "metadata": {},
   "outputs": [],
   "source": [
    "zi = zi.reindex(desired_idx)"
   ]
  },
  {
   "cell_type": "markdown",
   "metadata": {},
   "source": [
    "### allocate space"
   ]
  },
  {
   "cell_type": "code",
   "execution_count": 72,
   "metadata": {},
   "outputs": [],
   "source": [
    "wst = pd.DataFrame(index=desired_idx, columns=temps.columns)"
   ]
  },
  {
   "cell_type": "code",
   "execution_count": 73,
   "metadata": {},
   "outputs": [
    {
     "data": {
      "text/html": [
       "<div>\n",
       "<style scoped>\n",
       "    .dataframe tbody tr th:only-of-type {\n",
       "        vertical-align: middle;\n",
       "    }\n",
       "\n",
       "    .dataframe tbody tr th {\n",
       "        vertical-align: top;\n",
       "    }\n",
       "\n",
       "    .dataframe thead th {\n",
       "        text-align: right;\n",
       "    }\n",
       "</style>\n",
       "<table border=\"1\" class=\"dataframe\">\n",
       "  <thead>\n",
       "    <tr style=\"text-align: right;\">\n",
       "      <th></th>\n",
       "      <th>LES</th>\n",
       "      <th>vles</th>\n",
       "      <th>mynn</th>\n",
       "      <th>ysu</th>\n",
       "      <th>sh</th>\n",
       "    </tr>\n",
       "  </thead>\n",
       "  <tbody>\n",
       "    <tr>\n",
       "      <th>2015-03-20 14:00:00</th>\n",
       "      <td>NaN</td>\n",
       "      <td>NaN</td>\n",
       "      <td>NaN</td>\n",
       "      <td>NaN</td>\n",
       "      <td>NaN</td>\n",
       "    </tr>\n",
       "    <tr>\n",
       "      <th>2015-03-20 14:10:00</th>\n",
       "      <td>NaN</td>\n",
       "      <td>NaN</td>\n",
       "      <td>NaN</td>\n",
       "      <td>NaN</td>\n",
       "      <td>NaN</td>\n",
       "    </tr>\n",
       "    <tr>\n",
       "      <th>2015-03-20 14:20:00</th>\n",
       "      <td>NaN</td>\n",
       "      <td>NaN</td>\n",
       "      <td>NaN</td>\n",
       "      <td>NaN</td>\n",
       "      <td>NaN</td>\n",
       "    </tr>\n",
       "    <tr>\n",
       "      <th>2015-03-20 14:30:00</th>\n",
       "      <td>NaN</td>\n",
       "      <td>NaN</td>\n",
       "      <td>NaN</td>\n",
       "      <td>NaN</td>\n",
       "      <td>NaN</td>\n",
       "    </tr>\n",
       "    <tr>\n",
       "      <th>2015-03-20 14:40:00</th>\n",
       "      <td>NaN</td>\n",
       "      <td>NaN</td>\n",
       "      <td>NaN</td>\n",
       "      <td>NaN</td>\n",
       "      <td>NaN</td>\n",
       "    </tr>\n",
       "  </tbody>\n",
       "</table>\n",
       "</div>"
      ],
      "text/plain": [
       "                     LES vles mynn  ysu   sh\n",
       "2015-03-20 14:00:00  NaN  NaN  NaN  NaN  NaN\n",
       "2015-03-20 14:10:00  NaN  NaN  NaN  NaN  NaN\n",
       "2015-03-20 14:20:00  NaN  NaN  NaN  NaN  NaN\n",
       "2015-03-20 14:30:00  NaN  NaN  NaN  NaN  NaN\n",
       "2015-03-20 14:40:00  NaN  NaN  NaN  NaN  NaN"
      ]
     },
     "execution_count": 73,
     "metadata": {},
     "output_type": "execute_result"
    }
   ],
   "source": [
    "wst.head()"
   ]
  },
  {
   "cell_type": "markdown",
   "metadata": {},
   "source": [
    "###  compute kinematix heat flux"
   ]
  },
  {
   "cell_type": "markdown",
   "metadata": {},
   "source": [
    "$ \\overline{w' \\theta'_v} = Q \\rho C_p $"
   ]
  },
  {
   "cell_type": "code",
   "execution_count": 83,
   "metadata": {},
   "outputs": [],
   "source": [
    "kinematic_flux = np.squeeze(hfx.values / (rho.values * cp))"
   ]
  },
  {
   "cell_type": "markdown",
   "metadata": {},
   "source": [
    "### compute w*"
   ]
  },
  {
   "cell_type": "markdown",
   "metadata": {},
   "source": [
    "$w_* = \\left[ \\frac{g}{T_v} z_i \\overline{w' \\theta'_v} \\right]^{1/3}$"
   ]
  },
  {
   "cell_type": "code",
   "execution_count": 112,
   "metadata": {},
   "outputs": [],
   "source": [
    "for col in wst.columns:\n",
    "    p1 = (g/temps[col].values)\n",
    "    p2 = np.squeeze(zi.values) * kinematic_flux\n",
    "    wst[col] = (p1 * p2)**(1/3.)"
   ]
  },
  {
   "cell_type": "code",
   "execution_count": 113,
   "metadata": {},
   "outputs": [
    {
     "data": {
      "text/html": [
       "<div>\n",
       "<style scoped>\n",
       "    .dataframe tbody tr th:only-of-type {\n",
       "        vertical-align: middle;\n",
       "    }\n",
       "\n",
       "    .dataframe tbody tr th {\n",
       "        vertical-align: top;\n",
       "    }\n",
       "\n",
       "    .dataframe thead th {\n",
       "        text-align: right;\n",
       "    }\n",
       "</style>\n",
       "<table border=\"1\" class=\"dataframe\">\n",
       "  <thead>\n",
       "    <tr style=\"text-align: right;\">\n",
       "      <th></th>\n",
       "      <th>LES</th>\n",
       "      <th>vles</th>\n",
       "      <th>mynn</th>\n",
       "      <th>ysu</th>\n",
       "      <th>sh</th>\n",
       "    </tr>\n",
       "  </thead>\n",
       "  <tbody>\n",
       "    <tr>\n",
       "      <th>2015-03-20 14:00:00</th>\n",
       "      <td>NaN</td>\n",
       "      <td>NaN</td>\n",
       "      <td>NaN</td>\n",
       "      <td>NaN</td>\n",
       "      <td>NaN</td>\n",
       "    </tr>\n",
       "    <tr>\n",
       "      <th>2015-03-20 14:10:00</th>\n",
       "      <td>0.247994</td>\n",
       "      <td>0.247894</td>\n",
       "      <td>0.247921</td>\n",
       "      <td>0.247911</td>\n",
       "      <td>0.247911</td>\n",
       "    </tr>\n",
       "    <tr>\n",
       "      <th>2015-03-20 14:20:00</th>\n",
       "      <td>0.352527</td>\n",
       "      <td>0.352307</td>\n",
       "      <td>0.352343</td>\n",
       "      <td>0.352352</td>\n",
       "      <td>0.352352</td>\n",
       "    </tr>\n",
       "    <tr>\n",
       "      <th>2015-03-20 14:30:00</th>\n",
       "      <td>0.423640</td>\n",
       "      <td>0.423356</td>\n",
       "      <td>0.423391</td>\n",
       "      <td>0.423420</td>\n",
       "      <td>0.423420</td>\n",
       "    </tr>\n",
       "    <tr>\n",
       "      <th>2015-03-20 14:40:00</th>\n",
       "      <td>0.527625</td>\n",
       "      <td>0.527276</td>\n",
       "      <td>0.527317</td>\n",
       "      <td>0.527373</td>\n",
       "      <td>0.527373</td>\n",
       "    </tr>\n",
       "  </tbody>\n",
       "</table>\n",
       "</div>"
      ],
      "text/plain": [
       "                          LES      vles      mynn       ysu        sh\n",
       "2015-03-20 14:00:00       NaN       NaN       NaN       NaN       NaN\n",
       "2015-03-20 14:10:00  0.247994  0.247894  0.247921  0.247911  0.247911\n",
       "2015-03-20 14:20:00  0.352527  0.352307  0.352343  0.352352  0.352352\n",
       "2015-03-20 14:30:00  0.423640  0.423356  0.423391  0.423420  0.423420\n",
       "2015-03-20 14:40:00  0.527625  0.527276  0.527317  0.527373  0.527373"
      ]
     },
     "execution_count": 113,
     "metadata": {},
     "output_type": "execute_result"
    }
   ],
   "source": [
    "wst.head()"
   ]
  },
  {
   "cell_type": "markdown",
   "metadata": {},
   "source": [
    "# save"
   ]
  },
  {
   "cell_type": "code",
   "execution_count": 16,
   "metadata": {},
   "outputs": [],
   "source": [
    "days = [20,21,28,29,30]"
   ]
  },
  {
   "cell_type": "code",
   "execution_count": 119,
   "metadata": {},
   "outputs": [
    {
     "name": "stdout",
     "output_type": "stream",
     "text": [
      "/Volumes/Baby-Orange/XPIA-NCAR/processed/WST_SPATIAL_AVG_15km_by_15km_March20.csv\n",
      "/Volumes/Baby-Orange/XPIA-NCAR/processed/WST_SPATIAL_AVG_15km_by_15km_March21.csv\n",
      "/Volumes/Baby-Orange/XPIA-NCAR/processed/WST_SPATIAL_AVG_15km_by_15km_March28.csv\n",
      "/Volumes/Baby-Orange/XPIA-NCAR/processed/WST_SPATIAL_AVG_15km_by_15km_March29.csv\n",
      "/Volumes/Baby-Orange/XPIA-NCAR/processed/WST_SPATIAL_AVG_15km_by_15km_March30.csv\n"
     ]
    }
   ],
   "source": [
    "for day in days:\n",
    "    daydata = wst.loc['2015-03-{0}'.format(day)].copy()\n",
    "    daydata = daydata.interpolate(method=\"index\", limit_direction=\"both\")\n",
    "    #print(\".........\")\n",
    "    #print (daydata.head())\n",
    "    #print (daydata.tail())\n",
    "    fout = os.path.join(outpath,\"WST_SPATIAL_AVG_15km_by_15km_March{0}.csv\".format(day))\n",
    "    print(fout)    \n",
    "    daydata.to_csv(fout)"
   ]
  },
  {
   "cell_type": "code",
   "execution_count": null,
   "metadata": {},
   "outputs": [],
   "source": []
  }
 ],
 "metadata": {
  "kernelspec": {
   "display_name": "Python 3",
   "language": "python",
   "name": "python3"
  },
  "language_info": {
   "codemirror_mode": {
    "name": "ipython",
    "version": 3
   },
   "file_extension": ".py",
   "mimetype": "text/x-python",
   "name": "python",
   "nbconvert_exporter": "python",
   "pygments_lexer": "ipython3",
   "version": "3.6.8"
  }
 },
 "nbformat": 4,
 "nbformat_minor": 2
}
