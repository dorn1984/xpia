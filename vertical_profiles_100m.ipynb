{
 "cells": [
  {
   "cell_type": "code",
   "execution_count": 1,
   "metadata": {},
   "outputs": [],
   "source": [
    "%matplotlib inline\n",
    "import numpy as np\n",
    "import os, glob\n",
    "import matplotlib.pyplot as plt\n",
    "from netCDF4 import Dataset\n",
    "\n",
    "import timeit\n",
    "from pandas import to_datetime, date_range\n",
    "import wrf, xarray"
   ]
  },
  {
   "cell_type": "code",
   "execution_count": 2,
   "metadata": {},
   "outputs": [],
   "source": [
    "plt.rc(\"font\",size=14)"
   ]
  },
  {
   "cell_type": "code",
   "execution_count": 3,
   "metadata": {},
   "outputs": [],
   "source": [
    "import warnings\n",
    "warnings.simplefilter(action='ignore', category=FutureWarning)"
   ]
  },
  {
   "cell_type": "markdown",
   "metadata": {},
   "source": [
    "### define paths"
   ]
  },
  {
   "cell_type": "code",
   "execution_count": 4,
   "metadata": {},
   "outputs": [],
   "source": [
    "dataPath = '/glade/scratch/domingom/Cheyenne/XPIA_mesoLES/SIMULS/'\n",
    "outPath  = '/glade/scratch/doubrawa/postProcessing/'"
   ]
  },
  {
   "cell_type": "markdown",
   "metadata": {},
   "source": [
    "### define some parameters"
   ]
  },
  {
   "cell_type": "code",
   "execution_count": 5,
   "metadata": {},
   "outputs": [],
   "source": [
    "n_processors       = 1800\n",
    "domainId           = 3\n",
    "prefix             = \"LES_25m\" if domainId==4 else \"LES_100m\""
   ]
  },
  {
   "cell_type": "code",
   "execution_count": 6,
   "metadata": {},
   "outputs": [],
   "source": [
    "nt_per_file        = 180 if domainId==4 else 30\n",
    "nhours             = 10\n",
    "nfiles             = nhours * 2\n",
    "nt_total           = nt_per_file * nfiles\n",
    "\n",
    "n_east_west        = 1200\n",
    "n_east_west_stag   = n_east_west + 1\n",
    "n_south_north      = 1200\n",
    "n_south_north_stag = n_south_north + 1"
   ]
  },
  {
   "cell_type": "markdown",
   "metadata": {},
   "source": [
    "### reference wrf to clip domains"
   ]
  },
  {
   "cell_type": "code",
   "execution_count": 7,
   "metadata": {},
   "outputs": [],
   "source": [
    "ref_wrfnc = Dataset(\"/glade/scratch/domingom/Cheyenne/XPIA_mesoLES/SIMULS/WRF_mesoLES_4dom_RAP_2015_03_12_mesoLES/HOUR_14_1/wrfout_d04_2015-03-13_14:00:10_0000\")"
   ]
  },
  {
   "cell_type": "markdown",
   "metadata": {},
   "source": [
    "## open all data"
   ]
  },
  {
   "cell_type": "code",
   "execution_count": 11,
   "metadata": {},
   "outputs": [
    {
     "name": "stdout",
     "output_type": "stream",
     "text": [
      "2018-03-21 23:30:00\n"
     ]
    }
   ],
   "source": [
    "year           = 2018\n",
    "month          = 3\n",
    "day            = 21\n",
    "hour           = 23\n",
    "minute         = 30\n",
    "half_hour_idx  = 1 if minute<30 else 2\n",
    "datetime       = to_datetime(\"{0}-{1}-{2} {3}:{4}\".format(year,month,day,hour,minute),format=\"%Y-%m-%d %H:%M\")\n",
    "print(datetime)"
   ]
  },
  {
   "cell_type": "code",
   "execution_count": 12,
   "metadata": {},
   "outputs": [],
   "source": [
    "variables_2d = [\"XLAT\",\"XLONG\",\"ter\",\"RMOL\",\"HFX\"]\n",
    "variables_3d = [\"U\",\"V\",\"wa\",\"theta\",\"z\"]\n",
    "variables    = variables_2d + variables_3d\n",
    "data         = {}\n",
    "for var in [\"U\"]:\n",
    "    data[var] = np.zeros((72,n_south_north,n_east_west_stag))\n",
    "for var in [\"V\"]:\n",
    "    data[var] = np.zeros((72,n_south_north_stag,n_east_west))    \n",
    "for var in variables_2d:\n",
    "    data[var] = np.zeros((1200,1200))\n",
    "for var in [\"wa\",\"theta\",\"z\"]:\n",
    "    data[var] = np.zeros((72,n_south_north,n_east_west))        "
   ]
  },
  {
   "cell_type": "code",
   "execution_count": 13,
   "metadata": {},
   "outputs": [
    {
     "name": "stdout",
     "output_type": "stream",
     "text": [
      "wrfout_d03_2015-03-21_23:31:00_0000\n"
     ]
    }
   ],
   "source": [
    "for processor in range(n_processors):\n",
    "\n",
    "    wrfoutPath     = (glob.glob(os.path.join(dataPath,\n",
    "                               'WRF_mesoLES_4dom_RAP_2015_03_{0}_mesoLES'.format(day-1),\n",
    "                               'HOUR_{0}_{1}'.format(hour,half_hour_idx),\n",
    "                               'wrfout_d0{0}_*_{1:04d}'.format(domainId,processor))))[0]\n",
    "    print (os.path.split(wrfoutPath)[-1])\n",
    "    wrfnc = xarray.open_dataset(wrfoutPath)\n",
    "    wrfnc_for_wrf = Dataset(wrfoutPath,'r')\n",
    "    wrf_datetime = to_datetime(wrfnc.XTIME[0].data)\n",
    "\n",
    "\n",
    "    if ((wrf_datetime-datetime).seconds > 5 * 60.0):\n",
    "        print (\"ERROR!!!\")   \n",
    "    \n",
    "    #\n",
    "    # get all variables (3-d in space) \n",
    "    #\n",
    "    for var in variables:\n",
    "\n",
    "        try:\n",
    "            data_tmp = wrf.getvar(wrfnc_for_wrf, var, timeidx=0).data\n",
    "        except:\n",
    "            data_tmp = wrfnc[var].isel(Time=0).data       \n",
    "            \n",
    "        we_0 = getattr(wrfnc,'WEST-EAST_PATCH_START_UNSTAG') - 1        \n",
    "        we_1 = getattr(wrfnc,'WEST-EAST_PATCH_END_UNSTAG')                \n",
    "\n",
    "        sn_0 = getattr(wrfnc,'SOUTH-NORTH_PATCH_START_UNSTAG') - 1       \n",
    "        sn_1 = getattr(wrfnc,'SOUTH-NORTH_PATCH_END_UNSTAG')               \n",
    "            \n",
    "            \n",
    "            \n",
    "        if data_tmp.ndim==3:\n",
    "            if var=='U':\n",
    "                we_0 = getattr(wrfnc,'WEST-EAST_PATCH_START_STAG') - 1        \n",
    "                we_1 = getattr(wrfnc,'WEST-EAST_PATCH_END_STAG')                                \n",
    "            if var=='V':\n",
    "                sn_0 = getattr(wrfnc,'SOUTH-NORTH_PATCH_START_STAG') - 1       \n",
    "                sn_1 = getattr(wrfnc,'SOUTH-NORTH_PATCH_END_STAG')                                                                       \n",
    "            data[var][:, sn_0:sn_1, we_0:we_1] = data_tmp.copy()\n",
    "        else:\n",
    "            data[var][sn_0:sn_1, we_0:we_1] = data_tmp.copy()           \n",
    "            \n",
    "    break"
   ]
  },
  {
   "cell_type": "code",
   "execution_count": 17,
   "metadata": {},
   "outputs": [],
   "source": [
    "                wrf_datetimes  = np.asarray([ to_datetime(ii) for ii in wrfnc.XTIME.data ])\n"
   ]
  },
  {
   "cell_type": "code",
   "execution_count": 26,
   "metadata": {},
   "outputs": [
    {
     "data": {
      "text/plain": [
       "(1200, 1200)"
      ]
     },
     "execution_count": 26,
     "metadata": {},
     "output_type": "execute_result"
    }
   ],
   "source": [
    "data[\"HFX\"].shape"
   ]
  },
  {
   "cell_type": "code",
   "execution_count": 53,
   "metadata": {},
   "outputs": [],
   "source": [
    "data[\"z\"] = data[\"z\"] - data[\"ter\"]"
   ]
  },
  {
   "cell_type": "markdown",
   "metadata": {},
   "source": [
    "# unstagger u and v"
   ]
  },
  {
   "cell_type": "code",
   "execution_count": 54,
   "metadata": {},
   "outputs": [],
   "source": [
    "data[\"U\"] = 0.5*(data[\"U\"][:,:,0:n_east_west_stag-1] + data[\"U\"][:,:,1:n_east_west_stag+1])"
   ]
  },
  {
   "cell_type": "code",
   "execution_count": 55,
   "metadata": {},
   "outputs": [],
   "source": [
    "data[\"V\"] = 0.5*(data[\"V\"][:,0:n_south_north_stag-1,:] + data[\"V\"][:,1:n_south_north_stag+1,:])"
   ]
  },
  {
   "cell_type": "markdown",
   "metadata": {},
   "source": [
    "# clip"
   ]
  },
  {
   "cell_type": "code",
   "execution_count": 56,
   "metadata": {},
   "outputs": [],
   "source": [
    "x,y = wrf.ll_to_xy(ref_wrfnc, data[\"XLAT\"], data[\"XLONG\"])    \n",
    "\n",
    "x   = np.reshape(x.data,data[\"wa\"].shape[1:])\n",
    "y   = np.reshape(y.data,data[\"wa\"].shape[1:])    \n",
    "\n",
    "idx_j, idx_i = np.where ( (x>=0) & (y>=0) & (x<=1200) & (y<=1200) )\n",
    "\n",
    "j0, j1 = np.min(idx_j), np.max(idx_j)\n",
    "i0, i1 = np.min(idx_i), np.max(idx_i)\n",
    "\n",
    "data2 = {}\n",
    "for var in data:\n",
    "    print (var)\n",
    "    ndim = (len(data[var].shape))\n",
    "    if ndim==3:\n",
    "        data2[var] = data[var][:,j0:j1+1,i0:i1+1].copy()\n",
    "    if ndim==2:\n",
    "        data2[var] = data[var][j0:j1+1,i0:i1+1].copy()        \n",
    "\n",
    "data = data2"
   ]
  },
  {
   "cell_type": "markdown",
   "metadata": {},
   "source": [
    "# get x,y mean"
   ]
  },
  {
   "cell_type": "code",
   "execution_count": 62,
   "metadata": {},
   "outputs": [],
   "source": [
    "data_mean = {}\n",
    "for var in [\"U\",\"V\",\"wa\",\"theta\",\"z\"]:\n",
    "    data_mean[var] = np.mean(data[var],axis=(1,2))"
   ]
  },
  {
   "cell_type": "markdown",
   "metadata": {},
   "source": [
    "# get x,y perturbations"
   ]
  },
  {
   "cell_type": "code",
   "execution_count": 63,
   "metadata": {},
   "outputs": [
    {
     "name": "stdout",
     "output_type": "stream",
     "text": [
      "U\n",
      "V\n",
      "wa\n",
      "theta\n",
      "z\n"
     ]
    }
   ],
   "source": [
    "data_prime  = {}\n",
    "for var in data_mean.keys():\n",
    "    print (var)\n",
    "    data_prime[var] = data[var] - data_mean[var][:,None,None]   "
   ]
  },
  {
   "cell_type": "markdown",
   "metadata": {},
   "source": [
    "# compute fluxes"
   ]
  },
  {
   "cell_type": "code",
   "execution_count": 64,
   "metadata": {},
   "outputs": [],
   "source": [
    "fluxes = [\"U_U\",\"V_V\",\"wa_wa\",\"U_wa\",\"V_wa\",\"U_V\",\"wa_theta\"]\n",
    "data_fluxes = {}\n",
    "for flux in fluxes:\n",
    "    var1 = flux.split(\"_\")[0]\n",
    "    var2 = flux.split(\"_\")[1]\n",
    "    data_fluxes[flux] = np.mean(data_prime[var1]*data_prime[var2],axis=(1,2))"
   ]
  },
  {
   "cell_type": "code",
   "execution_count": 65,
   "metadata": {},
   "outputs": [],
   "source": [
    "data_fluxes[\"wa_theta0\"] = np.mean(data_prime[\"wa\"]*data_prime[\"theta\"][0,:,:],axis=(1,2))"
   ]
  },
  {
   "cell_type": "markdown",
   "metadata": {},
   "source": [
    "# take a peek"
   ]
  },
  {
   "cell_type": "code",
   "execution_count": 66,
   "metadata": {},
   "outputs": [],
   "source": [
    "z_profile = data_mean[\"z\"].copy()"
   ]
  },
  {
   "cell_type": "code",
   "execution_count": 67,
   "metadata": {},
   "outputs": [],
   "source": [
    "wth_profile = data_fluxes[\"wa_theta\"].copy()"
   ]
  },
  {
   "cell_type": "code",
   "execution_count": 68,
   "metadata": {},
   "outputs": [
    {
     "data": {
      "text/plain": [
       "<matplotlib.lines.Line2D at 0x2b0fa5c032b0>"
      ]
     },
     "execution_count": 68,
     "metadata": {},
     "output_type": "execute_result"
    },
    {
     "data": {
      "image/png": "[encoded data removed]",
      "text/plain": [
       "<Figure size 432x288 with 1 Axes>"
      ]
     },
     "metadata": {
      "needs_background": "light"
     },
     "output_type": "display_data"
    }
   ],
   "source": [
    "fig = plt.figure(figsize=(6,4))\n",
    "ax  = fig.add_subplot(111)\n",
    "\n",
    "idx = np.where(z_profile<5000)[0]\n",
    "idx_zi = np.argmin(wth_profile[idx])\n",
    "zi = z_profile[idx_zi]\n",
    "\n",
    "ax.plot(wth_profile,z_profile)\n",
    "ax.set_ylim([0,5000])\n",
    "ax.axhline(y=zi,color='gray',linestyle=\":\")\n",
    "ax.axvline(x=0,color='gray',linestyle=\":\")"
   ]
  },
  {
   "cell_type": "raw",
   "metadata": {},
   "source": [
    "panel-1: (u'2+v'2+w'2+)/w*2\n",
    "panel-2: sqrt(u'w'2+v'w'2)/w*2\n",
    "panel-3: w'th'/w'th'0"
   ]
  },
  {
   "cell_type": "markdown",
   "metadata": {},
   "source": [
    "# save"
   ]
  },
  {
   "cell_type": "code",
   "execution_count": 69,
   "metadata": {},
   "outputs": [],
   "source": [
    "import pandas as pd"
   ]
  },
  {
   "cell_type": "code",
   "execution_count": 70,
   "metadata": {},
   "outputs": [],
   "source": [
    "df = pd.DataFrame(data_mean).set_index(\"z\")"
   ]
  },
  {
   "cell_type": "code",
   "execution_count": 71,
   "metadata": {},
   "outputs": [],
   "source": [
    "df[\"z_std_xy\"] = np.std(data[\"z\"],axis=(1,2))"
   ]
  },
  {
   "cell_type": "code",
   "execution_count": 72,
   "metadata": {},
   "outputs": [],
   "source": [
    "df2 = pd.DataFrame(data_fluxes).set_index(df.index)"
   ]
  },
  {
   "cell_type": "code",
   "execution_count": 73,
   "metadata": {},
   "outputs": [],
   "source": [
    "df = pd.concat([df,df2],axis=1)"
   ]
  },
  {
   "cell_type": "code",
   "execution_count": 74,
   "metadata": {},
   "outputs": [],
   "source": [
    "column_mapping = {\"U\":\"u\",\n",
    " \"V\":\"v\",\n",
    " \"wa\":\"w\",\n",
    " \"theta\":\"theta\",\n",
    " \"z_std_xy\":\"z_std_xy\",\n",
    " \"U_U\":\"u_u\",\n",
    " \"V_V\":\"v_v\",\n",
    " \"wa_wa\":\"w_w\",\n",
    " \"U_wa\":\"u_w\",\n",
    " \"V_wa\":\"v_w\",\n",
    " \"U_V\":\"u_v\",\n",
    " \"wa_theta\":\"w_theta\",\n",
    " \"wa_theta0\":\"w_theta0\"}"
   ]
  },
  {
   "cell_type": "code",
   "execution_count": 75,
   "metadata": {},
   "outputs": [],
   "source": [
    "df.columns = [ column_mapping[col_old] for col_old in df.columns ]"
   ]
  },
  {
   "cell_type": "code",
   "execution_count": 76,
   "metadata": {},
   "outputs": [
    {
     "data": {
      "text/html": [
       "<div>\n",
       "<style scoped>\n",
       "    .dataframe tbody tr th:only-of-type {\n",
       "        vertical-align: middle;\n",
       "    }\n",
       "\n",
       "    .dataframe tbody tr th {\n",
       "        vertical-align: top;\n",
       "    }\n",
       "\n",
       "    .dataframe thead th {\n",
       "        text-align: right;\n",
       "    }\n",
       "</style>\n",
       "<table border=\"1\" class=\"dataframe\">\n",
       "  <thead>\n",
       "    <tr style=\"text-align: right;\">\n",
       "      <th></th>\n",
       "      <th>u</th>\n",
       "      <th>v</th>\n",
       "      <th>w</th>\n",
       "      <th>theta</th>\n",
       "      <th>z_std_xy</th>\n",
       "      <th>u_u</th>\n",
       "      <th>v_v</th>\n",
       "      <th>w_w</th>\n",
       "      <th>u_w</th>\n",
       "      <th>v_w</th>\n",
       "      <th>u_v</th>\n",
       "      <th>w_theta</th>\n",
       "      <th>w_theta0</th>\n",
       "    </tr>\n",
       "    <tr>\n",
       "      <th>z</th>\n",
       "      <th></th>\n",
       "      <th></th>\n",
       "      <th></th>\n",
       "      <th></th>\n",
       "      <th></th>\n",
       "      <th></th>\n",
       "      <th></th>\n",
       "      <th></th>\n",
       "      <th></th>\n",
       "      <th></th>\n",
       "      <th></th>\n",
       "      <th></th>\n",
       "      <th></th>\n",
       "    </tr>\n",
       "  </thead>\n",
       "  <tbody>\n",
       "    <tr>\n",
       "      <th>5.590016</th>\n",
       "      <td>-0.324822</td>\n",
       "      <td>1.319098</td>\n",
       "      <td>-0.002386</td>\n",
       "      <td>304.318147</td>\n",
       "      <td>0.015823</td>\n",
       "      <td>1.144894</td>\n",
       "      <td>0.896708</td>\n",
       "      <td>0.002359</td>\n",
       "      <td>-0.005205</td>\n",
       "      <td>-0.008945</td>\n",
       "      <td>-0.032079</td>\n",
       "      <td>0.010142</td>\n",
       "      <td>0.010142</td>\n",
       "    </tr>\n",
       "    <tr>\n",
       "      <th>17.111373</th>\n",
       "      <td>-0.382490</td>\n",
       "      <td>1.592291</td>\n",
       "      <td>-0.003434</td>\n",
       "      <td>304.098439</td>\n",
       "      <td>0.048289</td>\n",
       "      <td>1.463748</td>\n",
       "      <td>1.086908</td>\n",
       "      <td>0.017274</td>\n",
       "      <td>-0.008020</td>\n",
       "      <td>-0.024381</td>\n",
       "      <td>-0.037726</td>\n",
       "      <td>0.033451</td>\n",
       "      <td>0.030778</td>\n",
       "    </tr>\n",
       "    <tr>\n",
       "      <th>29.346593</th>\n",
       "      <td>-0.413468</td>\n",
       "      <td>1.818832</td>\n",
       "      <td>-0.004578</td>\n",
       "      <td>303.912599</td>\n",
       "      <td>0.082608</td>\n",
       "      <td>1.638690</td>\n",
       "      <td>1.159673</td>\n",
       "      <td>0.049552</td>\n",
       "      <td>-0.012080</td>\n",
       "      <td>-0.041868</td>\n",
       "      <td>-0.041584</td>\n",
       "      <td>0.061112</td>\n",
       "      <td>0.052587</td>\n",
       "    </tr>\n",
       "    <tr>\n",
       "      <th>42.351014</th>\n",
       "      <td>-0.425649</td>\n",
       "      <td>2.001396</td>\n",
       "      <td>-0.005779</td>\n",
       "      <td>303.762330</td>\n",
       "      <td>0.119091</td>\n",
       "      <td>1.707916</td>\n",
       "      <td>1.152279</td>\n",
       "      <td>0.099631</td>\n",
       "      <td>-0.018004</td>\n",
       "      <td>-0.057810</td>\n",
       "      <td>-0.043095</td>\n",
       "      <td>0.089087</td>\n",
       "      <td>0.074252</td>\n",
       "    </tr>\n",
       "    <tr>\n",
       "      <th>56.174093</th>\n",
       "      <td>-0.425611</td>\n",
       "      <td>2.147187</td>\n",
       "      <td>-0.007002</td>\n",
       "      <td>303.647687</td>\n",
       "      <td>0.157908</td>\n",
       "      <td>1.709763</td>\n",
       "      <td>1.102389</td>\n",
       "      <td>0.164843</td>\n",
       "      <td>-0.025627</td>\n",
       "      <td>-0.070827</td>\n",
       "      <td>-0.042359</td>\n",
       "      <td>0.112523</td>\n",
       "      <td>0.094428</td>\n",
       "    </tr>\n",
       "  </tbody>\n",
       "</table>\n",
       "</div>"
      ],
      "text/plain": [
       "                  u         v         w       theta  z_std_xy       u_u  \\\n",
       "z                                                                         \n",
       "5.590016  -0.324822  1.319098 -0.002386  304.318147  0.015823  1.144894   \n",
       "17.111373 -0.382490  1.592291 -0.003434  304.098439  0.048289  1.463748   \n",
       "29.346593 -0.413468  1.818832 -0.004578  303.912599  0.082608  1.638690   \n",
       "42.351014 -0.425649  2.001396 -0.005779  303.762330  0.119091  1.707916   \n",
       "56.174093 -0.425611  2.147187 -0.007002  303.647687  0.157908  1.709763   \n",
       "\n",
       "                v_v       w_w       u_w       v_w       u_v   w_theta  \\\n",
       "z                                                                       \n",
       "5.590016   0.896708  0.002359 -0.005205 -0.008945 -0.032079  0.010142   \n",
       "17.111373  1.086908  0.017274 -0.008020 -0.024381 -0.037726  0.033451   \n",
       "29.346593  1.159673  0.049552 -0.012080 -0.041868 -0.041584  0.061112   \n",
       "42.351014  1.152279  0.099631 -0.018004 -0.057810 -0.043095  0.089087   \n",
       "56.174093  1.102389  0.164843 -0.025627 -0.070827 -0.042359  0.112523   \n",
       "\n",
       "           w_theta0  \n",
       "z                    \n",
       "5.590016   0.010142  \n",
       "17.111373  0.030778  \n",
       "29.346593  0.052587  \n",
       "42.351014  0.074252  \n",
       "56.174093  0.094428  "
      ]
     },
     "execution_count": 76,
     "metadata": {},
     "output_type": "execute_result"
    }
   ],
   "source": [
    "df.head()"
   ]
  },
  {
   "cell_type": "code",
   "execution_count": 77,
   "metadata": {},
   "outputs": [
    {
     "name": "stdout",
     "output_type": "stream",
     "text": [
      "/glade/scratch/doubrawa/postProcessing/WRF_LES_100m_CLIPPED_SPATIAL_AVERAGED_PROFILES_2018-03-21_18:30:00.csv\n"
     ]
    }
   ],
   "source": [
    "fName = os.path.join(outPath,\"WRF_LES_100m_CLIPPED_SPATIAL_AVERAGED_PROFILES_{0:%Y-%m-%d_%H:%M:%S}.csv\".format(datetime))\n",
    "print(fName)\n",
    "\n",
    "df.to_csv(fName)"
   ]
  },
  {
   "cell_type": "code",
   "execution_count": null,
   "metadata": {},
   "outputs": [],
   "source": []
  }
 ],
 "metadata": {
  "kernelspec": {
   "display_name": "Python (mwrfenv)",
   "language": "python",
   "name": "wrfenv"
  },
  "language_info": {
   "codemirror_mode": {
    "name": "ipython",
    "version": 3
   },
   "file_extension": ".py",
   "mimetype": "text/x-python",
   "name": "python",
   "nbconvert_exporter": "python",
   "pygments_lexer": "ipython3",
   "version": "3.6.6"
  }
 },
 "nbformat": 4,
 "nbformat_minor": 2
}
