{
 "cells": [
  {
   "cell_type": "markdown",
   "metadata": {},
   "source": [
    "# import packages"
   ]
  },
  {
   "cell_type": "code",
   "execution_count": 1,
   "metadata": {},
   "outputs": [],
   "source": [
    "%matplotlib inline"
   ]
  },
  {
   "cell_type": "code",
   "execution_count": 2,
   "metadata": {},
   "outputs": [],
   "source": [
    "import os, glob\n",
    "import wrf\n",
    "from netCDF4 import Dataset\n",
    "import pandas as pd\n",
    "from sys import stdout\n",
    "import numpy as np"
   ]
  },
  {
   "cell_type": "code",
   "execution_count": 3,
   "metadata": {},
   "outputs": [],
   "source": [
    "\n",
    "import xarray, wrf\n",
    "from pandas import to_datetime\n",
    "from scipy.signal import welch\n",
    "from scipy import fftpack\n",
    "from matplotlib.cm import get_cmap\n",
    "import matplotlib.pyplot as plt\n",
    "from matplotlib.ticker import FormatStrFormatter"
   ]
  },
  {
   "cell_type": "code",
   "execution_count": 4,
   "metadata": {},
   "outputs": [],
   "source": [
    "from IPython.display import Image\n",
    "\n",
    "\n",
    "import matplotlib.dates as mdates\n",
    "\n",
    "import pandas as pd"
   ]
  },
  {
   "cell_type": "code",
   "execution_count": 5,
   "metadata": {},
   "outputs": [],
   "source": [
    "fs=16\n",
    "plt.rc(\"font\",size=fs)"
   ]
  },
  {
   "cell_type": "code",
   "execution_count": 6,
   "metadata": {},
   "outputs": [],
   "source": [
    "import warnings\n",
    "warnings.simplefilter(action='ignore', category=FutureWarning)"
   ]
  },
  {
   "cell_type": "markdown",
   "metadata": {},
   "source": [
    "# define parameters"
   ]
  },
  {
   "cell_type": "code",
   "execution_count": 7,
   "metadata": {},
   "outputs": [],
   "source": [
    "figPath = \"/glade/u/home/doubrawa/figs/\""
   ]
  },
  {
   "cell_type": "code",
   "execution_count": 8,
   "metadata": {},
   "outputs": [],
   "source": [
    "outPath = \"/glade/scratch/doubrawa/post_processing/\""
   ]
  },
  {
   "cell_type": "code",
   "execution_count": 9,
   "metadata": {},
   "outputs": [],
   "source": [
    "inPath = \"/glade/scratch/doubrawa/gray_zone/mesoscale/wrf_again/\""
   ]
  },
  {
   "cell_type": "markdown",
   "metadata": {},
   "source": [
    "### define a time"
   ]
  },
  {
   "cell_type": "code",
   "execution_count": 10,
   "metadata": {},
   "outputs": [],
   "source": [
    "year     = 2015\n",
    "month    = 3"
   ]
  },
  {
   "cell_type": "code",
   "execution_count": 72,
   "metadata": {},
   "outputs": [],
   "source": [
    "days = [30]#,21,28,29,30]"
   ]
  },
  {
   "cell_type": "markdown",
   "metadata": {},
   "source": [
    "### alocate space to store pblh"
   ]
  },
  {
   "cell_type": "code",
   "execution_count": 73,
   "metadata": {},
   "outputs": [],
   "source": [
    "zi_dict = {}\n",
    "zi_std = {}"
   ]
  },
  {
   "cell_type": "code",
   "execution_count": 74,
   "metadata": {},
   "outputs": [],
   "source": [
    "# how wide of a square box should we consider when averaging zi in space? [km]\n",
    "extent_of_interest_km = 15\n",
    "# spatial resolution of domain output in x/y [km]\n",
    "dx_km = 1.0\n",
    "# which grid points does that correspond to?\n",
    "extent_of_interest_npts = int(np.round(extent_of_interest_km/dx_km))"
   ]
  },
  {
   "cell_type": "code",
   "execution_count": 75,
   "metadata": {},
   "outputs": [
    {
     "data": {
      "text/plain": [
       "15"
      ]
     },
     "execution_count": 75,
     "metadata": {},
     "output_type": "execute_result"
    }
   ],
   "source": [
    "extent_of_interest_npts"
   ]
  },
  {
   "cell_type": "code",
   "execution_count": 76,
   "metadata": {},
   "outputs": [
    {
     "name": "stdout",
     "output_type": "stream",
     "text": [
      "2015-03-30 23:50:00+00:00"
     ]
    }
   ],
   "source": [
    "# for each instant, read in the previously-patched LES fields and the gray zone wrfout fields\n",
    "\n",
    "i = 0\n",
    "\n",
    "for day in days:\n",
    "    \n",
    "    directory = os.path.join(inPath,\"03{0}15\".format(day))\n",
    "    wrfouts = sorted(glob.glob(os.path.join(directory,\"wrfout_d02*\")))\n",
    "    for wrfout in wrfouts:\n",
    "        \n",
    "        # open file\n",
    "        wrfnc = Dataset(wrfout)\n",
    "        \n",
    "        # find out what time this file is for (utc)\n",
    "        datetime_pandas = pd.Timestamp(wrf.getvar(wrfnc,\"Times\").data).tz_localize(\"UTC\")\n",
    "        \n",
    "        if datetime_pandas.hour>=14:\n",
    "\n",
    "            # print out what time it is\n",
    "            stdout.write('\\r{0}'.format(datetime_pandas))     \n",
    "\n",
    "            # get zi for entire domain\n",
    "            zi = wrf.getvar(wrfnc, \"PBLH\", timeidx=0)     \n",
    "\n",
    "            if i==0:\n",
    "                n_sn = getattr(wrfnc,\"SOUTH-NORTH_PATCH_END_UNSTAG\")\n",
    "                n_we = getattr(wrfnc,\"WEST-EAST_PATCH_END_UNSTAG\")\n",
    "\n",
    "                sn_start = int((n_sn-extent_of_interest_npts)/2)\n",
    "                sn_end = int(sn_start+extent_of_interest_npts)\n",
    "\n",
    "                we_start = int((n_we-extent_of_interest_npts)/2)\n",
    "                we_end = int(we_start+extent_of_interest_npts)\n",
    "\n",
    "            # since this is a noisy quantity, clip only to middle of domain where we will be analyzing anyway\n",
    "            zi_subset = zi.isel(south_north=np.arange(sn_start,sn_end,1)).isel(west_east=np.arange(we_start,we_end,1))\n",
    "\n",
    "            zi_dict[datetime_pandas] = np.median(zi_subset.data)\n",
    "            zi_std[datetime_pandas] = np.std(zi_subset.data)\n",
    "\n",
    "            i+=1"
   ]
  },
  {
   "cell_type": "code",
   "execution_count": 77,
   "metadata": {},
   "outputs": [],
   "source": [
    "series1 = pd.Series(zi_dict)\n",
    "series2 = pd.Series(zi_std)"
   ]
  },
  {
   "cell_type": "code",
   "execution_count": 78,
   "metadata": {},
   "outputs": [],
   "source": [
    "df = pd.concat([series1,series2],axis=1)\n",
    "df.columns = [\"median\",\"std\"]"
   ]
  },
  {
   "cell_type": "markdown",
   "metadata": {},
   "source": [
    "### visualize what came out of this..."
   ]
  },
  {
   "cell_type": "markdown",
   "metadata": {},
   "source": [
    "### save as csv"
   ]
  },
  {
   "cell_type": "code",
   "execution_count": 79,
   "metadata": {},
   "outputs": [
    {
     "data": {
      "text/plain": [
       "<ErrorbarContainer object of 3 artists>"
      ]
     },
     "execution_count": 79,
     "metadata": {},
     "output_type": "execute_result"
    },
    {
     "data": {
      "image/png": "[encoded data removed]",
      "text/plain": [
       "<Figure size 432x288 with 1 Axes>"
      ]
     },
     "metadata": {
      "needs_background": "light"
     },
     "output_type": "display_data"
    }
   ],
   "source": [
    "plt.figure()\n",
    "plt.errorbar(df.index, df['median'].values, yerr=df['std'].values)"
   ]
  },
  {
   "cell_type": "code",
   "execution_count": 80,
   "metadata": {},
   "outputs": [
    {
     "name": "stdout",
     "output_type": "stream",
     "text": [
      "PBLH_SPATIAL_AVG_15km_by_15km_D02_March30.csv\n"
     ]
    }
   ],
   "source": [
    "fout = \"PBLH_SPATIAL_AVG_{0:.0f}km_by_{0:.0f}km_D02_March{1}.csv\".format(extent_of_interest_km,day)\n",
    "print(fout)"
   ]
  },
  {
   "cell_type": "code",
   "execution_count": 81,
   "metadata": {},
   "outputs": [],
   "source": [
    "df.to_csv(os.path.join(outPath,fout))"
   ]
  },
  {
   "cell_type": "code",
   "execution_count": null,
   "metadata": {},
   "outputs": [],
   "source": []
  },
  {
   "cell_type": "code",
   "execution_count": null,
   "metadata": {},
   "outputs": [],
   "source": []
  }
 ],
 "metadata": {
  "kernelspec": {
   "display_name": "Python (mwrfenv)",
   "language": "python",
   "name": "wrfenv"
  },
  "language_info": {
   "codemirror_mode": {
    "name": "ipython",
    "version": 3
   },
   "file_extension": ".py",
   "mimetype": "text/x-python",
   "name": "python",
   "nbconvert_exporter": "python",
   "pygments_lexer": "ipython3",
   "version": "3.6.6"
  }
 },
 "nbformat": 4,
 "nbformat_minor": 2
}
