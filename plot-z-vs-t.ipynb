{
 "cells": [
  {
   "cell_type": "markdown",
   "metadata": {},
   "source": [
    "### load modules"
   ]
  },
  {
   "cell_type": "code",
   "execution_count": 1,
   "metadata": {},
   "outputs": [],
   "source": [
    "%matplotlib inline\n",
    "import numpy as np\n",
    "import os, glob\n",
    "import matplotlib.pyplot as plt\n",
    "import xarray\n",
    "import pandas as pd\n",
    "from matplotlib.dates import DateFormatter"
   ]
  },
  {
   "cell_type": "code",
   "execution_count": 2,
   "metadata": {},
   "outputs": [],
   "source": [
    "plt.rc('font',size=16)"
   ]
  },
  {
   "cell_type": "markdown",
   "metadata": {},
   "source": [
    "### define paths"
   ]
  },
  {
   "cell_type": "code",
   "execution_count": 3,
   "metadata": {},
   "outputs": [],
   "source": [
    "dataPath = '/glade2/scratch2/domingom/Cheyenne/XPIA_mesoLES/SIMULS/'\n",
    "outPath  = '/glade/scratch/doubrawa/postProcessing/'"
   ]
  },
  {
   "cell_type": "code",
   "execution_count": 4,
   "metadata": {},
   "outputs": [],
   "source": [
    "dataPaths = {\n",
    "    'LES_25'  :'/glade/scratch/doubrawa/postProcessing',\n",
    "    'LES_100' :'/glade/scratch/doubrawa/postProcessing',\n",
    "    'LES_333' :'/glade/scratch/doubrawa/VLES',\n",
    "    'SH_333'  :'/glade/scratch/doubrawa/SH',\n",
    "    'MYNN_333':'/glade/scratch/doubrawa/MYNN'}"
   ]
  },
  {
   "cell_type": "markdown",
   "metadata": {},
   "source": [
    "define some parameters"
   ]
  },
  {
   "cell_type": "code",
   "execution_count": 5,
   "metadata": {},
   "outputs": [],
   "source": [
    "lat          = 40.050028\n",
    "lon          = -105.003835\n",
    "procId       = {3:1021,4:1180}\n",
    "variables    = ['U','V','W','T','PH','PHB','HGT','RMOL']"
   ]
  },
  {
   "cell_type": "markdown",
   "metadata": {},
   "source": [
    "allocate space for data"
   ]
  },
  {
   "cell_type": "code",
   "execution_count": 6,
   "metadata": {},
   "outputs": [],
   "source": [
    "data = {}"
   ]
  },
  {
   "cell_type": "markdown",
   "metadata": {},
   "source": [
    "read in domingo's data"
   ]
  },
  {
   "cell_type": "code",
   "execution_count": 7,
   "metadata": {},
   "outputs": [],
   "source": [
    "def read_wrfout_variable(day,hour,half_hour_idx,domainId,patch,varName):    \n",
    "    wrfoutPath = glob.glob(os.path.join(dataPath,\n",
    "                       'WRF_mesoLES_4dom_RAP_2015_03_{0}_mesoLES'.format(day),\n",
    "                       'HOUR_{0}_{1}'.format(hour,half_hour_idx),\n",
    "                        'wrfout_d0{0}_2015-03-*_{1:04d}'.format(domainId,patch)))[0]    \n",
    "    ncfile = xarray.open_dataset(wrfoutPath)\n",
    "    data   = ncfile[varName]    \n",
    "    return data"
   ]
  },
  {
   "cell_type": "code",
   "execution_count": 65,
   "metadata": {},
   "outputs": [],
   "source": [
    "data = {prefix:{} for prefix in dataPaths.keys()}"
   ]
  },
  {
   "cell_type": "code",
   "execution_count": 104,
   "metadata": {},
   "outputs": [
    {
     "name": "stdout",
     "output_type": "stream",
     "text": [
      "**********************\n",
      "W                     \n",
      "domain 3\n",
      "hour 14\n",
      "hour 15\n",
      "hour 16\n",
      "hour 17\n",
      "hour 18\n",
      "hour 19\n",
      "hour 20\n",
      "hour 21\n",
      "hour 22\n",
      "hour 23\n"
     ]
    }
   ],
   "source": [
    "day           = 27\n",
    "\n",
    "for ivar,varName in enumerate(['W']):#'T','PH','PHB'\n",
    "\n",
    "    print \"**********************\"\n",
    "    print \"{0:22s}\".format(varName)\n",
    "    \n",
    "    for domainId in [3]:\n",
    "        \n",
    "        print \"domain {0}\".format(domainId)\n",
    "\n",
    "        prefix       = 'LES_25' if domainId==4 else 'LES_100'\n",
    "        firstTime    = 1             \n",
    "\n",
    "        for hour in range(14,24):\n",
    "            \n",
    "            print \"hour {0:02d}\".format(hour)\n",
    "\n",
    "            for half_hour_idx in [1,2]:\n",
    "\n",
    "                #\n",
    "                # Read in necessary patches and glue them\n",
    "                #  \n",
    "                if domainId==3:\n",
    "                    datavar = read_wrfout_variable(day,hour,half_hour_idx,domainId,1021,varName)                        \n",
    "                else:    \n",
    "                    for ipatch,patch in enumerate([1180,1220]):                \n",
    "                        datatmp = read_wrfout_variable(day,hour,half_hour_idx,domainId,patch,varName)                                                       \n",
    "                        if ipatch==0:\n",
    "                            datavar = datatmp\n",
    "                        else:                            \n",
    "                            dimName = [ x for x in datatmp.dims if 'south_north' in x ]                            \n",
    "                            datavar = xarray.concat([datavar,datatmp],dim=dimName[0])\n",
    "\n",
    "                #\n",
    "                # find closest j,i to lat,lon\n",
    "                #                   \n",
    "                j = np.argmin(np.abs(datavar.XLAT.data[0,:,0]-lat))\n",
    "                i = np.argmin(np.abs(datavar.XLONG.data[0,0,:]-lon))\n",
    "\n",
    "                #\n",
    "                # grab a ~ 300 m x 300 m box around j,i\n",
    "                #\n",
    "                npts = 1 if domainId==3 else 6\n",
    "                datavar = datavar[:,:,j-npts:j+npts+1,i-npts:i+npts+1]\n",
    "\n",
    "                #\n",
    "                # get spatial average\n",
    "                #\n",
    "                datavar = datavar.mean(axis=2)\n",
    "                datavar = datavar.mean(axis=2)            \n",
    "\n",
    "                if firstTime:\n",
    "                    data[prefix][varName] = datavar\n",
    "                    firstTime = 0\n",
    "                else:\n",
    "                    data[prefix][varName] = xarray.concat([data[prefix][varName],datavar],dim='Time')"
   ]
  },
  {
   "cell_type": "markdown",
   "metadata": {},
   "source": [
    "also grab terrain height at the desired point"
   ]
  },
  {
   "cell_type": "code",
   "execution_count": 72,
   "metadata": {},
   "outputs": [],
   "source": [
    "hgt = read_wrfout_variable(day,hour,half_hour_idx,domainId,procId[domainId],'HGT')    \n",
    "j   = np.argmin(np.abs(hgt.XLAT.data[0,:,0]-lat))\n",
    "i   = np.argmin(np.abs(hgt.XLONG.data[0,0,:]-lon))\n",
    "hgt = hgt[1,j,i]"
   ]
  },
  {
   "cell_type": "markdown",
   "metadata": {},
   "source": [
    "check that it looks decent"
   ]
  },
  {
   "cell_type": "code",
   "execution_count": 104,
   "metadata": {},
   "outputs": [],
   "source": [
    "#\n",
    "# based on min/max height, make a regular vector of heights for the mesh\n",
    "#\n",
    "zmin, zmax = np.min(timerecord[prefix]['z']), np.max(timerecord[prefix]['z'])\n",
    "z1d        = np.arange(zmin, zmax, 5.0)\n",
    "nz         = len(z1d)\n",
    "\n",
    "   "
   ]
  },
  {
   "cell_type": "code",
   "execution_count": 105,
   "metadata": {},
   "outputs": [],
   "source": [
    "#\n",
    "# also get time information and make a regular vector of times for the mesh\n",
    "#\n",
    "nt, nz    = timerecord[prefix]['z'].shape\n",
    "t1d       = range(nt)\n",
    "t1d_smart = timerecord[prefix]['PH']['XTIME'].values"
   ]
  },
  {
   "cell_type": "code",
   "execution_count": 107,
   "metadata": {},
   "outputs": [],
   "source": [
    "#\n",
    "# make the mesh\n",
    "#\n",
    "[zMesh,tMesh] = np.meshgrid(z1d,t1d_smart)"
   ]
  },
  {
   "cell_type": "code",
   "execution_count": 111,
   "metadata": {},
   "outputs": [],
   "source": [
    "#\n",
    "# allocate space to hold values of theta, then fill it up\n",
    "#\n",
    "nt,nz = zMesh.shape\n",
    "array = np.zeros((nt,nz))\n",
    "for it in range(nt):    \n",
    "    xo = zMesh[0,:]\n",
    "    xi = timerecord[prefix]['z'].data[it,1:]\n",
    "    yi = timerecord[prefix]['T'].data[it,:]\n",
    "    array[it,:] = np.interp(xo,xi,yi)"
   ]
  },
  {
   "cell_type": "code",
   "execution_count": 114,
   "metadata": {},
   "outputs": [
    {
     "data": {
      "text/plain": [
       "<matplotlib.colorbar.Colorbar at 0x2aaae5a6e650>"
      ]
     },
     "execution_count": 114,
     "metadata": {},
     "output_type": "execute_result"
    },
    {
     "data": {
      "image/png": "[encoded data removed]",
      "text/plain": [
       "<Figure size 1080x288 with 2 Axes>"
      ]
     },
     "metadata": {},
     "output_type": "display_data"
    }
   ],
   "source": [
    "plt.figure(figsize=(15,4))\n",
    "p   = plt.contourf(tMesh,zMesh,array)\n",
    "plt.colorbar(p)\n",
    "# plt.ylim([0,3000])"
   ]
  },
  {
   "cell_type": "markdown",
   "metadata": {},
   "source": [
    "read in my data"
   ]
  },
  {
   "cell_type": "code",
   "execution_count": 73,
   "metadata": {},
   "outputs": [],
   "source": [
    "variables    = ['U','V','W','T','PH','PHB','HGT','RMOL','PBLH']"
   ]
  },
  {
   "cell_type": "code",
   "execution_count": 74,
   "metadata": {},
   "outputs": [
    {
     "name": "stdout",
     "output_type": "stream",
     "text": [
      "wrfout_d03_2015-03-28_12:30:00\n",
      "wrfout_d03_2015-03-28_13:00:00\n",
      "wrfout_d03_2015-03-28_13:30:00\n",
      "wrfout_d03_2015-03-28_14:00:00\n",
      "wrfout_d03_2015-03-28_14:30:00\n",
      "wrfout_d03_2015-03-28_15:00:00\n",
      "wrfout_d03_2015-03-28_15:30:00\n",
      "wrfout_d03_2015-03-28_16:00:00\n",
      "wrfout_d03_2015-03-28_16:30:00\n",
      "wrfout_d03_2015-03-28_17:00:00\n",
      "wrfout_d03_2015-03-28_17:30:00\n",
      "wrfout_d03_2015-03-28_18:00:00\n",
      "wrfout_d03_2015-03-28_18:30:00\n",
      "wrfout_d03_2015-03-28_19:00:00\n",
      "wrfout_d03_2015-03-28_19:30:00\n",
      "wrfout_d03_2015-03-28_20:00:00\n",
      "wrfout_d03_2015-03-28_20:30:00\n",
      "wrfout_d03_2015-03-28_21:00:00\n",
      "wrfout_d03_2015-03-28_21:30:00\n",
      "wrfout_d03_2015-03-28_22:00:00\n",
      "wrfout_d03_2015-03-28_22:30:00\n",
      "wrfout_d03_2015-03-28_23:00:00\n",
      "wrfout_d03_2015-03-28_23:30:00\n",
      "wrfout_d03_2015-03-29_00:00:00\n",
      "wrfout_d03_2015-03-28_12:30:00\n",
      "wrfout_d03_2015-03-28_13:00:00\n",
      "wrfout_d03_2015-03-28_13:30:00\n",
      "wrfout_d03_2015-03-28_14:00:00\n",
      "wrfout_d03_2015-03-28_14:30:00\n",
      "wrfout_d03_2015-03-28_15:00:00\n",
      "wrfout_d03_2015-03-28_15:30:00\n",
      "wrfout_d03_2015-03-28_16:00:00\n",
      "wrfout_d03_2015-03-28_16:30:00\n",
      "wrfout_d03_2015-03-28_17:00:00\n",
      "wrfout_d03_2015-03-28_17:30:00\n",
      "wrfout_d03_2015-03-28_18:00:00\n",
      "wrfout_d03_2015-03-28_18:30:00\n",
      "wrfout_d03_2015-03-28_19:00:00\n",
      "wrfout_d03_2015-03-28_19:30:00\n",
      "wrfout_d03_2015-03-28_20:00:00\n",
      "wrfout_d03_2015-03-28_20:30:00\n",
      "wrfout_d03_2015-03-28_21:00:00\n",
      "wrfout_d03_2015-03-28_21:30:00\n",
      "wrfout_d03_2015-03-28_22:00:00\n",
      "wrfout_d03_2015-03-28_22:30:00\n",
      "wrfout_d03_2015-03-28_23:00:00\n",
      "wrfout_d03_2015-03-28_23:30:00\n",
      "wrfout_d03_2015-03-29_00:00:00\n",
      "wrfout_d03_2015-03-28_12:30:00\n",
      "wrfout_d03_2015-03-28_13:00:00\n",
      "wrfout_d03_2015-03-28_13:30:00\n",
      "wrfout_d03_2015-03-28_14:00:00\n",
      "wrfout_d03_2015-03-28_14:30:00\n",
      "wrfout_d03_2015-03-28_15:00:00\n",
      "wrfout_d03_2015-03-28_15:30:00\n",
      "wrfout_d03_2015-03-28_16:00:00\n",
      "wrfout_d03_2015-03-28_16:30:00\n",
      "wrfout_d03_2015-03-28_17:00:00\n",
      "wrfout_d03_2015-03-28_17:30:00\n",
      "wrfout_d03_2015-03-28_18:00:00\n",
      "wrfout_d03_2015-03-28_18:30:00\n",
      "wrfout_d03_2015-03-28_19:00:00\n",
      "wrfout_d03_2015-03-28_19:30:00\n",
      "wrfout_d03_2015-03-28_20:00:00\n",
      "wrfout_d03_2015-03-28_20:30:00\n",
      "wrfout_d03_2015-03-28_21:00:00\n",
      "wrfout_d03_2015-03-28_21:30:00\n",
      "wrfout_d03_2015-03-28_22:00:00\n",
      "wrfout_d03_2015-03-28_22:30:00\n",
      "wrfout_d03_2015-03-28_23:00:00\n",
      "wrfout_d03_2015-03-28_23:30:00\n",
      "wrfout_d03_2015-03-29_00:00:00\n"
     ]
    }
   ],
   "source": [
    "day           = 27\n",
    "\n",
    "for simKey in ['LES_333','SH_333','MYNN_333']:\n",
    "    \n",
    "    firstTime     = 1             \n",
    "    wrfoutPaths   = sorted(glob.glob(os.path.join(dataPaths[simKey],'03{0}15'.format(day+1),'wrfout_d03*'.format(domainId))))\n",
    "\n",
    "    for wrfoutPath in wrfoutPaths:\n",
    "        print os.path.split(wrfoutPath)[-1]\n",
    "\n",
    "        #\n",
    "        # Read in the (meta)data\n",
    "        #\n",
    "        ncfile = xarray.open_dataset(wrfoutPath)\n",
    "\n",
    "        #\n",
    "        # Define some coordinates for the xarrays\n",
    "        #\n",
    "        ncfile['west_east'] = ncfile.west_east\n",
    "        ncfile['west_east_stag'] = ncfile.west_east_stag\n",
    "\n",
    "        ncfile['south_north'] = ncfile.south_north        \n",
    "        ncfile['south_north_stag'] = ncfile.south_north_stag\n",
    "\n",
    "        ncfile['bottom_top'] = ncfile.bottom_top\n",
    "        ncfile['bottom_top_stag'] = ncfile.bottom_top_stag\n",
    "\n",
    "\n",
    "        j = np.argmin(np.abs(ncfile.XLAT.data[0,:,0]-lat))\n",
    "        i = np.argmin(np.abs(ncfile.XLONG.data[0,0,:]-lon))\n",
    "\n",
    "        varNow = ncfile[variables].isel(west_east=i, west_east_stag=i,\n",
    "                                        south_north=j, south_north_stag=j,\n",
    "                                        bottom_top=range(60), bottom_top_stag=range(60))\n",
    "        \n",
    "        if 'T' in variables:\n",
    "            # I got this + 300 K from share/wrf_timeseries.F\n",
    "            varNow['T'].data = varNow['T'].data + 300.0\n",
    "\n",
    "        if firstTime:\n",
    "            data[simKey] = varNow\n",
    "            firstTime = 0\n",
    "        else:\n",
    "            data[simKey] = xarray.concat([data[simKey],varNow],dim='Time')"
   ]
  },
  {
   "cell_type": "markdown",
   "metadata": {},
   "source": [
    "compute z and make a mesh of z vs time"
   ]
  },
  {
   "cell_type": "code",
   "execution_count": 102,
   "metadata": {},
   "outputs": [
    {
     "name": "stdout",
     "output_type": "stream",
     "text": [
      "MYNN_333\n",
      "LES_100\n",
      "LES_333\n",
      "LES_25\n",
      "SH_333\n"
     ]
    }
   ],
   "source": [
    "zMesh = {} ; tMesh = {}\n",
    "\n",
    "for ikey,key in enumerate(data.keys()):\n",
    "    \n",
    "    print key\n",
    "    \n",
    "    #\n",
    "    # calculate actual height above ground\n",
    "    #\n",
    "    data[key]['z'] = (data[key]['PH'] + data[key]['PHB'])/9.81 - hgt\n",
    "\n",
    "    #\n",
    "    # based on min/max height, make a regular vector of heights for the mesh\n",
    "    #\n",
    "    zmin, zmax = np.min(data[key]['z']), np.max(data[key]['z'])\n",
    "    z1d        = np.arange(zmin, zmax, 10.0)\n",
    "    nz         = len(z1d)\n",
    "\n",
    "    #\n",
    "    # also get time information and make a regular vector of times for the mesh\n",
    "    #\n",
    "    nt, nz    = data[key]['z'].shape\n",
    "    t1d       = range(nt)\n",
    "    t1d_smart = data[key]['PH']['XTIME'].values\n",
    "\n",
    "    #\n",
    "    # make the mesh\n",
    "    #\n",
    "    [zMesh[key],tMesh[key]] = np.meshgrid(z1d,t1d_smart)"
   ]
  },
  {
   "cell_type": "markdown",
   "metadata": {},
   "source": [
    "compute wind speed "
   ]
  },
  {
   "cell_type": "markdown",
   "metadata": {},
   "source": [
    "# unstagger this later..."
   ]
  },
  {
   "cell_type": "code",
   "execution_count": 140,
   "metadata": {},
   "outputs": [
    {
     "name": "stdout",
     "output_type": "stream",
     "text": [
      "SH_333\n",
      "LES_100\n",
      "MYNN_333\n",
      "LES_25\n",
      "LES_333\n"
     ]
    }
   ],
   "source": [
    "for ikey,key in enumerate(data.keys()):\n",
    "    \n",
    "    print key\n",
    "    \n",
    "    #\n",
    "    # calculate actual height above ground\n",
    "    #\n",
    "    data[key]['WS'] = np.sqrt(data[key]['U']**2+data[key]['V']**2)"
   ]
  },
  {
   "cell_type": "markdown",
   "metadata": {},
   "source": [
    "visualize"
   ]
  },
  {
   "cell_type": "code",
   "execution_count": 88,
   "metadata": {},
   "outputs": [],
   "source": [
    "levels = {'T':np.arange(300,320,0.5),\n",
    "          'WS':np.arange(0,20,1),\n",
    "           'W':np.arange(-5,5,0.1)}\n",
    "\n",
    "cmaps = {'T':'RdBu_r',\n",
    "         'WS':'YlGnBu',\n",
    "         'W':'seismic'}"
   ]
  },
  {
   "cell_type": "code",
   "execution_count": 91,
   "metadata": {},
   "outputs": [],
   "source": [
    "    nt,nz = zMesh[key].shape"
   ]
  },
  {
   "cell_type": "code",
   "execution_count": 92,
   "metadata": {},
   "outputs": [
    {
     "data": {
      "text/plain": [
       "3600"
      ]
     },
     "execution_count": 92,
     "metadata": {},
     "output_type": "execute_result"
    }
   ],
   "source": [
    "nt"
   ]
  },
  {
   "cell_type": "code",
   "execution_count": 93,
   "metadata": {},
   "outputs": [
    {
     "data": {
      "text/plain": [
       "2982"
      ]
     },
     "execution_count": 93,
     "metadata": {},
     "output_type": "execute_result"
    }
   ],
   "source": [
    "nz"
   ]
  },
  {
   "cell_type": "code",
   "execution_count": 94,
   "metadata": {},
   "outputs": [
    {
     "name": "stdout",
     "output_type": "stream",
     "text": [
      "(2982,)\n"
     ]
    }
   ],
   "source": [
    "xo = zMesh[key][0,:]\n",
    "print xo.shape"
   ]
  },
  {
   "cell_type": "code",
   "execution_count": 95,
   "metadata": {},
   "outputs": [
    {
     "name": "stdout",
     "output_type": "stream",
     "text": [
      "(73,)\n"
     ]
    }
   ],
   "source": [
    "xi = data[key]['z'].data[it,:]\n",
    "print xi.shape"
   ]
  },
  {
   "cell_type": "code",
   "execution_count": 96,
   "metadata": {},
   "outputs": [
    {
     "name": "stdout",
     "output_type": "stream",
     "text": [
      "(72,)\n"
     ]
    }
   ],
   "source": [
    "yi = data[key][varContour].data[it,:]\n",
    "print yi.shape        "
   ]
  },
  {
   "cell_type": "code",
   "execution_count": 103,
   "metadata": {},
   "outputs": [
    {
     "name": "stdout",
     "output_type": "stream",
     "text": [
      "LES_25\n",
      "LES_100\n"
     ]
    },
    {
     "data": {
      "image/png": "[encoded data removed]",
      "text/plain": [
       "<Figure size 1152x576 with 4 Axes>"
      ]
     },
     "metadata": {},
     "output_type": "display_data"
    }
   ],
   "source": [
    "varContour = 'T'\n",
    "tStartUTC  = np.datetime64('2015-03-28 14:00')\n",
    "tEndUTC    = np.datetime64('2015-03-29 00:00')\n",
    "zMax       = 3000\n",
    "\n",
    "keys = ['LES_25','LES_100']#,'LES_333','SH_333','MYNN_333']\n",
    "\n",
    "fig = plt.figure(figsize=(16,4*len(keys)))\n",
    "ax  = {}\n",
    "\n",
    "for iax,key in enumerate(keys):\n",
    "    \n",
    "    print key\n",
    "    \n",
    "    if iax==0:\n",
    "        ax[iax] = fig.add_subplot(len(keys),1,iax+1)\n",
    "    else:\n",
    "        ax[iax] = fig.add_subplot(len(keys),1,iax+1,sharex=ax[0],sharey=ax[0])\n",
    "\n",
    "    #\n",
    "    # allocate space to hold values of theta, then fill it up\n",
    "    #\n",
    "    nt,nz = zMesh[key].shape\n",
    "    array = np.zeros((nt,nz))\n",
    "    for it in range(nt):    \n",
    "        xo = zMesh[key][0,:]\n",
    "        xi = data[key]['z'].data[it,:][1:]\n",
    "        yi = data[key][varContour].data[it,:]+300\n",
    "        array[it,:] = np.interp(xo,xi,yi)\n",
    "\n",
    "    #\n",
    "    # contour plot\n",
    "    #\n",
    "    p   = ax[iax].contourf(tMesh[key],zMesh[key],array,levels=levels[varContour],cmap=cmaps[varContour])\n",
    "    plt.colorbar(p)\n",
    "\n",
    "    ax[iax].set_ylim([0,zMax])\n",
    "    ax[iax].set_xlim([tStartUTC,tEndUTC])\n",
    "\n",
    "    ax[iax].set_ylabel('z$_{{AGL}}$ [m]')\n",
    "    ax[iax].xaxis.set_major_formatter(DateFormatter('%H:%M'))\n",
    "    \n",
    "    ax[iax].tick_params(which='both',direction='in')    \n",
    "    if iax<(len(keys)-1):\n",
    "        plt.setp(ax[iax].get_xticklabels(), visible=False)\n",
    "        \n",
    "    ax[iax].text(0.05,0.9,key,verticalalignment='center', transform=ax[iax].transAxes)\n",
    "    \n",
    "    #\n",
    "    # \n",
    "    #\n",
    "    if 'LES' not in key:\n",
    "        if 'PBLH' in data[key].keys():\n",
    "            xaxis = data[key]['PBLH']['XTIME'].values\n",
    "            yaxis = data[key]['PBLH'].data\n",
    "            ax[iax].plot(xaxis,yaxis,'o',mfc='None',mec='k')\n",
    "        \n",
    "yticks = ax[iax].get_yticks()[1:]\n",
    "ax[iax].set_yticks(yticks)\n",
    "ax[iax].set_xlabel('Timestamp [UTC]')\n",
    "fig.subplots_adjust(hspace=0.1)"
   ]
  },
  {
   "cell_type": "code",
   "execution_count": 99,
   "metadata": {},
   "outputs": [],
   "source": [
    "# varContour = 'W'\n",
    "# tStartUTC  = np.datetime64('2015-03-28 14:00')\n",
    "# tEndUTC    = np.datetime64('2015-03-29 00:00')\n",
    "# zMax       = 3000\n",
    "\n",
    "# keys = ['LES_25','LES_100','LES_333','SH_333','MYNN_333']\n",
    "\n",
    "# fig = plt.figure(figsize=(16,4*len(keys)))\n",
    "# ax  = {}\n",
    "\n",
    "# for iax,key in enumerate(keys):\n",
    "    \n",
    "#     if iax==0:\n",
    "#         ax[iax] = fig.add_subplot(len(keys),1,iax+1)\n",
    "#     else:\n",
    "#         ax[iax] = fig.add_subplot(len(keys),1,iax+1,sharex=ax[0],sharey=ax[0])\n",
    "\n",
    "#     #\n",
    "#     # allocate space to hold values of theta, then fill it up\n",
    "#     #\n",
    "#     nt,nz = zMesh[key].shape\n",
    "#     array = np.zeros((nt,nz))\n",
    "#     for it in range(nt):    \n",
    "#         xo = zMesh[key][0,:]\n",
    "#         xi = data[key]['z'].data[it,:]\n",
    "#         yi = data[key][varContour].data[it,:]\n",
    "#         array[it,:] = np.interp(xo,xi,yi)\n",
    "\n",
    "#     #\n",
    "#     # contour plot\n",
    "#     #\n",
    "#     p   = ax[iax].contourf(tMesh[key],zMesh[key],array,levels=levels[varContour],cmap=cmaps[varContour])\n",
    "#     plt.colorbar(p)\n",
    "\n",
    "#     ax[iax].set_ylim([0,zMax])\n",
    "#     ax[iax].set_xlim([tStartUTC,tEndUTC])\n",
    "\n",
    "#     ax[iax].set_ylabel('z$_{{AGL}}$ [m]')\n",
    "#     ax[iax].xaxis.set_major_formatter(DateFormatter('%H:%M'))\n",
    "    \n",
    "#     ax[iax].tick_params(which='both',direction='in')    \n",
    "#     if iax<(len(keys)-1):\n",
    "#         plt.setp(ax[iax].get_xticklabels(), visible=False)\n",
    "        \n",
    "#     ax[iax].text(0.05,0.9,key,verticalalignment='center', transform=ax[iax].transAxes)\n",
    "    \n",
    "#     #\n",
    "#     # \n",
    "#     #\n",
    "#     if 'LES' not in key:\n",
    "#         if 'PBLH' in data[key].keys():\n",
    "#             xaxis = data[key]['PBLH']['XTIME'].values\n",
    "#             yaxis = data[key]['PBLH'].data\n",
    "#             ax[iax].plot(xaxis,yaxis,'o',mfc='None',mec='k')\n",
    "        \n",
    "# yticks = ax[iax].get_yticks()[1:]\n",
    "# ax[iax].set_yticks(yticks)\n",
    "# ax[iax].set_xlabel('Timestamp [UTC]')\n",
    "# fig.subplots_adjust(hspace=0.1)"
   ]
  },
  {
   "cell_type": "code",
   "execution_count": null,
   "metadata": {},
   "outputs": [],
   "source": []
  }
 ],
 "metadata": {
  "kernelspec": {
   "display_name": "Python 2",
   "language": "python",
   "name": "python2"
  },
  "language_info": {
   "codemirror_mode": {
    "name": "ipython",
    "version": 2
   },
   "file_extension": ".py",
   "mimetype": "text/x-python",
   "name": "python",
   "nbconvert_exporter": "python",
   "pygments_lexer": "ipython2",
   "version": "2.7.14"
  }
 },
 "nbformat": 4,
 "nbformat_minor": 2
}
