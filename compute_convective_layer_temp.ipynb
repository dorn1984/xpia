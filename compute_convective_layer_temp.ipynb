{
 "cells": [
  {
   "cell_type": "code",
   "execution_count": 1,
   "metadata": {},
   "outputs": [],
   "source": [
    "import numpy as np\n",
    "import pandas as pd\n",
    "import os\n",
    "import sys\n",
    "import funcs as f\n",
    "import xarray "
   ]
  },
  {
   "cell_type": "code",
   "execution_count": 2,
   "metadata": {},
   "outputs": [],
   "source": [
    "outpath       = \"/Volumes/Baby-Orange/XPIA-NCAR/processed/\"\n",
    "datapath      = \"/Volumes/Baby-Orange/XPIA-NCAR/rawest/\""
   ]
  },
  {
   "cell_type": "code",
   "execution_count": 8,
   "metadata": {},
   "outputs": [],
   "source": [
    "df_zi       = pd.read_csv(\"/Volumes/Baby-Orange/XPIA-NCAR/processed/ziL_all_days.csv\", header=None, index_col=[0], parse_dates=True)"
   ]
  },
  {
   "cell_type": "code",
   "execution_count": 9,
   "metadata": {},
   "outputs": [
    {
     "name": "stdout",
     "output_type": "stream",
     "text": [
      "299"
     ]
    }
   ],
   "source": [
    "sims=[\"LES\",\"vles\",\"mynn\",\"ysu\",\"sh\"]\n",
    "\n",
    "datetimes = []\n",
    "year      = 2015\n",
    "month     = 3\n",
    "days      = [20, 21, 28, 29, 30] #20\n",
    "hours     = np.arange(14,24,1)\n",
    "minutes   = np.arange(0,60,10)\n",
    "\n",
    "it = 0\n",
    "for day in days:\n",
    "    for hour in hours:\n",
    "        for minute in minutes:\n",
    "            sys.stdout.write('\\r'+str(it))\n",
    "            datetime = pd.Timestamp(year=year,month=month,day=day,hour=hour,minute=minute)\n",
    "            datetimes.append(datetime) \n",
    "            it += 1"
   ]
  },
  {
   "cell_type": "code",
   "execution_count": 10,
   "metadata": {},
   "outputs": [
    {
     "name": "stdout",
     "output_type": "stream",
     "text": [
      "will consider RLES points between 300 and 900 (600 pts)\n",
      "will consider VLES, YSU, SH, MYNN points between 23 and 68 (45 pts)\n"
     ]
    }
   ],
   "source": [
    "# how much distance should we consider along x and y?\n",
    "box_side = 15000 # 15 km\n",
    "\n",
    "les_npts= int(box_side/25.0)\n",
    "tot_pts = 1200\n",
    "les_pt1 = int((tot_pts/2)-les_npts/2)\n",
    "les_pt2 = les_pt1 + les_npts\n",
    "les_pts = np.arange(les_pt1,les_pt2,1)\n",
    "les_pts = [int(a) for a in les_pts]\n",
    "\n",
    "# MUST FIX THESE\n",
    "gz_npts = int(box_side/333.0)\n",
    "tot_pts = 90\n",
    "gz_pt1  = int((tot_pts/2)-int(gz_npts/2))\n",
    "gz_pt2  = gz_pt1 + gz_npts\n",
    "gz_pts  = np.arange(gz_pt1,gz_pt2,1)\n",
    "# sim = \"LES\"\n",
    "print(\"will consider RLES points between {0} and {1} ({2} pts)\".format(les_pt1, les_pt2,len(les_pts)))\n",
    "print(\"will consider VLES, YSU, SH, MYNN points between {0} and {1} ({2} pts)\".format(gz_pt1, gz_pt2,len(gz_pts)))"
   ]
  },
  {
   "cell_type": "code",
   "execution_count": 13,
   "metadata": {},
   "outputs": [
    {
     "name": "stdout",
     "output_type": "stream",
     "text": [
      "2015-03-30_23:50"
     ]
    }
   ],
   "source": [
    "convective_layer_temps = pd.DataFrame(index=datetimes,columns=sims)   \n",
    "\n",
    "for datetime in datetimes:\n",
    "\n",
    "    zi           = df_zi.loc[datetime].values[0]   \n",
    "    datetime_str = \"{0:%Y-%m-%d_%H:%M}\".format(datetime)\n",
    "\n",
    "    sys.stdout.write('\\r'+datetime_str)\n",
    "    \n",
    "    for sim in sims:        \n",
    "\n",
    "        pts = gz_pts if sim!=\"LES\" else les_pts                \n",
    "        \n",
    "        sim_prefix       = sim+\"_25m\" if sim==\"LES\" else sim\n",
    "        fpath            = os.path.join(datapath,\"WRF_{0}_3D_{1}_plus_filtered.nc\".format(sim_prefix,datetime_str))    \n",
    "        data             = xarray.open_dataset(fpath)\n",
    "\n",
    "        z         = data['z'].copy()\n",
    "        zmean     = np.median(z.values,axis=(1,2))\n",
    "        z_zi      = zmean/zi    \n",
    "        k         = np.argmin(np.abs(z_zi-1.0))                    \n",
    "        \n",
    "        layer_temp = data[\"theta\"].isel(west_east=pts).isel(south_north=pts)\n",
    "        layer_temp = layer_temp.values\n",
    "        layer_temp = layer_temp[k,...].copy()\n",
    "        convective_layer_temps.loc[datetime,sim] = np.median(layer_temp)"
   ]
  },
  {
   "cell_type": "markdown",
   "metadata": {},
   "source": [
    "# save"
   ]
  },
  {
   "cell_type": "code",
   "execution_count": 16,
   "metadata": {},
   "outputs": [],
   "source": [
    "days = [20,21,28,29,30]"
   ]
  },
  {
   "cell_type": "code",
   "execution_count": 18,
   "metadata": {},
   "outputs": [
    {
     "name": "stdout",
     "output_type": "stream",
     "text": [
      "/Volumes/Baby-Orange/XPIA-NCAR/processed/T_LAYER_SPATIAL_AVG_15km_by_15km_March20.csv\n",
      "/Volumes/Baby-Orange/XPIA-NCAR/processed/T_LAYER_SPATIAL_AVG_15km_by_15km_March21.csv\n",
      "/Volumes/Baby-Orange/XPIA-NCAR/processed/T_LAYER_SPATIAL_AVG_15km_by_15km_March28.csv\n",
      "/Volumes/Baby-Orange/XPIA-NCAR/processed/T_LAYER_SPATIAL_AVG_15km_by_15km_March29.csv\n",
      "/Volumes/Baby-Orange/XPIA-NCAR/processed/T_LAYER_SPATIAL_AVG_15km_by_15km_March30.csv\n"
     ]
    }
   ],
   "source": [
    "for day in days:\n",
    "    daydata = convective_layer_temps.loc['2015-03-{0}'.format(day)].copy()\n",
    "    #print (daydata.head())\n",
    "    #print (daydata.tail())\n",
    "    fout = os.path.join(outpath,\"T_LAYER_SPATIAL_AVG_15km_by_15km_March{0}.csv\".format(day))\n",
    "    print(fout)    \n",
    "    daydata.to_csv(fout)"
   ]
  }
 ],
 "metadata": {
  "kernelspec": {
   "display_name": "Python 3",
   "language": "python",
   "name": "python3"
  },
  "language_info": {
   "codemirror_mode": {
    "name": "ipython",
    "version": 3
   },
   "file_extension": ".py",
   "mimetype": "text/x-python",
   "name": "python",
   "nbconvert_exporter": "python",
   "pygments_lexer": "ipython3",
   "version": "3.6.8"
  }
 },
 "nbformat": 4,
 "nbformat_minor": 2
}
