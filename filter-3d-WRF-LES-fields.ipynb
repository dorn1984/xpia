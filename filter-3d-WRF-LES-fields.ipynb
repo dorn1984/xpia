{
 "cells": [
  {
   "cell_type": "code",
   "execution_count": 3,
   "metadata": {},
   "outputs": [],
   "source": [
    "import glob, os\n",
    "import xarray\n",
    "from scipy import fftpack\n",
    "import numpy as np\n",
    "import matplotlib.pyplot as plt\n",
    "fs=14\n",
    "plt.rc(\"font\",size=fs)"
   ]
  },
  {
   "cell_type": "code",
   "execution_count": 4,
   "metadata": {},
   "outputs": [],
   "source": [
    "import numpy.matlib"
   ]
  },
  {
   "cell_type": "code",
   "execution_count": 5,
   "metadata": {},
   "outputs": [],
   "source": [
    "filter_meters = 333.*6\n",
    "kappa_cut = 1/float(filter_meters)\n",
    "wrf_dx = 25.0\n",
    "wrf_dy = 25.0"
   ]
  },
  {
   "cell_type": "code",
   "execution_count": 6,
   "metadata": {},
   "outputs": [],
   "source": [
    "inpath = \"/glade/scratch/doubrawa/post_processing/\""
   ]
  },
  {
   "cell_type": "code",
   "execution_count": 13,
   "metadata": {},
   "outputs": [],
   "source": [
    "fnames = sorted(glob.glob(os.path.join(inpath,\"WRF_LES_25m_3D_*03-*0.nc\")))"
   ]
  },
  {
   "cell_type": "markdown",
   "metadata": {},
   "source": [
    "### the hamming filter only needs to be created once -- create it now"
   ]
  },
  {
   "cell_type": "code",
   "execution_count": 8,
   "metadata": {},
   "outputs": [],
   "source": [
    "Nx = 1200\n",
    "Ny = 1200\n",
    "\n",
    "# combo of uniform window in the middle and hamming window on edges:\n",
    "npts_buffer = 50 \n",
    "\n",
    "# create a 1-d hamming window : hamm_1d.shape = (100,)\n",
    "hamm_1d     = np.hamming(npts_buffer*2)\n",
    "# repeat it : B.shape = (100, 100)\n",
    "B           = np.matlib.repmat(hamm_1d,npts_buffer*2,1)\n",
    "# transpose it : C.shape = (100,100)\n",
    "C           = np.transpose(B)\n",
    "# now get the two-dimensional hamming window : hamm_2d_s.shape = (100,100)\n",
    "hamm_2d_s   = B*C\n",
    "\n",
    "# allocate space for the final 2d-filter\n",
    "hamm_2d = np.zeros([Ny,Nx])\n",
    "\n",
    "# fill it with ones (no filter) anywhere that the window won't be applied (inside the domain, anywhere inside the buffer)        \n",
    "for ii in range(0+npts_buffer,Nx-npts_buffer):\n",
    "    for jj in range(0+npts_buffer,Ny-npts_buffer):\n",
    "        hamm_2d[jj,ii] = 1.0\n",
    "        \n",
    "# now put the filter values in there\n",
    "\n",
    "# south west corner\n",
    "hamm_2d[0:npts_buffer,0:npts_buffer] = hamm_2d_s[0:npts_buffer,0:npts_buffer]\n",
    "\n",
    "# south east corner\n",
    "hamm_2d[0:npts_buffer,Nx-npts_buffer:Nx] = hamm_2d_s[0:npts_buffer,2*npts_buffer-npts_buffer:2*npts_buffer]\n",
    "\n",
    "# north west corner\n",
    "hamm_2d[Ny-npts_buffer:Ny,0:npts_buffer] = hamm_2d_s[2*npts_buffer-npts_buffer:2*npts_buffer,0:npts_buffer]\n",
    "\n",
    "# north east corner\n",
    "hamm_2d[Ny-npts_buffer:Ny,Nx-npts_buffer:Nx] = hamm_2d_s[2*npts_buffer-npts_buffer:2*npts_buffer,2*npts_buffer-npts_buffer:2*npts_buffer]\n",
    "\n",
    "# south boundary\n",
    "hann_tmp = hamm_1d[0:npts_buffer]\n",
    "len_tmp  = Nx-2*npts_buffer\n",
    "hann_tmp = np.matlib.repmat(hann_tmp,len_tmp,1)\n",
    "hann_tmp = np.transpose(hann_tmp)\n",
    "hamm_2d[0:npts_buffer,npts_buffer:Nx-npts_buffer] = hann_tmp\n",
    "\n",
    "# north boundary\n",
    "hann_tmp = hamm_1d[npts_buffer:2*npts_buffer]\n",
    "len_tmp  = Nx-2*npts_buffer\n",
    "hann_tmp = np.matlib.repmat(hann_tmp,len_tmp,1)\n",
    "hann_tmp = np.transpose(hann_tmp)\n",
    "hamm_2d[Ny-npts_buffer:Ny,npts_buffer:Nx-npts_buffer] = hann_tmp\n",
    "\n",
    "# west boundary\n",
    "hann_tmp = hamm_1d[0:npts_buffer]\n",
    "len_tmp  = Ny-2*npts_buffer\n",
    "hann_tmp = np.matlib.repmat(hann_tmp,len_tmp,1)\n",
    "hamm_2d[npts_buffer:Ny-npts_buffer,0:npts_buffer] = hann_tmp\n",
    "\n",
    "# east boundary\n",
    "hann_tmp = hamm_1d[npts_buffer:2*npts_buffer]\n",
    "len_tmp  = Ny-2*npts_buffer\n",
    "hann_tmp = np.matlib.repmat(hann_tmp,len_tmp,1)\n",
    "hamm_2d[npts_buffer:Ny-npts_buffer,Nx-npts_buffer:Nx] = hann_tmp"
   ]
  },
  {
   "cell_type": "code",
   "execution_count": 9,
   "metadata": {},
   "outputs": [
    {
     "data": {
      "text/plain": [
       "<matplotlib.colorbar.Colorbar at 0x2b586a38a198>"
      ]
     },
     "execution_count": 9,
     "metadata": {},
     "output_type": "execute_result"
    },
    {
     "data": {
      "image/png": "[encoded data removed]",
      "text/plain": [
       "<Figure size 432x288 with 2 Axes>"
      ]
     },
     "metadata": {
      "needs_background": "light"
     },
     "output_type": "display_data"
    }
   ],
   "source": [
    "plt.imshow(hamm_2d);plt.colorbar()"
   ]
  },
  {
   "cell_type": "markdown",
   "metadata": {},
   "source": [
    "### prepare a butterworth filter"
   ]
  },
  {
   "cell_type": "code",
   "execution_count": 10,
   "metadata": {},
   "outputs": [],
   "source": [
    "n_ord = 12 # order of the Butterworth filter\n",
    "x_len = Nx\n",
    "y_len = Ny\n",
    "kappas_1dx = fftpack.fftfreq(x_len,d=wrf_dx)\n",
    "kappas_1dy = fftpack.fftfreq(y_len,d=wrf_dx)\n",
    "[kx_2d,ky_2d] = np.meshgrid(kappas_1dx,kappas_1dy)\n",
    "k_xy_2d = np.sqrt(np.power(kx_2d,2.0)+np.power(ky_2d,2.0))\n",
    "BWnth_2d_f = 1.0/(np.sqrt(1.0+(np.power(k_xy_2d/kappa_cut,2*n_ord))))"
   ]
  },
  {
   "cell_type": "code",
   "execution_count": 11,
   "metadata": {},
   "outputs": [
    {
     "data": {
      "text/plain": [
       "<matplotlib.colorbar.Colorbar at 0x2b586a567c18>"
      ]
     },
     "execution_count": 11,
     "metadata": {},
     "output_type": "execute_result"
    },
    {
     "data": {
      "image/png": "[encoded data removed]",
      "text/plain": [
       "<Figure size 432x288 with 2 Axes>"
      ]
     },
     "metadata": {
      "needs_background": "light"
     },
     "output_type": "display_data"
    }
   ],
   "source": [
    "plt.imshow(BWnth_2d_f); plt.colorbar()"
   ]
  },
  {
   "cell_type": "code",
   "execution_count": 23,
   "metadata": {},
   "outputs": [],
   "source": [
    "fnames = fnames[0:60] + fnames[120:]"
   ]
  },
  {
   "cell_type": "code",
   "execution_count": 25,
   "metadata": {},
   "outputs": [
    {
     "name": "stdout",
     "output_type": "stream",
     "text": [
      "/glade/scratch/doubrawa/post_processing/WRF_LES_25m_3D_2015-03-20_14:00.nc\n",
      "u\n"
     ]
    },
    {
     "name": "stderr",
     "output_type": "stream",
     "text": [
      "/glade/u/home/doubrawa/anaconda2/envs/wrfenv/lib/python3.6/site-packages/scipy/fftpack/basic.py:160: FutureWarning: Using a non-tuple sequence for multidimensional indexing is deprecated; use `arr[tuple(seq)]` instead of `arr[seq]`. In the future this will be interpreted as an array index, `arr[np.array(seq)]`, which will result either in an error or a different result.\n",
      "  z[index] = x\n"
     ]
    },
    {
     "name": "stdout",
     "output_type": "stream",
     "text": [
      "v\n",
      "w\n",
      "theta\n",
      "===> /glade/scratch/doubrawa/post_processing/WRF_LES_25m_3D_2015-03-20_14:00_plus_filtered.nc\n",
      "/glade/scratch/doubrawa/post_processing/WRF_LES_25m_3D_2015-03-20_14:10.nc\n",
      "u\n"
     ]
    },
    {
     "name": "stderr",
     "output_type": "stream",
     "text": [
      "/glade/u/home/doubrawa/anaconda2/envs/wrfenv/lib/python3.6/site-packages/scipy/fftpack/basic.py:160: FutureWarning: Using a non-tuple sequence for multidimensional indexing is deprecated; use `arr[tuple(seq)]` instead of `arr[seq]`. In the future this will be interpreted as an array index, `arr[np.array(seq)]`, which will result either in an error or a different result.\n",
      "  z[index] = x\n"
     ]
    },
    {
     "name": "stdout",
     "output_type": "stream",
     "text": [
      "v\n",
      "w\n",
      "theta\n",
      "===> /glade/scratch/doubrawa/post_processing/WRF_LES_25m_3D_2015-03-20_14:10_plus_filtered.nc\n",
      "/glade/scratch/doubrawa/post_processing/WRF_LES_25m_3D_2015-03-20_14:20.nc\n",
      "u\n"
     ]
    },
    {
     "name": "stderr",
     "output_type": "stream",
     "text": [
      "/glade/u/home/doubrawa/anaconda2/envs/wrfenv/lib/python3.6/site-packages/scipy/fftpack/basic.py:160: FutureWarning: Using a non-tuple sequence for multidimensional indexing is deprecated; use `arr[tuple(seq)]` instead of `arr[seq]`. In the future this will be interpreted as an array index, `arr[np.array(seq)]`, which will result either in an error or a different result.\n",
      "  z[index] = x\n"
     ]
    },
    {
     "name": "stdout",
     "output_type": "stream",
     "text": [
      "v\n",
      "w\n",
      "theta\n",
      "===> /glade/scratch/doubrawa/post_processing/WRF_LES_25m_3D_2015-03-20_14:20_plus_filtered.nc\n",
      "/glade/scratch/doubrawa/post_processing/WRF_LES_25m_3D_2015-03-20_14:30.nc\n",
      "u\n"
     ]
    },
    {
     "name": "stderr",
     "output_type": "stream",
     "text": [
      "/glade/u/home/doubrawa/anaconda2/envs/wrfenv/lib/python3.6/site-packages/scipy/fftpack/basic.py:160: FutureWarning: Using a non-tuple sequence for multidimensional indexing is deprecated; use `arr[tuple(seq)]` instead of `arr[seq]`. In the future this will be interpreted as an array index, `arr[np.array(seq)]`, which will result either in an error or a different result.\n",
      "  z[index] = x\n"
     ]
    },
    {
     "name": "stdout",
     "output_type": "stream",
     "text": [
      "v\n",
      "w\n",
      "theta\n",
      "===> /glade/scratch/doubrawa/post_processing/WRF_LES_25m_3D_2015-03-20_14:30_plus_filtered.nc\n",
      "/glade/scratch/doubrawa/post_processing/WRF_LES_25m_3D_2015-03-20_14:40.nc\n",
      "u\n"
     ]
    },
    {
     "name": "stderr",
     "output_type": "stream",
     "text": [
      "/glade/u/home/doubrawa/anaconda2/envs/wrfenv/lib/python3.6/site-packages/scipy/fftpack/basic.py:160: FutureWarning: Using a non-tuple sequence for multidimensional indexing is deprecated; use `arr[tuple(seq)]` instead of `arr[seq]`. In the future this will be interpreted as an array index, `arr[np.array(seq)]`, which will result either in an error or a different result.\n",
      "  z[index] = x\n"
     ]
    },
    {
     "name": "stdout",
     "output_type": "stream",
     "text": [
      "v\n",
      "w\n",
      "theta\n",
      "===> /glade/scratch/doubrawa/post_processing/WRF_LES_25m_3D_2015-03-20_14:40_plus_filtered.nc\n",
      "/glade/scratch/doubrawa/post_processing/WRF_LES_25m_3D_2015-03-20_14:50.nc\n",
      "u\n"
     ]
    },
    {
     "name": "stderr",
     "output_type": "stream",
     "text": [
      "/glade/u/home/doubrawa/anaconda2/envs/wrfenv/lib/python3.6/site-packages/scipy/fftpack/basic.py:160: FutureWarning: Using a non-tuple sequence for multidimensional indexing is deprecated; use `arr[tuple(seq)]` instead of `arr[seq]`. In the future this will be interpreted as an array index, `arr[np.array(seq)]`, which will result either in an error or a different result.\n",
      "  z[index] = x\n"
     ]
    },
    {
     "name": "stdout",
     "output_type": "stream",
     "text": [
      "v\n",
      "w\n",
      "theta\n",
      "===> /glade/scratch/doubrawa/post_processing/WRF_LES_25m_3D_2015-03-20_14:50_plus_filtered.nc\n",
      "/glade/scratch/doubrawa/post_processing/WRF_LES_25m_3D_2015-03-20_15:00.nc\n",
      "u\n"
     ]
    },
    {
     "name": "stderr",
     "output_type": "stream",
     "text": [
      "/glade/u/home/doubrawa/anaconda2/envs/wrfenv/lib/python3.6/site-packages/scipy/fftpack/basic.py:160: FutureWarning: Using a non-tuple sequence for multidimensional indexing is deprecated; use `arr[tuple(seq)]` instead of `arr[seq]`. In the future this will be interpreted as an array index, `arr[np.array(seq)]`, which will result either in an error or a different result.\n",
      "  z[index] = x\n"
     ]
    },
    {
     "name": "stdout",
     "output_type": "stream",
     "text": [
      "v\n",
      "w\n",
      "theta\n",
      "===> /glade/scratch/doubrawa/post_processing/WRF_LES_25m_3D_2015-03-20_15:00_plus_filtered.nc\n",
      "/glade/scratch/doubrawa/post_processing/WRF_LES_25m_3D_2015-03-20_15:10.nc\n",
      "u\n"
     ]
    },
    {
     "name": "stderr",
     "output_type": "stream",
     "text": [
      "/glade/u/home/doubrawa/anaconda2/envs/wrfenv/lib/python3.6/site-packages/scipy/fftpack/basic.py:160: FutureWarning: Using a non-tuple sequence for multidimensional indexing is deprecated; use `arr[tuple(seq)]` instead of `arr[seq]`. In the future this will be interpreted as an array index, `arr[np.array(seq)]`, which will result either in an error or a different result.\n",
      "  z[index] = x\n"
     ]
    },
    {
     "name": "stdout",
     "output_type": "stream",
     "text": [
      "v\n",
      "w\n",
      "theta\n",
      "===> /glade/scratch/doubrawa/post_processing/WRF_LES_25m_3D_2015-03-20_15:10_plus_filtered.nc\n",
      "/glade/scratch/doubrawa/post_processing/WRF_LES_25m_3D_2015-03-20_15:20.nc\n",
      "u\n"
     ]
    },
    {
     "name": "stderr",
     "output_type": "stream",
     "text": [
      "/glade/u/home/doubrawa/anaconda2/envs/wrfenv/lib/python3.6/site-packages/scipy/fftpack/basic.py:160: FutureWarning: Using a non-tuple sequence for multidimensional indexing is deprecated; use `arr[tuple(seq)]` instead of `arr[seq]`. In the future this will be interpreted as an array index, `arr[np.array(seq)]`, which will result either in an error or a different result.\n",
      "  z[index] = x\n"
     ]
    },
    {
     "name": "stdout",
     "output_type": "stream",
     "text": [
      "v\n",
      "w\n",
      "theta\n",
      "===> /glade/scratch/doubrawa/post_processing/WRF_LES_25m_3D_2015-03-20_15:20_plus_filtered.nc\n",
      "/glade/scratch/doubrawa/post_processing/WRF_LES_25m_3D_2015-03-20_15:30.nc\n",
      "u\n"
     ]
    },
    {
     "name": "stderr",
     "output_type": "stream",
     "text": [
      "/glade/u/home/doubrawa/anaconda2/envs/wrfenv/lib/python3.6/site-packages/scipy/fftpack/basic.py:160: FutureWarning: Using a non-tuple sequence for multidimensional indexing is deprecated; use `arr[tuple(seq)]` instead of `arr[seq]`. In the future this will be interpreted as an array index, `arr[np.array(seq)]`, which will result either in an error or a different result.\n",
      "  z[index] = x\n"
     ]
    },
    {
     "name": "stdout",
     "output_type": "stream",
     "text": [
      "v\n",
      "w\n",
      "theta\n",
      "===> /glade/scratch/doubrawa/post_processing/WRF_LES_25m_3D_2015-03-20_15:30_plus_filtered.nc\n",
      "/glade/scratch/doubrawa/post_processing/WRF_LES_25m_3D_2015-03-20_15:40.nc\n",
      "u\n"
     ]
    },
    {
     "name": "stderr",
     "output_type": "stream",
     "text": [
      "/glade/u/home/doubrawa/anaconda2/envs/wrfenv/lib/python3.6/site-packages/scipy/fftpack/basic.py:160: FutureWarning: Using a non-tuple sequence for multidimensional indexing is deprecated; use `arr[tuple(seq)]` instead of `arr[seq]`. In the future this will be interpreted as an array index, `arr[np.array(seq)]`, which will result either in an error or a different result.\n",
      "  z[index] = x\n"
     ]
    },
    {
     "name": "stdout",
     "output_type": "stream",
     "text": [
      "v\n",
      "w\n",
      "theta\n",
      "===> /glade/scratch/doubrawa/post_processing/WRF_LES_25m_3D_2015-03-20_15:40_plus_filtered.nc\n",
      "/glade/scratch/doubrawa/post_processing/WRF_LES_25m_3D_2015-03-20_15:50.nc\n",
      "u\n"
     ]
    },
    {
     "name": "stderr",
     "output_type": "stream",
     "text": [
      "/glade/u/home/doubrawa/anaconda2/envs/wrfenv/lib/python3.6/site-packages/scipy/fftpack/basic.py:160: FutureWarning: Using a non-tuple sequence for multidimensional indexing is deprecated; use `arr[tuple(seq)]` instead of `arr[seq]`. In the future this will be interpreted as an array index, `arr[np.array(seq)]`, which will result either in an error or a different result.\n",
      "  z[index] = x\n"
     ]
    },
    {
     "name": "stdout",
     "output_type": "stream",
     "text": [
      "v\n",
      "w\n",
      "theta\n",
      "===> /glade/scratch/doubrawa/post_processing/WRF_LES_25m_3D_2015-03-20_15:50_plus_filtered.nc\n",
      "/glade/scratch/doubrawa/post_processing/WRF_LES_25m_3D_2015-03-20_16:00.nc\n",
      "u\n"
     ]
    },
    {
     "name": "stderr",
     "output_type": "stream",
     "text": [
      "/glade/u/home/doubrawa/anaconda2/envs/wrfenv/lib/python3.6/site-packages/scipy/fftpack/basic.py:160: FutureWarning: Using a non-tuple sequence for multidimensional indexing is deprecated; use `arr[tuple(seq)]` instead of `arr[seq]`. In the future this will be interpreted as an array index, `arr[np.array(seq)]`, which will result either in an error or a different result.\n",
      "  z[index] = x\n"
     ]
    },
    {
     "name": "stdout",
     "output_type": "stream",
     "text": [
      "v\n",
      "w\n",
      "theta\n",
      "===> /glade/scratch/doubrawa/post_processing/WRF_LES_25m_3D_2015-03-20_16:00_plus_filtered.nc\n",
      "/glade/scratch/doubrawa/post_processing/WRF_LES_25m_3D_2015-03-20_16:10.nc\n",
      "u\n"
     ]
    },
    {
     "name": "stderr",
     "output_type": "stream",
     "text": [
      "/glade/u/home/doubrawa/anaconda2/envs/wrfenv/lib/python3.6/site-packages/scipy/fftpack/basic.py:160: FutureWarning: Using a non-tuple sequence for multidimensional indexing is deprecated; use `arr[tuple(seq)]` instead of `arr[seq]`. In the future this will be interpreted as an array index, `arr[np.array(seq)]`, which will result either in an error or a different result.\n",
      "  z[index] = x\n"
     ]
    },
    {
     "name": "stdout",
     "output_type": "stream",
     "text": [
      "v\n",
      "w\n",
      "theta\n",
      "===> /glade/scratch/doubrawa/post_processing/WRF_LES_25m_3D_2015-03-20_16:10_plus_filtered.nc\n",
      "/glade/scratch/doubrawa/post_processing/WRF_LES_25m_3D_2015-03-20_16:20.nc\n",
      "u\n"
     ]
    },
    {
     "name": "stderr",
     "output_type": "stream",
     "text": [
      "/glade/u/home/doubrawa/anaconda2/envs/wrfenv/lib/python3.6/site-packages/scipy/fftpack/basic.py:160: FutureWarning: Using a non-tuple sequence for multidimensional indexing is deprecated; use `arr[tuple(seq)]` instead of `arr[seq]`. In the future this will be interpreted as an array index, `arr[np.array(seq)]`, which will result either in an error or a different result.\n",
      "  z[index] = x\n"
     ]
    },
    {
     "name": "stdout",
     "output_type": "stream",
     "text": [
      "v\n",
      "w\n",
      "theta\n",
      "===> /glade/scratch/doubrawa/post_processing/WRF_LES_25m_3D_2015-03-20_16:20_plus_filtered.nc\n",
      "/glade/scratch/doubrawa/post_processing/WRF_LES_25m_3D_2015-03-20_16:30.nc\n",
      "u\n"
     ]
    },
    {
     "name": "stderr",
     "output_type": "stream",
     "text": [
      "/glade/u/home/doubrawa/anaconda2/envs/wrfenv/lib/python3.6/site-packages/scipy/fftpack/basic.py:160: FutureWarning: Using a non-tuple sequence for multidimensional indexing is deprecated; use `arr[tuple(seq)]` instead of `arr[seq]`. In the future this will be interpreted as an array index, `arr[np.array(seq)]`, which will result either in an error or a different result.\n",
      "  z[index] = x\n"
     ]
    },
    {
     "name": "stdout",
     "output_type": "stream",
     "text": [
      "v\n",
      "w\n",
      "theta\n",
      "===> /glade/scratch/doubrawa/post_processing/WRF_LES_25m_3D_2015-03-20_16:30_plus_filtered.nc\n",
      "/glade/scratch/doubrawa/post_processing/WRF_LES_25m_3D_2015-03-20_16:40.nc\n",
      "u\n"
     ]
    },
    {
     "name": "stderr",
     "output_type": "stream",
     "text": [
      "/glade/u/home/doubrawa/anaconda2/envs/wrfenv/lib/python3.6/site-packages/scipy/fftpack/basic.py:160: FutureWarning: Using a non-tuple sequence for multidimensional indexing is deprecated; use `arr[tuple(seq)]` instead of `arr[seq]`. In the future this will be interpreted as an array index, `arr[np.array(seq)]`, which will result either in an error or a different result.\n",
      "  z[index] = x\n"
     ]
    },
    {
     "name": "stdout",
     "output_type": "stream",
     "text": [
      "v\n",
      "w\n",
      "theta\n",
      "===> /glade/scratch/doubrawa/post_processing/WRF_LES_25m_3D_2015-03-20_16:40_plus_filtered.nc\n",
      "/glade/scratch/doubrawa/post_processing/WRF_LES_25m_3D_2015-03-20_16:50.nc\n",
      "u\n"
     ]
    },
    {
     "name": "stderr",
     "output_type": "stream",
     "text": [
      "/glade/u/home/doubrawa/anaconda2/envs/wrfenv/lib/python3.6/site-packages/scipy/fftpack/basic.py:160: FutureWarning: Using a non-tuple sequence for multidimensional indexing is deprecated; use `arr[tuple(seq)]` instead of `arr[seq]`. In the future this will be interpreted as an array index, `arr[np.array(seq)]`, which will result either in an error or a different result.\n",
      "  z[index] = x\n"
     ]
    },
    {
     "name": "stdout",
     "output_type": "stream",
     "text": [
      "v\n",
      "w\n",
      "theta\n",
      "===> /glade/scratch/doubrawa/post_processing/WRF_LES_25m_3D_2015-03-20_16:50_plus_filtered.nc\n",
      "/glade/scratch/doubrawa/post_processing/WRF_LES_25m_3D_2015-03-20_17:00.nc\n",
      "u\n"
     ]
    },
    {
     "name": "stderr",
     "output_type": "stream",
     "text": [
      "/glade/u/home/doubrawa/anaconda2/envs/wrfenv/lib/python3.6/site-packages/scipy/fftpack/basic.py:160: FutureWarning: Using a non-tuple sequence for multidimensional indexing is deprecated; use `arr[tuple(seq)]` instead of `arr[seq]`. In the future this will be interpreted as an array index, `arr[np.array(seq)]`, which will result either in an error or a different result.\n",
      "  z[index] = x\n"
     ]
    },
    {
     "name": "stdout",
     "output_type": "stream",
     "text": [
      "v\n",
      "w\n",
      "theta\n",
      "===> /glade/scratch/doubrawa/post_processing/WRF_LES_25m_3D_2015-03-20_17:00_plus_filtered.nc\n",
      "/glade/scratch/doubrawa/post_processing/WRF_LES_25m_3D_2015-03-20_17:10.nc\n",
      "u\n"
     ]
    },
    {
     "name": "stderr",
     "output_type": "stream",
     "text": [
      "/glade/u/home/doubrawa/anaconda2/envs/wrfenv/lib/python3.6/site-packages/scipy/fftpack/basic.py:160: FutureWarning: Using a non-tuple sequence for multidimensional indexing is deprecated; use `arr[tuple(seq)]` instead of `arr[seq]`. In the future this will be interpreted as an array index, `arr[np.array(seq)]`, which will result either in an error or a different result.\n",
      "  z[index] = x\n"
     ]
    },
    {
     "name": "stdout",
     "output_type": "stream",
     "text": [
      "v\n",
      "w\n",
      "theta\n",
      "===> /glade/scratch/doubrawa/post_processing/WRF_LES_25m_3D_2015-03-20_17:10_plus_filtered.nc\n",
      "/glade/scratch/doubrawa/post_processing/WRF_LES_25m_3D_2015-03-20_17:20.nc\n",
      "u\n"
     ]
    },
    {
     "name": "stderr",
     "output_type": "stream",
     "text": [
      "/glade/u/home/doubrawa/anaconda2/envs/wrfenv/lib/python3.6/site-packages/scipy/fftpack/basic.py:160: FutureWarning: Using a non-tuple sequence for multidimensional indexing is deprecated; use `arr[tuple(seq)]` instead of `arr[seq]`. In the future this will be interpreted as an array index, `arr[np.array(seq)]`, which will result either in an error or a different result.\n",
      "  z[index] = x\n"
     ]
    },
    {
     "name": "stdout",
     "output_type": "stream",
     "text": [
      "v\n",
      "w\n",
      "theta\n",
      "===> /glade/scratch/doubrawa/post_processing/WRF_LES_25m_3D_2015-03-20_17:20_plus_filtered.nc\n",
      "/glade/scratch/doubrawa/post_processing/WRF_LES_25m_3D_2015-03-20_17:30.nc\n",
      "u\n"
     ]
    },
    {
     "name": "stderr",
     "output_type": "stream",
     "text": [
      "/glade/u/home/doubrawa/anaconda2/envs/wrfenv/lib/python3.6/site-packages/scipy/fftpack/basic.py:160: FutureWarning: Using a non-tuple sequence for multidimensional indexing is deprecated; use `arr[tuple(seq)]` instead of `arr[seq]`. In the future this will be interpreted as an array index, `arr[np.array(seq)]`, which will result either in an error or a different result.\n",
      "  z[index] = x\n"
     ]
    },
    {
     "name": "stdout",
     "output_type": "stream",
     "text": [
      "v\n",
      "w\n",
      "theta\n",
      "===> /glade/scratch/doubrawa/post_processing/WRF_LES_25m_3D_2015-03-20_17:30_plus_filtered.nc\n",
      "/glade/scratch/doubrawa/post_processing/WRF_LES_25m_3D_2015-03-20_17:40.nc\n",
      "u\n"
     ]
    },
    {
     "name": "stderr",
     "output_type": "stream",
     "text": [
      "/glade/u/home/doubrawa/anaconda2/envs/wrfenv/lib/python3.6/site-packages/scipy/fftpack/basic.py:160: FutureWarning: Using a non-tuple sequence for multidimensional indexing is deprecated; use `arr[tuple(seq)]` instead of `arr[seq]`. In the future this will be interpreted as an array index, `arr[np.array(seq)]`, which will result either in an error or a different result.\n",
      "  z[index] = x\n"
     ]
    },
    {
     "name": "stdout",
     "output_type": "stream",
     "text": [
      "v\n",
      "w\n",
      "theta\n",
      "===> /glade/scratch/doubrawa/post_processing/WRF_LES_25m_3D_2015-03-20_17:40_plus_filtered.nc\n",
      "/glade/scratch/doubrawa/post_processing/WRF_LES_25m_3D_2015-03-20_17:50.nc\n",
      "u\n"
     ]
    },
    {
     "name": "stderr",
     "output_type": "stream",
     "text": [
      "/glade/u/home/doubrawa/anaconda2/envs/wrfenv/lib/python3.6/site-packages/scipy/fftpack/basic.py:160: FutureWarning: Using a non-tuple sequence for multidimensional indexing is deprecated; use `arr[tuple(seq)]` instead of `arr[seq]`. In the future this will be interpreted as an array index, `arr[np.array(seq)]`, which will result either in an error or a different result.\n",
      "  z[index] = x\n"
     ]
    },
    {
     "name": "stdout",
     "output_type": "stream",
     "text": [
      "v\n",
      "w\n",
      "theta\n",
      "===> /glade/scratch/doubrawa/post_processing/WRF_LES_25m_3D_2015-03-20_17:50_plus_filtered.nc\n",
      "/glade/scratch/doubrawa/post_processing/WRF_LES_25m_3D_2015-03-20_18:00.nc\n",
      "u\n"
     ]
    },
    {
     "name": "stderr",
     "output_type": "stream",
     "text": [
      "/glade/u/home/doubrawa/anaconda2/envs/wrfenv/lib/python3.6/site-packages/scipy/fftpack/basic.py:160: FutureWarning: Using a non-tuple sequence for multidimensional indexing is deprecated; use `arr[tuple(seq)]` instead of `arr[seq]`. In the future this will be interpreted as an array index, `arr[np.array(seq)]`, which will result either in an error or a different result.\n",
      "  z[index] = x\n"
     ]
    },
    {
     "name": "stdout",
     "output_type": "stream",
     "text": [
      "v\n",
      "w\n",
      "theta\n",
      "===> /glade/scratch/doubrawa/post_processing/WRF_LES_25m_3D_2015-03-20_18:00_plus_filtered.nc\n",
      "/glade/scratch/doubrawa/post_processing/WRF_LES_25m_3D_2015-03-20_18:10.nc\n",
      "u\n"
     ]
    },
    {
     "name": "stderr",
     "output_type": "stream",
     "text": [
      "/glade/u/home/doubrawa/anaconda2/envs/wrfenv/lib/python3.6/site-packages/scipy/fftpack/basic.py:160: FutureWarning: Using a non-tuple sequence for multidimensional indexing is deprecated; use `arr[tuple(seq)]` instead of `arr[seq]`. In the future this will be interpreted as an array index, `arr[np.array(seq)]`, which will result either in an error or a different result.\n",
      "  z[index] = x\n"
     ]
    },
    {
     "name": "stdout",
     "output_type": "stream",
     "text": [
      "v\n",
      "w\n",
      "theta\n",
      "===> /glade/scratch/doubrawa/post_processing/WRF_LES_25m_3D_2015-03-20_18:10_plus_filtered.nc\n",
      "/glade/scratch/doubrawa/post_processing/WRF_LES_25m_3D_2015-03-20_18:20.nc\n",
      "u\n"
     ]
    },
    {
     "name": "stderr",
     "output_type": "stream",
     "text": [
      "/glade/u/home/doubrawa/anaconda2/envs/wrfenv/lib/python3.6/site-packages/scipy/fftpack/basic.py:160: FutureWarning: Using a non-tuple sequence for multidimensional indexing is deprecated; use `arr[tuple(seq)]` instead of `arr[seq]`. In the future this will be interpreted as an array index, `arr[np.array(seq)]`, which will result either in an error or a different result.\n",
      "  z[index] = x\n"
     ]
    },
    {
     "name": "stdout",
     "output_type": "stream",
     "text": [
      "v\n",
      "w\n",
      "theta\n",
      "===> /glade/scratch/doubrawa/post_processing/WRF_LES_25m_3D_2015-03-20_18:20_plus_filtered.nc\n",
      "/glade/scratch/doubrawa/post_processing/WRF_LES_25m_3D_2015-03-20_18:30.nc\n",
      "u\n"
     ]
    },
    {
     "name": "stderr",
     "output_type": "stream",
     "text": [
      "/glade/u/home/doubrawa/anaconda2/envs/wrfenv/lib/python3.6/site-packages/scipy/fftpack/basic.py:160: FutureWarning: Using a non-tuple sequence for multidimensional indexing is deprecated; use `arr[tuple(seq)]` instead of `arr[seq]`. In the future this will be interpreted as an array index, `arr[np.array(seq)]`, which will result either in an error or a different result.\n",
      "  z[index] = x\n"
     ]
    },
    {
     "name": "stdout",
     "output_type": "stream",
     "text": [
      "v\n",
      "w\n",
      "theta\n",
      "===> /glade/scratch/doubrawa/post_processing/WRF_LES_25m_3D_2015-03-20_18:30_plus_filtered.nc\n",
      "/glade/scratch/doubrawa/post_processing/WRF_LES_25m_3D_2015-03-20_18:40.nc\n",
      "u\n"
     ]
    },
    {
     "name": "stderr",
     "output_type": "stream",
     "text": [
      "/glade/u/home/doubrawa/anaconda2/envs/wrfenv/lib/python3.6/site-packages/scipy/fftpack/basic.py:160: FutureWarning: Using a non-tuple sequence for multidimensional indexing is deprecated; use `arr[tuple(seq)]` instead of `arr[seq]`. In the future this will be interpreted as an array index, `arr[np.array(seq)]`, which will result either in an error or a different result.\n",
      "  z[index] = x\n"
     ]
    },
    {
     "name": "stdout",
     "output_type": "stream",
     "text": [
      "v\n",
      "w\n",
      "theta\n",
      "===> /glade/scratch/doubrawa/post_processing/WRF_LES_25m_3D_2015-03-20_18:40_plus_filtered.nc\n",
      "/glade/scratch/doubrawa/post_processing/WRF_LES_25m_3D_2015-03-20_18:50.nc\n",
      "u\n"
     ]
    },
    {
     "name": "stderr",
     "output_type": "stream",
     "text": [
      "/glade/u/home/doubrawa/anaconda2/envs/wrfenv/lib/python3.6/site-packages/scipy/fftpack/basic.py:160: FutureWarning: Using a non-tuple sequence for multidimensional indexing is deprecated; use `arr[tuple(seq)]` instead of `arr[seq]`. In the future this will be interpreted as an array index, `arr[np.array(seq)]`, which will result either in an error or a different result.\n",
      "  z[index] = x\n"
     ]
    },
    {
     "name": "stdout",
     "output_type": "stream",
     "text": [
      "v\n",
      "w\n",
      "theta\n",
      "===> /glade/scratch/doubrawa/post_processing/WRF_LES_25m_3D_2015-03-20_18:50_plus_filtered.nc\n",
      "/glade/scratch/doubrawa/post_processing/WRF_LES_25m_3D_2015-03-20_19:00.nc\n",
      "u\n"
     ]
    },
    {
     "name": "stderr",
     "output_type": "stream",
     "text": [
      "/glade/u/home/doubrawa/anaconda2/envs/wrfenv/lib/python3.6/site-packages/scipy/fftpack/basic.py:160: FutureWarning: Using a non-tuple sequence for multidimensional indexing is deprecated; use `arr[tuple(seq)]` instead of `arr[seq]`. In the future this will be interpreted as an array index, `arr[np.array(seq)]`, which will result either in an error or a different result.\n",
      "  z[index] = x\n"
     ]
    },
    {
     "name": "stdout",
     "output_type": "stream",
     "text": [
      "v\n",
      "w\n",
      "theta\n",
      "===> /glade/scratch/doubrawa/post_processing/WRF_LES_25m_3D_2015-03-20_19:00_plus_filtered.nc\n",
      "/glade/scratch/doubrawa/post_processing/WRF_LES_25m_3D_2015-03-20_19:10.nc\n",
      "u\n"
     ]
    },
    {
     "name": "stderr",
     "output_type": "stream",
     "text": [
      "/glade/u/home/doubrawa/anaconda2/envs/wrfenv/lib/python3.6/site-packages/scipy/fftpack/basic.py:160: FutureWarning: Using a non-tuple sequence for multidimensional indexing is deprecated; use `arr[tuple(seq)]` instead of `arr[seq]`. In the future this will be interpreted as an array index, `arr[np.array(seq)]`, which will result either in an error or a different result.\n",
      "  z[index] = x\n"
     ]
    },
    {
     "name": "stdout",
     "output_type": "stream",
     "text": [
      "v\n",
      "w\n",
      "theta\n",
      "===> /glade/scratch/doubrawa/post_processing/WRF_LES_25m_3D_2015-03-20_19:10_plus_filtered.nc\n",
      "/glade/scratch/doubrawa/post_processing/WRF_LES_25m_3D_2015-03-20_19:20.nc\n",
      "u\n"
     ]
    },
    {
     "name": "stderr",
     "output_type": "stream",
     "text": [
      "/glade/u/home/doubrawa/anaconda2/envs/wrfenv/lib/python3.6/site-packages/scipy/fftpack/basic.py:160: FutureWarning: Using a non-tuple sequence for multidimensional indexing is deprecated; use `arr[tuple(seq)]` instead of `arr[seq]`. In the future this will be interpreted as an array index, `arr[np.array(seq)]`, which will result either in an error or a different result.\n",
      "  z[index] = x\n"
     ]
    },
    {
     "name": "stdout",
     "output_type": "stream",
     "text": [
      "v\n",
      "w\n",
      "theta\n",
      "===> /glade/scratch/doubrawa/post_processing/WRF_LES_25m_3D_2015-03-20_19:20_plus_filtered.nc\n",
      "/glade/scratch/doubrawa/post_processing/WRF_LES_25m_3D_2015-03-20_19:30.nc\n",
      "u\n"
     ]
    },
    {
     "name": "stderr",
     "output_type": "stream",
     "text": [
      "/glade/u/home/doubrawa/anaconda2/envs/wrfenv/lib/python3.6/site-packages/scipy/fftpack/basic.py:160: FutureWarning: Using a non-tuple sequence for multidimensional indexing is deprecated; use `arr[tuple(seq)]` instead of `arr[seq]`. In the future this will be interpreted as an array index, `arr[np.array(seq)]`, which will result either in an error or a different result.\n",
      "  z[index] = x\n"
     ]
    },
    {
     "name": "stdout",
     "output_type": "stream",
     "text": [
      "v\n",
      "w\n",
      "theta\n",
      "===> /glade/scratch/doubrawa/post_processing/WRF_LES_25m_3D_2015-03-20_19:30_plus_filtered.nc\n",
      "/glade/scratch/doubrawa/post_processing/WRF_LES_25m_3D_2015-03-20_19:40.nc\n",
      "u\n"
     ]
    },
    {
     "name": "stderr",
     "output_type": "stream",
     "text": [
      "/glade/u/home/doubrawa/anaconda2/envs/wrfenv/lib/python3.6/site-packages/scipy/fftpack/basic.py:160: FutureWarning: Using a non-tuple sequence for multidimensional indexing is deprecated; use `arr[tuple(seq)]` instead of `arr[seq]`. In the future this will be interpreted as an array index, `arr[np.array(seq)]`, which will result either in an error or a different result.\n",
      "  z[index] = x\n"
     ]
    },
    {
     "name": "stdout",
     "output_type": "stream",
     "text": [
      "v\n",
      "w\n",
      "theta\n",
      "===> /glade/scratch/doubrawa/post_processing/WRF_LES_25m_3D_2015-03-20_19:40_plus_filtered.nc\n",
      "/glade/scratch/doubrawa/post_processing/WRF_LES_25m_3D_2015-03-20_19:50.nc\n",
      "u\n"
     ]
    },
    {
     "name": "stderr",
     "output_type": "stream",
     "text": [
      "/glade/u/home/doubrawa/anaconda2/envs/wrfenv/lib/python3.6/site-packages/scipy/fftpack/basic.py:160: FutureWarning: Using a non-tuple sequence for multidimensional indexing is deprecated; use `arr[tuple(seq)]` instead of `arr[seq]`. In the future this will be interpreted as an array index, `arr[np.array(seq)]`, which will result either in an error or a different result.\n",
      "  z[index] = x\n"
     ]
    },
    {
     "name": "stdout",
     "output_type": "stream",
     "text": [
      "v\n",
      "w\n",
      "theta\n",
      "===> /glade/scratch/doubrawa/post_processing/WRF_LES_25m_3D_2015-03-20_19:50_plus_filtered.nc\n",
      "/glade/scratch/doubrawa/post_processing/WRF_LES_25m_3D_2015-03-20_20:00.nc\n",
      "u\n"
     ]
    },
    {
     "name": "stderr",
     "output_type": "stream",
     "text": [
      "/glade/u/home/doubrawa/anaconda2/envs/wrfenv/lib/python3.6/site-packages/scipy/fftpack/basic.py:160: FutureWarning: Using a non-tuple sequence for multidimensional indexing is deprecated; use `arr[tuple(seq)]` instead of `arr[seq]`. In the future this will be interpreted as an array index, `arr[np.array(seq)]`, which will result either in an error or a different result.\n",
      "  z[index] = x\n"
     ]
    },
    {
     "name": "stdout",
     "output_type": "stream",
     "text": [
      "v\n",
      "w\n",
      "theta\n",
      "===> /glade/scratch/doubrawa/post_processing/WRF_LES_25m_3D_2015-03-20_20:00_plus_filtered.nc\n",
      "/glade/scratch/doubrawa/post_processing/WRF_LES_25m_3D_2015-03-20_20:10.nc\n",
      "u\n"
     ]
    },
    {
     "name": "stderr",
     "output_type": "stream",
     "text": [
      "/glade/u/home/doubrawa/anaconda2/envs/wrfenv/lib/python3.6/site-packages/scipy/fftpack/basic.py:160: FutureWarning: Using a non-tuple sequence for multidimensional indexing is deprecated; use `arr[tuple(seq)]` instead of `arr[seq]`. In the future this will be interpreted as an array index, `arr[np.array(seq)]`, which will result either in an error or a different result.\n",
      "  z[index] = x\n"
     ]
    },
    {
     "name": "stdout",
     "output_type": "stream",
     "text": [
      "v\n",
      "w\n",
      "theta\n",
      "===> /glade/scratch/doubrawa/post_processing/WRF_LES_25m_3D_2015-03-20_20:10_plus_filtered.nc\n",
      "/glade/scratch/doubrawa/post_processing/WRF_LES_25m_3D_2015-03-20_20:20.nc\n",
      "u\n"
     ]
    },
    {
     "name": "stderr",
     "output_type": "stream",
     "text": [
      "/glade/u/home/doubrawa/anaconda2/envs/wrfenv/lib/python3.6/site-packages/scipy/fftpack/basic.py:160: FutureWarning: Using a non-tuple sequence for multidimensional indexing is deprecated; use `arr[tuple(seq)]` instead of `arr[seq]`. In the future this will be interpreted as an array index, `arr[np.array(seq)]`, which will result either in an error or a different result.\n",
      "  z[index] = x\n"
     ]
    },
    {
     "name": "stdout",
     "output_type": "stream",
     "text": [
      "v\n",
      "w\n",
      "theta\n",
      "===> /glade/scratch/doubrawa/post_processing/WRF_LES_25m_3D_2015-03-20_20:20_plus_filtered.nc\n",
      "/glade/scratch/doubrawa/post_processing/WRF_LES_25m_3D_2015-03-20_20:30.nc\n",
      "u\n"
     ]
    },
    {
     "name": "stderr",
     "output_type": "stream",
     "text": [
      "/glade/u/home/doubrawa/anaconda2/envs/wrfenv/lib/python3.6/site-packages/scipy/fftpack/basic.py:160: FutureWarning: Using a non-tuple sequence for multidimensional indexing is deprecated; use `arr[tuple(seq)]` instead of `arr[seq]`. In the future this will be interpreted as an array index, `arr[np.array(seq)]`, which will result either in an error or a different result.\n",
      "  z[index] = x\n"
     ]
    },
    {
     "name": "stdout",
     "output_type": "stream",
     "text": [
      "v\n",
      "w\n",
      "theta\n",
      "===> /glade/scratch/doubrawa/post_processing/WRF_LES_25m_3D_2015-03-20_20:30_plus_filtered.nc\n",
      "/glade/scratch/doubrawa/post_processing/WRF_LES_25m_3D_2015-03-20_20:40.nc\n",
      "u\n"
     ]
    },
    {
     "name": "stderr",
     "output_type": "stream",
     "text": [
      "/glade/u/home/doubrawa/anaconda2/envs/wrfenv/lib/python3.6/site-packages/scipy/fftpack/basic.py:160: FutureWarning: Using a non-tuple sequence for multidimensional indexing is deprecated; use `arr[tuple(seq)]` instead of `arr[seq]`. In the future this will be interpreted as an array index, `arr[np.array(seq)]`, which will result either in an error or a different result.\n",
      "  z[index] = x\n"
     ]
    },
    {
     "name": "stdout",
     "output_type": "stream",
     "text": [
      "v\n",
      "w\n",
      "theta\n",
      "===> /glade/scratch/doubrawa/post_processing/WRF_LES_25m_3D_2015-03-20_20:40_plus_filtered.nc\n",
      "/glade/scratch/doubrawa/post_processing/WRF_LES_25m_3D_2015-03-20_20:50.nc\n",
      "u\n"
     ]
    },
    {
     "name": "stderr",
     "output_type": "stream",
     "text": [
      "/glade/u/home/doubrawa/anaconda2/envs/wrfenv/lib/python3.6/site-packages/scipy/fftpack/basic.py:160: FutureWarning: Using a non-tuple sequence for multidimensional indexing is deprecated; use `arr[tuple(seq)]` instead of `arr[seq]`. In the future this will be interpreted as an array index, `arr[np.array(seq)]`, which will result either in an error or a different result.\n",
      "  z[index] = x\n"
     ]
    },
    {
     "name": "stdout",
     "output_type": "stream",
     "text": [
      "v\n",
      "w\n",
      "theta\n",
      "===> /glade/scratch/doubrawa/post_processing/WRF_LES_25m_3D_2015-03-20_20:50_plus_filtered.nc\n",
      "/glade/scratch/doubrawa/post_processing/WRF_LES_25m_3D_2015-03-20_21:00.nc\n",
      "u\n"
     ]
    },
    {
     "name": "stderr",
     "output_type": "stream",
     "text": [
      "/glade/u/home/doubrawa/anaconda2/envs/wrfenv/lib/python3.6/site-packages/scipy/fftpack/basic.py:160: FutureWarning: Using a non-tuple sequence for multidimensional indexing is deprecated; use `arr[tuple(seq)]` instead of `arr[seq]`. In the future this will be interpreted as an array index, `arr[np.array(seq)]`, which will result either in an error or a different result.\n",
      "  z[index] = x\n"
     ]
    },
    {
     "name": "stdout",
     "output_type": "stream",
     "text": [
      "v\n",
      "w\n",
      "theta\n",
      "===> /glade/scratch/doubrawa/post_processing/WRF_LES_25m_3D_2015-03-20_21:00_plus_filtered.nc\n",
      "/glade/scratch/doubrawa/post_processing/WRF_LES_25m_3D_2015-03-20_21:10.nc\n",
      "u\n"
     ]
    },
    {
     "name": "stderr",
     "output_type": "stream",
     "text": [
      "/glade/u/home/doubrawa/anaconda2/envs/wrfenv/lib/python3.6/site-packages/scipy/fftpack/basic.py:160: FutureWarning: Using a non-tuple sequence for multidimensional indexing is deprecated; use `arr[tuple(seq)]` instead of `arr[seq]`. In the future this will be interpreted as an array index, `arr[np.array(seq)]`, which will result either in an error or a different result.\n",
      "  z[index] = x\n"
     ]
    },
    {
     "name": "stdout",
     "output_type": "stream",
     "text": [
      "v\n",
      "w\n",
      "theta\n",
      "===> /glade/scratch/doubrawa/post_processing/WRF_LES_25m_3D_2015-03-20_21:10_plus_filtered.nc\n",
      "/glade/scratch/doubrawa/post_processing/WRF_LES_25m_3D_2015-03-20_21:20.nc\n",
      "u\n"
     ]
    },
    {
     "name": "stderr",
     "output_type": "stream",
     "text": [
      "/glade/u/home/doubrawa/anaconda2/envs/wrfenv/lib/python3.6/site-packages/scipy/fftpack/basic.py:160: FutureWarning: Using a non-tuple sequence for multidimensional indexing is deprecated; use `arr[tuple(seq)]` instead of `arr[seq]`. In the future this will be interpreted as an array index, `arr[np.array(seq)]`, which will result either in an error or a different result.\n",
      "  z[index] = x\n"
     ]
    },
    {
     "name": "stdout",
     "output_type": "stream",
     "text": [
      "v\n",
      "w\n",
      "theta\n",
      "===> /glade/scratch/doubrawa/post_processing/WRF_LES_25m_3D_2015-03-20_21:20_plus_filtered.nc\n",
      "/glade/scratch/doubrawa/post_processing/WRF_LES_25m_3D_2015-03-20_21:30.nc\n",
      "u\n"
     ]
    },
    {
     "name": "stderr",
     "output_type": "stream",
     "text": [
      "/glade/u/home/doubrawa/anaconda2/envs/wrfenv/lib/python3.6/site-packages/scipy/fftpack/basic.py:160: FutureWarning: Using a non-tuple sequence for multidimensional indexing is deprecated; use `arr[tuple(seq)]` instead of `arr[seq]`. In the future this will be interpreted as an array index, `arr[np.array(seq)]`, which will result either in an error or a different result.\n",
      "  z[index] = x\n"
     ]
    },
    {
     "name": "stdout",
     "output_type": "stream",
     "text": [
      "v\n",
      "w\n",
      "theta\n",
      "===> /glade/scratch/doubrawa/post_processing/WRF_LES_25m_3D_2015-03-20_21:30_plus_filtered.nc\n",
      "/glade/scratch/doubrawa/post_processing/WRF_LES_25m_3D_2015-03-20_21:40.nc\n",
      "u\n"
     ]
    },
    {
     "name": "stderr",
     "output_type": "stream",
     "text": [
      "/glade/u/home/doubrawa/anaconda2/envs/wrfenv/lib/python3.6/site-packages/scipy/fftpack/basic.py:160: FutureWarning: Using a non-tuple sequence for multidimensional indexing is deprecated; use `arr[tuple(seq)]` instead of `arr[seq]`. In the future this will be interpreted as an array index, `arr[np.array(seq)]`, which will result either in an error or a different result.\n",
      "  z[index] = x\n"
     ]
    },
    {
     "name": "stdout",
     "output_type": "stream",
     "text": [
      "v\n",
      "w\n",
      "theta\n",
      "===> /glade/scratch/doubrawa/post_processing/WRF_LES_25m_3D_2015-03-20_21:40_plus_filtered.nc\n",
      "/glade/scratch/doubrawa/post_processing/WRF_LES_25m_3D_2015-03-20_21:50.nc\n",
      "u\n"
     ]
    },
    {
     "name": "stderr",
     "output_type": "stream",
     "text": [
      "/glade/u/home/doubrawa/anaconda2/envs/wrfenv/lib/python3.6/site-packages/scipy/fftpack/basic.py:160: FutureWarning: Using a non-tuple sequence for multidimensional indexing is deprecated; use `arr[tuple(seq)]` instead of `arr[seq]`. In the future this will be interpreted as an array index, `arr[np.array(seq)]`, which will result either in an error or a different result.\n",
      "  z[index] = x\n"
     ]
    },
    {
     "name": "stdout",
     "output_type": "stream",
     "text": [
      "v\n",
      "w\n",
      "theta\n",
      "===> /glade/scratch/doubrawa/post_processing/WRF_LES_25m_3D_2015-03-20_21:50_plus_filtered.nc\n",
      "/glade/scratch/doubrawa/post_processing/WRF_LES_25m_3D_2015-03-20_22:00.nc\n",
      "u\n"
     ]
    },
    {
     "name": "stderr",
     "output_type": "stream",
     "text": [
      "/glade/u/home/doubrawa/anaconda2/envs/wrfenv/lib/python3.6/site-packages/scipy/fftpack/basic.py:160: FutureWarning: Using a non-tuple sequence for multidimensional indexing is deprecated; use `arr[tuple(seq)]` instead of `arr[seq]`. In the future this will be interpreted as an array index, `arr[np.array(seq)]`, which will result either in an error or a different result.\n",
      "  z[index] = x\n"
     ]
    },
    {
     "name": "stdout",
     "output_type": "stream",
     "text": [
      "v\n",
      "w\n",
      "theta\n",
      "===> /glade/scratch/doubrawa/post_processing/WRF_LES_25m_3D_2015-03-20_22:00_plus_filtered.nc\n",
      "/glade/scratch/doubrawa/post_processing/WRF_LES_25m_3D_2015-03-20_22:10.nc\n",
      "u\n"
     ]
    },
    {
     "name": "stderr",
     "output_type": "stream",
     "text": [
      "/glade/u/home/doubrawa/anaconda2/envs/wrfenv/lib/python3.6/site-packages/scipy/fftpack/basic.py:160: FutureWarning: Using a non-tuple sequence for multidimensional indexing is deprecated; use `arr[tuple(seq)]` instead of `arr[seq]`. In the future this will be interpreted as an array index, `arr[np.array(seq)]`, which will result either in an error or a different result.\n",
      "  z[index] = x\n"
     ]
    },
    {
     "name": "stdout",
     "output_type": "stream",
     "text": [
      "v\n",
      "w\n",
      "theta\n",
      "===> /glade/scratch/doubrawa/post_processing/WRF_LES_25m_3D_2015-03-20_22:10_plus_filtered.nc\n",
      "/glade/scratch/doubrawa/post_processing/WRF_LES_25m_3D_2015-03-20_22:20.nc\n",
      "u\n"
     ]
    },
    {
     "name": "stderr",
     "output_type": "stream",
     "text": [
      "/glade/u/home/doubrawa/anaconda2/envs/wrfenv/lib/python3.6/site-packages/scipy/fftpack/basic.py:160: FutureWarning: Using a non-tuple sequence for multidimensional indexing is deprecated; use `arr[tuple(seq)]` instead of `arr[seq]`. In the future this will be interpreted as an array index, `arr[np.array(seq)]`, which will result either in an error or a different result.\n",
      "  z[index] = x\n"
     ]
    },
    {
     "name": "stdout",
     "output_type": "stream",
     "text": [
      "v\n",
      "w\n",
      "theta\n",
      "===> /glade/scratch/doubrawa/post_processing/WRF_LES_25m_3D_2015-03-20_22:20_plus_filtered.nc\n",
      "/glade/scratch/doubrawa/post_processing/WRF_LES_25m_3D_2015-03-20_22:30.nc\n",
      "u\n"
     ]
    },
    {
     "name": "stderr",
     "output_type": "stream",
     "text": [
      "/glade/u/home/doubrawa/anaconda2/envs/wrfenv/lib/python3.6/site-packages/scipy/fftpack/basic.py:160: FutureWarning: Using a non-tuple sequence for multidimensional indexing is deprecated; use `arr[tuple(seq)]` instead of `arr[seq]`. In the future this will be interpreted as an array index, `arr[np.array(seq)]`, which will result either in an error or a different result.\n",
      "  z[index] = x\n"
     ]
    },
    {
     "name": "stdout",
     "output_type": "stream",
     "text": [
      "v\n",
      "w\n",
      "theta\n",
      "===> /glade/scratch/doubrawa/post_processing/WRF_LES_25m_3D_2015-03-20_22:30_plus_filtered.nc\n",
      "/glade/scratch/doubrawa/post_processing/WRF_LES_25m_3D_2015-03-20_22:40.nc\n",
      "u\n"
     ]
    },
    {
     "name": "stderr",
     "output_type": "stream",
     "text": [
      "/glade/u/home/doubrawa/anaconda2/envs/wrfenv/lib/python3.6/site-packages/scipy/fftpack/basic.py:160: FutureWarning: Using a non-tuple sequence for multidimensional indexing is deprecated; use `arr[tuple(seq)]` instead of `arr[seq]`. In the future this will be interpreted as an array index, `arr[np.array(seq)]`, which will result either in an error or a different result.\n",
      "  z[index] = x\n"
     ]
    },
    {
     "name": "stdout",
     "output_type": "stream",
     "text": [
      "v\n",
      "w\n",
      "theta\n",
      "===> /glade/scratch/doubrawa/post_processing/WRF_LES_25m_3D_2015-03-20_22:40_plus_filtered.nc\n",
      "/glade/scratch/doubrawa/post_processing/WRF_LES_25m_3D_2015-03-20_22:50.nc\n",
      "u\n"
     ]
    },
    {
     "name": "stderr",
     "output_type": "stream",
     "text": [
      "/glade/u/home/doubrawa/anaconda2/envs/wrfenv/lib/python3.6/site-packages/scipy/fftpack/basic.py:160: FutureWarning: Using a non-tuple sequence for multidimensional indexing is deprecated; use `arr[tuple(seq)]` instead of `arr[seq]`. In the future this will be interpreted as an array index, `arr[np.array(seq)]`, which will result either in an error or a different result.\n",
      "  z[index] = x\n"
     ]
    },
    {
     "name": "stdout",
     "output_type": "stream",
     "text": [
      "v\n",
      "w\n",
      "theta\n",
      "===> /glade/scratch/doubrawa/post_processing/WRF_LES_25m_3D_2015-03-20_22:50_plus_filtered.nc\n",
      "/glade/scratch/doubrawa/post_processing/WRF_LES_25m_3D_2015-03-20_23:00.nc\n",
      "u\n"
     ]
    },
    {
     "name": "stderr",
     "output_type": "stream",
     "text": [
      "/glade/u/home/doubrawa/anaconda2/envs/wrfenv/lib/python3.6/site-packages/scipy/fftpack/basic.py:160: FutureWarning: Using a non-tuple sequence for multidimensional indexing is deprecated; use `arr[tuple(seq)]` instead of `arr[seq]`. In the future this will be interpreted as an array index, `arr[np.array(seq)]`, which will result either in an error or a different result.\n",
      "  z[index] = x\n"
     ]
    },
    {
     "name": "stdout",
     "output_type": "stream",
     "text": [
      "v\n",
      "w\n",
      "theta\n",
      "===> /glade/scratch/doubrawa/post_processing/WRF_LES_25m_3D_2015-03-20_23:00_plus_filtered.nc\n",
      "/glade/scratch/doubrawa/post_processing/WRF_LES_25m_3D_2015-03-20_23:10.nc\n",
      "u\n"
     ]
    },
    {
     "name": "stderr",
     "output_type": "stream",
     "text": [
      "/glade/u/home/doubrawa/anaconda2/envs/wrfenv/lib/python3.6/site-packages/scipy/fftpack/basic.py:160: FutureWarning: Using a non-tuple sequence for multidimensional indexing is deprecated; use `arr[tuple(seq)]` instead of `arr[seq]`. In the future this will be interpreted as an array index, `arr[np.array(seq)]`, which will result either in an error or a different result.\n",
      "  z[index] = x\n"
     ]
    },
    {
     "name": "stdout",
     "output_type": "stream",
     "text": [
      "v\n",
      "w\n",
      "theta\n",
      "===> /glade/scratch/doubrawa/post_processing/WRF_LES_25m_3D_2015-03-20_23:10_plus_filtered.nc\n",
      "/glade/scratch/doubrawa/post_processing/WRF_LES_25m_3D_2015-03-20_23:20.nc\n",
      "u\n"
     ]
    },
    {
     "name": "stderr",
     "output_type": "stream",
     "text": [
      "/glade/u/home/doubrawa/anaconda2/envs/wrfenv/lib/python3.6/site-packages/scipy/fftpack/basic.py:160: FutureWarning: Using a non-tuple sequence for multidimensional indexing is deprecated; use `arr[tuple(seq)]` instead of `arr[seq]`. In the future this will be interpreted as an array index, `arr[np.array(seq)]`, which will result either in an error or a different result.\n",
      "  z[index] = x\n"
     ]
    },
    {
     "name": "stdout",
     "output_type": "stream",
     "text": [
      "v\n",
      "w\n",
      "theta\n",
      "===> /glade/scratch/doubrawa/post_processing/WRF_LES_25m_3D_2015-03-20_23:20_plus_filtered.nc\n",
      "/glade/scratch/doubrawa/post_processing/WRF_LES_25m_3D_2015-03-20_23:30.nc\n",
      "u\n"
     ]
    },
    {
     "name": "stderr",
     "output_type": "stream",
     "text": [
      "/glade/u/home/doubrawa/anaconda2/envs/wrfenv/lib/python3.6/site-packages/scipy/fftpack/basic.py:160: FutureWarning: Using a non-tuple sequence for multidimensional indexing is deprecated; use `arr[tuple(seq)]` instead of `arr[seq]`. In the future this will be interpreted as an array index, `arr[np.array(seq)]`, which will result either in an error or a different result.\n",
      "  z[index] = x\n"
     ]
    },
    {
     "name": "stdout",
     "output_type": "stream",
     "text": [
      "v\n",
      "w\n",
      "theta\n",
      "===> /glade/scratch/doubrawa/post_processing/WRF_LES_25m_3D_2015-03-20_23:30_plus_filtered.nc\n",
      "/glade/scratch/doubrawa/post_processing/WRF_LES_25m_3D_2015-03-20_23:40.nc\n",
      "u\n"
     ]
    },
    {
     "name": "stderr",
     "output_type": "stream",
     "text": [
      "/glade/u/home/doubrawa/anaconda2/envs/wrfenv/lib/python3.6/site-packages/scipy/fftpack/basic.py:160: FutureWarning: Using a non-tuple sequence for multidimensional indexing is deprecated; use `arr[tuple(seq)]` instead of `arr[seq]`. In the future this will be interpreted as an array index, `arr[np.array(seq)]`, which will result either in an error or a different result.\n",
      "  z[index] = x\n"
     ]
    },
    {
     "name": "stdout",
     "output_type": "stream",
     "text": [
      "v\n",
      "w\n",
      "theta\n",
      "===> /glade/scratch/doubrawa/post_processing/WRF_LES_25m_3D_2015-03-20_23:40_plus_filtered.nc\n",
      "/glade/scratch/doubrawa/post_processing/WRF_LES_25m_3D_2015-03-20_23:50.nc\n",
      "u\n"
     ]
    },
    {
     "name": "stderr",
     "output_type": "stream",
     "text": [
      "/glade/u/home/doubrawa/anaconda2/envs/wrfenv/lib/python3.6/site-packages/scipy/fftpack/basic.py:160: FutureWarning: Using a non-tuple sequence for multidimensional indexing is deprecated; use `arr[tuple(seq)]` instead of `arr[seq]`. In the future this will be interpreted as an array index, `arr[np.array(seq)]`, which will result either in an error or a different result.\n",
      "  z[index] = x\n"
     ]
    },
    {
     "name": "stdout",
     "output_type": "stream",
     "text": [
      "v\n",
      "w\n",
      "theta\n",
      "===> /glade/scratch/doubrawa/post_processing/WRF_LES_25m_3D_2015-03-20_23:50_plus_filtered.nc\n",
      "/glade/scratch/doubrawa/post_processing/WRF_LES_25m_3D_2015-03-28_14:00.nc\n",
      "u\n"
     ]
    },
    {
     "name": "stderr",
     "output_type": "stream",
     "text": [
      "/glade/u/home/doubrawa/anaconda2/envs/wrfenv/lib/python3.6/site-packages/scipy/fftpack/basic.py:160: FutureWarning: Using a non-tuple sequence for multidimensional indexing is deprecated; use `arr[tuple(seq)]` instead of `arr[seq]`. In the future this will be interpreted as an array index, `arr[np.array(seq)]`, which will result either in an error or a different result.\n",
      "  z[index] = x\n"
     ]
    },
    {
     "name": "stdout",
     "output_type": "stream",
     "text": [
      "v\n",
      "w\n",
      "theta\n",
      "===> /glade/scratch/doubrawa/post_processing/WRF_LES_25m_3D_2015-03-28_14:00_plus_filtered.nc\n",
      "/glade/scratch/doubrawa/post_processing/WRF_LES_25m_3D_2015-03-28_14:10.nc\n",
      "u\n"
     ]
    },
    {
     "name": "stderr",
     "output_type": "stream",
     "text": [
      "/glade/u/home/doubrawa/anaconda2/envs/wrfenv/lib/python3.6/site-packages/scipy/fftpack/basic.py:160: FutureWarning: Using a non-tuple sequence for multidimensional indexing is deprecated; use `arr[tuple(seq)]` instead of `arr[seq]`. In the future this will be interpreted as an array index, `arr[np.array(seq)]`, which will result either in an error or a different result.\n",
      "  z[index] = x\n"
     ]
    },
    {
     "name": "stdout",
     "output_type": "stream",
     "text": [
      "v\n",
      "w\n",
      "theta\n",
      "===> /glade/scratch/doubrawa/post_processing/WRF_LES_25m_3D_2015-03-28_14:10_plus_filtered.nc\n",
      "/glade/scratch/doubrawa/post_processing/WRF_LES_25m_3D_2015-03-28_14:20.nc\n",
      "u\n"
     ]
    },
    {
     "name": "stderr",
     "output_type": "stream",
     "text": [
      "/glade/u/home/doubrawa/anaconda2/envs/wrfenv/lib/python3.6/site-packages/scipy/fftpack/basic.py:160: FutureWarning: Using a non-tuple sequence for multidimensional indexing is deprecated; use `arr[tuple(seq)]` instead of `arr[seq]`. In the future this will be interpreted as an array index, `arr[np.array(seq)]`, which will result either in an error or a different result.\n",
      "  z[index] = x\n"
     ]
    },
    {
     "name": "stdout",
     "output_type": "stream",
     "text": [
      "v\n",
      "w\n",
      "theta\n",
      "===> /glade/scratch/doubrawa/post_processing/WRF_LES_25m_3D_2015-03-28_14:20_plus_filtered.nc\n",
      "/glade/scratch/doubrawa/post_processing/WRF_LES_25m_3D_2015-03-28_14:30.nc\n",
      "u\n"
     ]
    },
    {
     "name": "stderr",
     "output_type": "stream",
     "text": [
      "/glade/u/home/doubrawa/anaconda2/envs/wrfenv/lib/python3.6/site-packages/scipy/fftpack/basic.py:160: FutureWarning: Using a non-tuple sequence for multidimensional indexing is deprecated; use `arr[tuple(seq)]` instead of `arr[seq]`. In the future this will be interpreted as an array index, `arr[np.array(seq)]`, which will result either in an error or a different result.\n",
      "  z[index] = x\n"
     ]
    },
    {
     "name": "stdout",
     "output_type": "stream",
     "text": [
      "v\n",
      "w\n",
      "theta\n",
      "===> /glade/scratch/doubrawa/post_processing/WRF_LES_25m_3D_2015-03-28_14:30_plus_filtered.nc\n",
      "/glade/scratch/doubrawa/post_processing/WRF_LES_25m_3D_2015-03-28_14:40.nc\n",
      "u\n"
     ]
    },
    {
     "name": "stderr",
     "output_type": "stream",
     "text": [
      "/glade/u/home/doubrawa/anaconda2/envs/wrfenv/lib/python3.6/site-packages/scipy/fftpack/basic.py:160: FutureWarning: Using a non-tuple sequence for multidimensional indexing is deprecated; use `arr[tuple(seq)]` instead of `arr[seq]`. In the future this will be interpreted as an array index, `arr[np.array(seq)]`, which will result either in an error or a different result.\n",
      "  z[index] = x\n"
     ]
    },
    {
     "name": "stdout",
     "output_type": "stream",
     "text": [
      "v\n",
      "w\n",
      "theta\n",
      "===> /glade/scratch/doubrawa/post_processing/WRF_LES_25m_3D_2015-03-28_14:40_plus_filtered.nc\n",
      "/glade/scratch/doubrawa/post_processing/WRF_LES_25m_3D_2015-03-28_14:50.nc\n",
      "u\n"
     ]
    },
    {
     "name": "stderr",
     "output_type": "stream",
     "text": [
      "/glade/u/home/doubrawa/anaconda2/envs/wrfenv/lib/python3.6/site-packages/scipy/fftpack/basic.py:160: FutureWarning: Using a non-tuple sequence for multidimensional indexing is deprecated; use `arr[tuple(seq)]` instead of `arr[seq]`. In the future this will be interpreted as an array index, `arr[np.array(seq)]`, which will result either in an error or a different result.\n",
      "  z[index] = x\n"
     ]
    },
    {
     "name": "stdout",
     "output_type": "stream",
     "text": [
      "v\n",
      "w\n",
      "theta\n",
      "===> /glade/scratch/doubrawa/post_processing/WRF_LES_25m_3D_2015-03-28_14:50_plus_filtered.nc\n",
      "/glade/scratch/doubrawa/post_processing/WRF_LES_25m_3D_2015-03-28_15:00.nc\n",
      "u\n"
     ]
    },
    {
     "name": "stderr",
     "output_type": "stream",
     "text": [
      "/glade/u/home/doubrawa/anaconda2/envs/wrfenv/lib/python3.6/site-packages/scipy/fftpack/basic.py:160: FutureWarning: Using a non-tuple sequence for multidimensional indexing is deprecated; use `arr[tuple(seq)]` instead of `arr[seq]`. In the future this will be interpreted as an array index, `arr[np.array(seq)]`, which will result either in an error or a different result.\n",
      "  z[index] = x\n"
     ]
    },
    {
     "name": "stdout",
     "output_type": "stream",
     "text": [
      "v\n",
      "w\n",
      "theta\n",
      "===> /glade/scratch/doubrawa/post_processing/WRF_LES_25m_3D_2015-03-28_15:00_plus_filtered.nc\n",
      "/glade/scratch/doubrawa/post_processing/WRF_LES_25m_3D_2015-03-28_15:10.nc\n",
      "u\n"
     ]
    },
    {
     "name": "stderr",
     "output_type": "stream",
     "text": [
      "/glade/u/home/doubrawa/anaconda2/envs/wrfenv/lib/python3.6/site-packages/scipy/fftpack/basic.py:160: FutureWarning: Using a non-tuple sequence for multidimensional indexing is deprecated; use `arr[tuple(seq)]` instead of `arr[seq]`. In the future this will be interpreted as an array index, `arr[np.array(seq)]`, which will result either in an error or a different result.\n",
      "  z[index] = x\n"
     ]
    },
    {
     "name": "stdout",
     "output_type": "stream",
     "text": [
      "v\n",
      "w\n",
      "theta\n",
      "===> /glade/scratch/doubrawa/post_processing/WRF_LES_25m_3D_2015-03-28_15:10_plus_filtered.nc\n",
      "/glade/scratch/doubrawa/post_processing/WRF_LES_25m_3D_2015-03-28_15:20.nc\n",
      "u\n"
     ]
    },
    {
     "name": "stderr",
     "output_type": "stream",
     "text": [
      "/glade/u/home/doubrawa/anaconda2/envs/wrfenv/lib/python3.6/site-packages/scipy/fftpack/basic.py:160: FutureWarning: Using a non-tuple sequence for multidimensional indexing is deprecated; use `arr[tuple(seq)]` instead of `arr[seq]`. In the future this will be interpreted as an array index, `arr[np.array(seq)]`, which will result either in an error or a different result.\n",
      "  z[index] = x\n"
     ]
    },
    {
     "name": "stdout",
     "output_type": "stream",
     "text": [
      "v\n",
      "w\n",
      "theta\n",
      "===> /glade/scratch/doubrawa/post_processing/WRF_LES_25m_3D_2015-03-28_15:20_plus_filtered.nc\n",
      "/glade/scratch/doubrawa/post_processing/WRF_LES_25m_3D_2015-03-28_15:30.nc\n",
      "u\n"
     ]
    },
    {
     "name": "stderr",
     "output_type": "stream",
     "text": [
      "/glade/u/home/doubrawa/anaconda2/envs/wrfenv/lib/python3.6/site-packages/scipy/fftpack/basic.py:160: FutureWarning: Using a non-tuple sequence for multidimensional indexing is deprecated; use `arr[tuple(seq)]` instead of `arr[seq]`. In the future this will be interpreted as an array index, `arr[np.array(seq)]`, which will result either in an error or a different result.\n",
      "  z[index] = x\n"
     ]
    },
    {
     "name": "stdout",
     "output_type": "stream",
     "text": [
      "v\n",
      "w\n",
      "theta\n",
      "===> /glade/scratch/doubrawa/post_processing/WRF_LES_25m_3D_2015-03-28_15:30_plus_filtered.nc\n",
      "/glade/scratch/doubrawa/post_processing/WRF_LES_25m_3D_2015-03-28_15:40.nc\n",
      "u\n"
     ]
    },
    {
     "name": "stderr",
     "output_type": "stream",
     "text": [
      "/glade/u/home/doubrawa/anaconda2/envs/wrfenv/lib/python3.6/site-packages/scipy/fftpack/basic.py:160: FutureWarning: Using a non-tuple sequence for multidimensional indexing is deprecated; use `arr[tuple(seq)]` instead of `arr[seq]`. In the future this will be interpreted as an array index, `arr[np.array(seq)]`, which will result either in an error or a different result.\n",
      "  z[index] = x\n"
     ]
    },
    {
     "name": "stdout",
     "output_type": "stream",
     "text": [
      "v\n",
      "w\n",
      "theta\n",
      "===> /glade/scratch/doubrawa/post_processing/WRF_LES_25m_3D_2015-03-28_15:40_plus_filtered.nc\n",
      "/glade/scratch/doubrawa/post_processing/WRF_LES_25m_3D_2015-03-28_15:50.nc\n",
      "u\n"
     ]
    },
    {
     "name": "stderr",
     "output_type": "stream",
     "text": [
      "/glade/u/home/doubrawa/anaconda2/envs/wrfenv/lib/python3.6/site-packages/scipy/fftpack/basic.py:160: FutureWarning: Using a non-tuple sequence for multidimensional indexing is deprecated; use `arr[tuple(seq)]` instead of `arr[seq]`. In the future this will be interpreted as an array index, `arr[np.array(seq)]`, which will result either in an error or a different result.\n",
      "  z[index] = x\n"
     ]
    },
    {
     "name": "stdout",
     "output_type": "stream",
     "text": [
      "v\n",
      "w\n",
      "theta\n",
      "===> /glade/scratch/doubrawa/post_processing/WRF_LES_25m_3D_2015-03-28_15:50_plus_filtered.nc\n",
      "/glade/scratch/doubrawa/post_processing/WRF_LES_25m_3D_2015-03-28_16:00.nc\n",
      "u\n"
     ]
    },
    {
     "name": "stderr",
     "output_type": "stream",
     "text": [
      "/glade/u/home/doubrawa/anaconda2/envs/wrfenv/lib/python3.6/site-packages/scipy/fftpack/basic.py:160: FutureWarning: Using a non-tuple sequence for multidimensional indexing is deprecated; use `arr[tuple(seq)]` instead of `arr[seq]`. In the future this will be interpreted as an array index, `arr[np.array(seq)]`, which will result either in an error or a different result.\n",
      "  z[index] = x\n"
     ]
    },
    {
     "name": "stdout",
     "output_type": "stream",
     "text": [
      "v\n",
      "w\n",
      "theta\n",
      "===> /glade/scratch/doubrawa/post_processing/WRF_LES_25m_3D_2015-03-28_16:00_plus_filtered.nc\n",
      "/glade/scratch/doubrawa/post_processing/WRF_LES_25m_3D_2015-03-28_16:10.nc\n",
      "u\n"
     ]
    },
    {
     "name": "stderr",
     "output_type": "stream",
     "text": [
      "/glade/u/home/doubrawa/anaconda2/envs/wrfenv/lib/python3.6/site-packages/scipy/fftpack/basic.py:160: FutureWarning: Using a non-tuple sequence for multidimensional indexing is deprecated; use `arr[tuple(seq)]` instead of `arr[seq]`. In the future this will be interpreted as an array index, `arr[np.array(seq)]`, which will result either in an error or a different result.\n",
      "  z[index] = x\n"
     ]
    },
    {
     "name": "stdout",
     "output_type": "stream",
     "text": [
      "v\n",
      "w\n",
      "theta\n",
      "===> /glade/scratch/doubrawa/post_processing/WRF_LES_25m_3D_2015-03-28_16:10_plus_filtered.nc\n",
      "/glade/scratch/doubrawa/post_processing/WRF_LES_25m_3D_2015-03-28_16:20.nc\n",
      "u\n"
     ]
    },
    {
     "name": "stderr",
     "output_type": "stream",
     "text": [
      "/glade/u/home/doubrawa/anaconda2/envs/wrfenv/lib/python3.6/site-packages/scipy/fftpack/basic.py:160: FutureWarning: Using a non-tuple sequence for multidimensional indexing is deprecated; use `arr[tuple(seq)]` instead of `arr[seq]`. In the future this will be interpreted as an array index, `arr[np.array(seq)]`, which will result either in an error or a different result.\n",
      "  z[index] = x\n"
     ]
    },
    {
     "name": "stdout",
     "output_type": "stream",
     "text": [
      "v\n",
      "w\n",
      "theta\n",
      "===> /glade/scratch/doubrawa/post_processing/WRF_LES_25m_3D_2015-03-28_16:20_plus_filtered.nc\n",
      "/glade/scratch/doubrawa/post_processing/WRF_LES_25m_3D_2015-03-28_16:30.nc\n",
      "u\n"
     ]
    },
    {
     "name": "stderr",
     "output_type": "stream",
     "text": [
      "/glade/u/home/doubrawa/anaconda2/envs/wrfenv/lib/python3.6/site-packages/scipy/fftpack/basic.py:160: FutureWarning: Using a non-tuple sequence for multidimensional indexing is deprecated; use `arr[tuple(seq)]` instead of `arr[seq]`. In the future this will be interpreted as an array index, `arr[np.array(seq)]`, which will result either in an error or a different result.\n",
      "  z[index] = x\n"
     ]
    },
    {
     "name": "stdout",
     "output_type": "stream",
     "text": [
      "v\n",
      "w\n",
      "theta\n",
      "===> /glade/scratch/doubrawa/post_processing/WRF_LES_25m_3D_2015-03-28_16:30_plus_filtered.nc\n",
      "/glade/scratch/doubrawa/post_processing/WRF_LES_25m_3D_2015-03-28_16:40.nc\n",
      "u\n"
     ]
    },
    {
     "name": "stderr",
     "output_type": "stream",
     "text": [
      "/glade/u/home/doubrawa/anaconda2/envs/wrfenv/lib/python3.6/site-packages/scipy/fftpack/basic.py:160: FutureWarning: Using a non-tuple sequence for multidimensional indexing is deprecated; use `arr[tuple(seq)]` instead of `arr[seq]`. In the future this will be interpreted as an array index, `arr[np.array(seq)]`, which will result either in an error or a different result.\n",
      "  z[index] = x\n"
     ]
    },
    {
     "name": "stdout",
     "output_type": "stream",
     "text": [
      "v\n",
      "w\n",
      "theta\n",
      "===> /glade/scratch/doubrawa/post_processing/WRF_LES_25m_3D_2015-03-28_16:40_plus_filtered.nc\n",
      "/glade/scratch/doubrawa/post_processing/WRF_LES_25m_3D_2015-03-28_16:50.nc\n",
      "u\n"
     ]
    },
    {
     "name": "stderr",
     "output_type": "stream",
     "text": [
      "/glade/u/home/doubrawa/anaconda2/envs/wrfenv/lib/python3.6/site-packages/scipy/fftpack/basic.py:160: FutureWarning: Using a non-tuple sequence for multidimensional indexing is deprecated; use `arr[tuple(seq)]` instead of `arr[seq]`. In the future this will be interpreted as an array index, `arr[np.array(seq)]`, which will result either in an error or a different result.\n",
      "  z[index] = x\n"
     ]
    },
    {
     "name": "stdout",
     "output_type": "stream",
     "text": [
      "v\n",
      "w\n",
      "theta\n",
      "===> /glade/scratch/doubrawa/post_processing/WRF_LES_25m_3D_2015-03-28_16:50_plus_filtered.nc\n",
      "/glade/scratch/doubrawa/post_processing/WRF_LES_25m_3D_2015-03-28_17:00.nc\n",
      "u\n"
     ]
    },
    {
     "name": "stderr",
     "output_type": "stream",
     "text": [
      "/glade/u/home/doubrawa/anaconda2/envs/wrfenv/lib/python3.6/site-packages/scipy/fftpack/basic.py:160: FutureWarning: Using a non-tuple sequence for multidimensional indexing is deprecated; use `arr[tuple(seq)]` instead of `arr[seq]`. In the future this will be interpreted as an array index, `arr[np.array(seq)]`, which will result either in an error or a different result.\n",
      "  z[index] = x\n"
     ]
    },
    {
     "name": "stdout",
     "output_type": "stream",
     "text": [
      "v\n",
      "w\n",
      "theta\n",
      "===> /glade/scratch/doubrawa/post_processing/WRF_LES_25m_3D_2015-03-28_17:00_plus_filtered.nc\n",
      "/glade/scratch/doubrawa/post_processing/WRF_LES_25m_3D_2015-03-28_17:10.nc\n",
      "u\n"
     ]
    },
    {
     "name": "stderr",
     "output_type": "stream",
     "text": [
      "/glade/u/home/doubrawa/anaconda2/envs/wrfenv/lib/python3.6/site-packages/scipy/fftpack/basic.py:160: FutureWarning: Using a non-tuple sequence for multidimensional indexing is deprecated; use `arr[tuple(seq)]` instead of `arr[seq]`. In the future this will be interpreted as an array index, `arr[np.array(seq)]`, which will result either in an error or a different result.\n",
      "  z[index] = x\n"
     ]
    },
    {
     "name": "stdout",
     "output_type": "stream",
     "text": [
      "v\n",
      "w\n",
      "theta\n",
      "===> /glade/scratch/doubrawa/post_processing/WRF_LES_25m_3D_2015-03-28_17:10_plus_filtered.nc\n",
      "/glade/scratch/doubrawa/post_processing/WRF_LES_25m_3D_2015-03-28_17:20.nc\n",
      "u\n"
     ]
    },
    {
     "name": "stderr",
     "output_type": "stream",
     "text": [
      "/glade/u/home/doubrawa/anaconda2/envs/wrfenv/lib/python3.6/site-packages/scipy/fftpack/basic.py:160: FutureWarning: Using a non-tuple sequence for multidimensional indexing is deprecated; use `arr[tuple(seq)]` instead of `arr[seq]`. In the future this will be interpreted as an array index, `arr[np.array(seq)]`, which will result either in an error or a different result.\n",
      "  z[index] = x\n"
     ]
    },
    {
     "name": "stdout",
     "output_type": "stream",
     "text": [
      "v\n",
      "w\n",
      "theta\n",
      "===> /glade/scratch/doubrawa/post_processing/WRF_LES_25m_3D_2015-03-28_17:20_plus_filtered.nc\n",
      "/glade/scratch/doubrawa/post_processing/WRF_LES_25m_3D_2015-03-28_17:30.nc\n",
      "u\n"
     ]
    },
    {
     "name": "stderr",
     "output_type": "stream",
     "text": [
      "/glade/u/home/doubrawa/anaconda2/envs/wrfenv/lib/python3.6/site-packages/scipy/fftpack/basic.py:160: FutureWarning: Using a non-tuple sequence for multidimensional indexing is deprecated; use `arr[tuple(seq)]` instead of `arr[seq]`. In the future this will be interpreted as an array index, `arr[np.array(seq)]`, which will result either in an error or a different result.\n",
      "  z[index] = x\n"
     ]
    },
    {
     "name": "stdout",
     "output_type": "stream",
     "text": [
      "v\n",
      "w\n",
      "theta\n",
      "===> /glade/scratch/doubrawa/post_processing/WRF_LES_25m_3D_2015-03-28_17:30_plus_filtered.nc\n",
      "/glade/scratch/doubrawa/post_processing/WRF_LES_25m_3D_2015-03-28_17:40.nc\n",
      "u\n"
     ]
    },
    {
     "name": "stderr",
     "output_type": "stream",
     "text": [
      "/glade/u/home/doubrawa/anaconda2/envs/wrfenv/lib/python3.6/site-packages/scipy/fftpack/basic.py:160: FutureWarning: Using a non-tuple sequence for multidimensional indexing is deprecated; use `arr[tuple(seq)]` instead of `arr[seq]`. In the future this will be interpreted as an array index, `arr[np.array(seq)]`, which will result either in an error or a different result.\n",
      "  z[index] = x\n"
     ]
    },
    {
     "name": "stdout",
     "output_type": "stream",
     "text": [
      "v\n",
      "w\n",
      "theta\n",
      "===> /glade/scratch/doubrawa/post_processing/WRF_LES_25m_3D_2015-03-28_17:40_plus_filtered.nc\n",
      "/glade/scratch/doubrawa/post_processing/WRF_LES_25m_3D_2015-03-28_17:50.nc\n",
      "u\n"
     ]
    },
    {
     "name": "stderr",
     "output_type": "stream",
     "text": [
      "/glade/u/home/doubrawa/anaconda2/envs/wrfenv/lib/python3.6/site-packages/scipy/fftpack/basic.py:160: FutureWarning: Using a non-tuple sequence for multidimensional indexing is deprecated; use `arr[tuple(seq)]` instead of `arr[seq]`. In the future this will be interpreted as an array index, `arr[np.array(seq)]`, which will result either in an error or a different result.\n",
      "  z[index] = x\n"
     ]
    },
    {
     "name": "stdout",
     "output_type": "stream",
     "text": [
      "v\n",
      "w\n",
      "theta\n",
      "===> /glade/scratch/doubrawa/post_processing/WRF_LES_25m_3D_2015-03-28_17:50_plus_filtered.nc\n",
      "/glade/scratch/doubrawa/post_processing/WRF_LES_25m_3D_2015-03-28_18:00.nc\n",
      "u\n"
     ]
    },
    {
     "name": "stderr",
     "output_type": "stream",
     "text": [
      "/glade/u/home/doubrawa/anaconda2/envs/wrfenv/lib/python3.6/site-packages/scipy/fftpack/basic.py:160: FutureWarning: Using a non-tuple sequence for multidimensional indexing is deprecated; use `arr[tuple(seq)]` instead of `arr[seq]`. In the future this will be interpreted as an array index, `arr[np.array(seq)]`, which will result either in an error or a different result.\n",
      "  z[index] = x\n"
     ]
    },
    {
     "name": "stdout",
     "output_type": "stream",
     "text": [
      "v\n",
      "w\n",
      "theta\n",
      "===> /glade/scratch/doubrawa/post_processing/WRF_LES_25m_3D_2015-03-28_18:00_plus_filtered.nc\n",
      "/glade/scratch/doubrawa/post_processing/WRF_LES_25m_3D_2015-03-28_18:10.nc\n",
      "u\n"
     ]
    },
    {
     "name": "stderr",
     "output_type": "stream",
     "text": [
      "/glade/u/home/doubrawa/anaconda2/envs/wrfenv/lib/python3.6/site-packages/scipy/fftpack/basic.py:160: FutureWarning: Using a non-tuple sequence for multidimensional indexing is deprecated; use `arr[tuple(seq)]` instead of `arr[seq]`. In the future this will be interpreted as an array index, `arr[np.array(seq)]`, which will result either in an error or a different result.\n",
      "  z[index] = x\n"
     ]
    },
    {
     "name": "stdout",
     "output_type": "stream",
     "text": [
      "v\n",
      "w\n",
      "theta\n",
      "===> /glade/scratch/doubrawa/post_processing/WRF_LES_25m_3D_2015-03-28_18:10_plus_filtered.nc\n",
      "/glade/scratch/doubrawa/post_processing/WRF_LES_25m_3D_2015-03-28_18:20.nc\n",
      "u\n"
     ]
    },
    {
     "name": "stderr",
     "output_type": "stream",
     "text": [
      "/glade/u/home/doubrawa/anaconda2/envs/wrfenv/lib/python3.6/site-packages/scipy/fftpack/basic.py:160: FutureWarning: Using a non-tuple sequence for multidimensional indexing is deprecated; use `arr[tuple(seq)]` instead of `arr[seq]`. In the future this will be interpreted as an array index, `arr[np.array(seq)]`, which will result either in an error or a different result.\n",
      "  z[index] = x\n"
     ]
    },
    {
     "name": "stdout",
     "output_type": "stream",
     "text": [
      "v\n",
      "w\n",
      "theta\n",
      "===> /glade/scratch/doubrawa/post_processing/WRF_LES_25m_3D_2015-03-28_18:20_plus_filtered.nc\n",
      "/glade/scratch/doubrawa/post_processing/WRF_LES_25m_3D_2015-03-28_18:30.nc\n",
      "u\n"
     ]
    },
    {
     "name": "stderr",
     "output_type": "stream",
     "text": [
      "/glade/u/home/doubrawa/anaconda2/envs/wrfenv/lib/python3.6/site-packages/scipy/fftpack/basic.py:160: FutureWarning: Using a non-tuple sequence for multidimensional indexing is deprecated; use `arr[tuple(seq)]` instead of `arr[seq]`. In the future this will be interpreted as an array index, `arr[np.array(seq)]`, which will result either in an error or a different result.\n",
      "  z[index] = x\n"
     ]
    },
    {
     "name": "stdout",
     "output_type": "stream",
     "text": [
      "v\n",
      "w\n",
      "theta\n",
      "===> /glade/scratch/doubrawa/post_processing/WRF_LES_25m_3D_2015-03-28_18:30_plus_filtered.nc\n",
      "/glade/scratch/doubrawa/post_processing/WRF_LES_25m_3D_2015-03-28_18:40.nc\n",
      "u\n"
     ]
    },
    {
     "name": "stderr",
     "output_type": "stream",
     "text": [
      "/glade/u/home/doubrawa/anaconda2/envs/wrfenv/lib/python3.6/site-packages/scipy/fftpack/basic.py:160: FutureWarning: Using a non-tuple sequence for multidimensional indexing is deprecated; use `arr[tuple(seq)]` instead of `arr[seq]`. In the future this will be interpreted as an array index, `arr[np.array(seq)]`, which will result either in an error or a different result.\n",
      "  z[index] = x\n"
     ]
    },
    {
     "name": "stdout",
     "output_type": "stream",
     "text": [
      "v\n",
      "w\n",
      "theta\n",
      "===> /glade/scratch/doubrawa/post_processing/WRF_LES_25m_3D_2015-03-28_18:40_plus_filtered.nc\n",
      "/glade/scratch/doubrawa/post_processing/WRF_LES_25m_3D_2015-03-28_18:50.nc\n",
      "u\n"
     ]
    },
    {
     "name": "stderr",
     "output_type": "stream",
     "text": [
      "/glade/u/home/doubrawa/anaconda2/envs/wrfenv/lib/python3.6/site-packages/scipy/fftpack/basic.py:160: FutureWarning: Using a non-tuple sequence for multidimensional indexing is deprecated; use `arr[tuple(seq)]` instead of `arr[seq]`. In the future this will be interpreted as an array index, `arr[np.array(seq)]`, which will result either in an error or a different result.\n",
      "  z[index] = x\n"
     ]
    },
    {
     "name": "stdout",
     "output_type": "stream",
     "text": [
      "v\n",
      "w\n",
      "theta\n",
      "===> /glade/scratch/doubrawa/post_processing/WRF_LES_25m_3D_2015-03-28_18:50_plus_filtered.nc\n",
      "/glade/scratch/doubrawa/post_processing/WRF_LES_25m_3D_2015-03-28_19:00.nc\n",
      "u\n"
     ]
    },
    {
     "name": "stderr",
     "output_type": "stream",
     "text": [
      "/glade/u/home/doubrawa/anaconda2/envs/wrfenv/lib/python3.6/site-packages/scipy/fftpack/basic.py:160: FutureWarning: Using a non-tuple sequence for multidimensional indexing is deprecated; use `arr[tuple(seq)]` instead of `arr[seq]`. In the future this will be interpreted as an array index, `arr[np.array(seq)]`, which will result either in an error or a different result.\n",
      "  z[index] = x\n"
     ]
    },
    {
     "name": "stdout",
     "output_type": "stream",
     "text": [
      "v\n",
      "w\n",
      "theta\n",
      "===> /glade/scratch/doubrawa/post_processing/WRF_LES_25m_3D_2015-03-28_19:00_plus_filtered.nc\n",
      "/glade/scratch/doubrawa/post_processing/WRF_LES_25m_3D_2015-03-28_19:10.nc\n",
      "u\n"
     ]
    },
    {
     "name": "stderr",
     "output_type": "stream",
     "text": [
      "/glade/u/home/doubrawa/anaconda2/envs/wrfenv/lib/python3.6/site-packages/scipy/fftpack/basic.py:160: FutureWarning: Using a non-tuple sequence for multidimensional indexing is deprecated; use `arr[tuple(seq)]` instead of `arr[seq]`. In the future this will be interpreted as an array index, `arr[np.array(seq)]`, which will result either in an error or a different result.\n",
      "  z[index] = x\n"
     ]
    },
    {
     "name": "stdout",
     "output_type": "stream",
     "text": [
      "v\n",
      "w\n",
      "theta\n",
      "===> /glade/scratch/doubrawa/post_processing/WRF_LES_25m_3D_2015-03-28_19:10_plus_filtered.nc\n",
      "/glade/scratch/doubrawa/post_processing/WRF_LES_25m_3D_2015-03-28_19:20.nc\n",
      "u\n"
     ]
    },
    {
     "name": "stderr",
     "output_type": "stream",
     "text": [
      "/glade/u/home/doubrawa/anaconda2/envs/wrfenv/lib/python3.6/site-packages/scipy/fftpack/basic.py:160: FutureWarning: Using a non-tuple sequence for multidimensional indexing is deprecated; use `arr[tuple(seq)]` instead of `arr[seq]`. In the future this will be interpreted as an array index, `arr[np.array(seq)]`, which will result either in an error or a different result.\n",
      "  z[index] = x\n"
     ]
    },
    {
     "name": "stdout",
     "output_type": "stream",
     "text": [
      "v\n",
      "w\n",
      "theta\n",
      "===> /glade/scratch/doubrawa/post_processing/WRF_LES_25m_3D_2015-03-28_19:20_plus_filtered.nc\n",
      "/glade/scratch/doubrawa/post_processing/WRF_LES_25m_3D_2015-03-28_19:30.nc\n",
      "u\n"
     ]
    },
    {
     "name": "stderr",
     "output_type": "stream",
     "text": [
      "/glade/u/home/doubrawa/anaconda2/envs/wrfenv/lib/python3.6/site-packages/scipy/fftpack/basic.py:160: FutureWarning: Using a non-tuple sequence for multidimensional indexing is deprecated; use `arr[tuple(seq)]` instead of `arr[seq]`. In the future this will be interpreted as an array index, `arr[np.array(seq)]`, which will result either in an error or a different result.\n",
      "  z[index] = x\n"
     ]
    },
    {
     "name": "stdout",
     "output_type": "stream",
     "text": [
      "v\n",
      "w\n",
      "theta\n",
      "===> /glade/scratch/doubrawa/post_processing/WRF_LES_25m_3D_2015-03-28_19:30_plus_filtered.nc\n",
      "/glade/scratch/doubrawa/post_processing/WRF_LES_25m_3D_2015-03-28_19:40.nc\n",
      "u\n"
     ]
    },
    {
     "name": "stderr",
     "output_type": "stream",
     "text": [
      "/glade/u/home/doubrawa/anaconda2/envs/wrfenv/lib/python3.6/site-packages/scipy/fftpack/basic.py:160: FutureWarning: Using a non-tuple sequence for multidimensional indexing is deprecated; use `arr[tuple(seq)]` instead of `arr[seq]`. In the future this will be interpreted as an array index, `arr[np.array(seq)]`, which will result either in an error or a different result.\n",
      "  z[index] = x\n"
     ]
    },
    {
     "name": "stdout",
     "output_type": "stream",
     "text": [
      "v\n",
      "w\n",
      "theta\n",
      "===> /glade/scratch/doubrawa/post_processing/WRF_LES_25m_3D_2015-03-28_19:40_plus_filtered.nc\n",
      "/glade/scratch/doubrawa/post_processing/WRF_LES_25m_3D_2015-03-28_19:50.nc\n",
      "u\n"
     ]
    },
    {
     "name": "stderr",
     "output_type": "stream",
     "text": [
      "/glade/u/home/doubrawa/anaconda2/envs/wrfenv/lib/python3.6/site-packages/scipy/fftpack/basic.py:160: FutureWarning: Using a non-tuple sequence for multidimensional indexing is deprecated; use `arr[tuple(seq)]` instead of `arr[seq]`. In the future this will be interpreted as an array index, `arr[np.array(seq)]`, which will result either in an error or a different result.\n",
      "  z[index] = x\n"
     ]
    },
    {
     "name": "stdout",
     "output_type": "stream",
     "text": [
      "v\n",
      "w\n",
      "theta\n",
      "===> /glade/scratch/doubrawa/post_processing/WRF_LES_25m_3D_2015-03-28_19:50_plus_filtered.nc\n",
      "/glade/scratch/doubrawa/post_processing/WRF_LES_25m_3D_2015-03-28_20:00.nc\n",
      "u\n"
     ]
    },
    {
     "name": "stderr",
     "output_type": "stream",
     "text": [
      "/glade/u/home/doubrawa/anaconda2/envs/wrfenv/lib/python3.6/site-packages/scipy/fftpack/basic.py:160: FutureWarning: Using a non-tuple sequence for multidimensional indexing is deprecated; use `arr[tuple(seq)]` instead of `arr[seq]`. In the future this will be interpreted as an array index, `arr[np.array(seq)]`, which will result either in an error or a different result.\n",
      "  z[index] = x\n"
     ]
    },
    {
     "name": "stdout",
     "output_type": "stream",
     "text": [
      "v\n",
      "w\n",
      "theta\n",
      "===> /glade/scratch/doubrawa/post_processing/WRF_LES_25m_3D_2015-03-28_20:00_plus_filtered.nc\n",
      "/glade/scratch/doubrawa/post_processing/WRF_LES_25m_3D_2015-03-28_20:10.nc\n",
      "u\n"
     ]
    },
    {
     "name": "stderr",
     "output_type": "stream",
     "text": [
      "/glade/u/home/doubrawa/anaconda2/envs/wrfenv/lib/python3.6/site-packages/scipy/fftpack/basic.py:160: FutureWarning: Using a non-tuple sequence for multidimensional indexing is deprecated; use `arr[tuple(seq)]` instead of `arr[seq]`. In the future this will be interpreted as an array index, `arr[np.array(seq)]`, which will result either in an error or a different result.\n",
      "  z[index] = x\n"
     ]
    },
    {
     "name": "stdout",
     "output_type": "stream",
     "text": [
      "v\n",
      "w\n",
      "theta\n",
      "===> /glade/scratch/doubrawa/post_processing/WRF_LES_25m_3D_2015-03-28_20:10_plus_filtered.nc\n",
      "/glade/scratch/doubrawa/post_processing/WRF_LES_25m_3D_2015-03-28_20:20.nc\n",
      "u\n"
     ]
    },
    {
     "name": "stderr",
     "output_type": "stream",
     "text": [
      "/glade/u/home/doubrawa/anaconda2/envs/wrfenv/lib/python3.6/site-packages/scipy/fftpack/basic.py:160: FutureWarning: Using a non-tuple sequence for multidimensional indexing is deprecated; use `arr[tuple(seq)]` instead of `arr[seq]`. In the future this will be interpreted as an array index, `arr[np.array(seq)]`, which will result either in an error or a different result.\n",
      "  z[index] = x\n"
     ]
    },
    {
     "name": "stdout",
     "output_type": "stream",
     "text": [
      "v\n",
      "w\n",
      "theta\n",
      "===> /glade/scratch/doubrawa/post_processing/WRF_LES_25m_3D_2015-03-28_20:20_plus_filtered.nc\n",
      "/glade/scratch/doubrawa/post_processing/WRF_LES_25m_3D_2015-03-28_20:30.nc\n",
      "u\n"
     ]
    },
    {
     "name": "stderr",
     "output_type": "stream",
     "text": [
      "/glade/u/home/doubrawa/anaconda2/envs/wrfenv/lib/python3.6/site-packages/scipy/fftpack/basic.py:160: FutureWarning: Using a non-tuple sequence for multidimensional indexing is deprecated; use `arr[tuple(seq)]` instead of `arr[seq]`. In the future this will be interpreted as an array index, `arr[np.array(seq)]`, which will result either in an error or a different result.\n",
      "  z[index] = x\n"
     ]
    },
    {
     "name": "stdout",
     "output_type": "stream",
     "text": [
      "v\n",
      "w\n",
      "theta\n",
      "===> /glade/scratch/doubrawa/post_processing/WRF_LES_25m_3D_2015-03-28_20:30_plus_filtered.nc\n",
      "/glade/scratch/doubrawa/post_processing/WRF_LES_25m_3D_2015-03-28_20:40.nc\n",
      "u\n"
     ]
    },
    {
     "name": "stderr",
     "output_type": "stream",
     "text": [
      "/glade/u/home/doubrawa/anaconda2/envs/wrfenv/lib/python3.6/site-packages/scipy/fftpack/basic.py:160: FutureWarning: Using a non-tuple sequence for multidimensional indexing is deprecated; use `arr[tuple(seq)]` instead of `arr[seq]`. In the future this will be interpreted as an array index, `arr[np.array(seq)]`, which will result either in an error or a different result.\n",
      "  z[index] = x\n"
     ]
    },
    {
     "name": "stdout",
     "output_type": "stream",
     "text": [
      "v\n",
      "w\n",
      "theta\n",
      "===> /glade/scratch/doubrawa/post_processing/WRF_LES_25m_3D_2015-03-28_20:40_plus_filtered.nc\n",
      "/glade/scratch/doubrawa/post_processing/WRF_LES_25m_3D_2015-03-28_20:50.nc\n",
      "u\n"
     ]
    },
    {
     "name": "stderr",
     "output_type": "stream",
     "text": [
      "/glade/u/home/doubrawa/anaconda2/envs/wrfenv/lib/python3.6/site-packages/scipy/fftpack/basic.py:160: FutureWarning: Using a non-tuple sequence for multidimensional indexing is deprecated; use `arr[tuple(seq)]` instead of `arr[seq]`. In the future this will be interpreted as an array index, `arr[np.array(seq)]`, which will result either in an error or a different result.\n",
      "  z[index] = x\n"
     ]
    },
    {
     "name": "stdout",
     "output_type": "stream",
     "text": [
      "v\n",
      "w\n",
      "theta\n",
      "===> /glade/scratch/doubrawa/post_processing/WRF_LES_25m_3D_2015-03-28_20:50_plus_filtered.nc\n",
      "/glade/scratch/doubrawa/post_processing/WRF_LES_25m_3D_2015-03-28_21:00.nc\n",
      "u\n"
     ]
    },
    {
     "name": "stderr",
     "output_type": "stream",
     "text": [
      "/glade/u/home/doubrawa/anaconda2/envs/wrfenv/lib/python3.6/site-packages/scipy/fftpack/basic.py:160: FutureWarning: Using a non-tuple sequence for multidimensional indexing is deprecated; use `arr[tuple(seq)]` instead of `arr[seq]`. In the future this will be interpreted as an array index, `arr[np.array(seq)]`, which will result either in an error or a different result.\n",
      "  z[index] = x\n"
     ]
    },
    {
     "name": "stdout",
     "output_type": "stream",
     "text": [
      "v\n",
      "w\n",
      "theta\n",
      "===> /glade/scratch/doubrawa/post_processing/WRF_LES_25m_3D_2015-03-28_21:00_plus_filtered.nc\n",
      "/glade/scratch/doubrawa/post_processing/WRF_LES_25m_3D_2015-03-28_21:10.nc\n",
      "u\n"
     ]
    },
    {
     "name": "stderr",
     "output_type": "stream",
     "text": [
      "/glade/u/home/doubrawa/anaconda2/envs/wrfenv/lib/python3.6/site-packages/scipy/fftpack/basic.py:160: FutureWarning: Using a non-tuple sequence for multidimensional indexing is deprecated; use `arr[tuple(seq)]` instead of `arr[seq]`. In the future this will be interpreted as an array index, `arr[np.array(seq)]`, which will result either in an error or a different result.\n",
      "  z[index] = x\n"
     ]
    },
    {
     "name": "stdout",
     "output_type": "stream",
     "text": [
      "v\n",
      "w\n",
      "theta\n",
      "===> /glade/scratch/doubrawa/post_processing/WRF_LES_25m_3D_2015-03-28_21:10_plus_filtered.nc\n",
      "/glade/scratch/doubrawa/post_processing/WRF_LES_25m_3D_2015-03-28_21:20.nc\n",
      "u\n"
     ]
    },
    {
     "name": "stderr",
     "output_type": "stream",
     "text": [
      "/glade/u/home/doubrawa/anaconda2/envs/wrfenv/lib/python3.6/site-packages/scipy/fftpack/basic.py:160: FutureWarning: Using a non-tuple sequence for multidimensional indexing is deprecated; use `arr[tuple(seq)]` instead of `arr[seq]`. In the future this will be interpreted as an array index, `arr[np.array(seq)]`, which will result either in an error or a different result.\n",
      "  z[index] = x\n"
     ]
    },
    {
     "name": "stdout",
     "output_type": "stream",
     "text": [
      "v\n",
      "w\n",
      "theta\n",
      "===> /glade/scratch/doubrawa/post_processing/WRF_LES_25m_3D_2015-03-28_21:20_plus_filtered.nc\n",
      "/glade/scratch/doubrawa/post_processing/WRF_LES_25m_3D_2015-03-28_21:30.nc\n",
      "u\n"
     ]
    },
    {
     "name": "stderr",
     "output_type": "stream",
     "text": [
      "/glade/u/home/doubrawa/anaconda2/envs/wrfenv/lib/python3.6/site-packages/scipy/fftpack/basic.py:160: FutureWarning: Using a non-tuple sequence for multidimensional indexing is deprecated; use `arr[tuple(seq)]` instead of `arr[seq]`. In the future this will be interpreted as an array index, `arr[np.array(seq)]`, which will result either in an error or a different result.\n",
      "  z[index] = x\n"
     ]
    },
    {
     "name": "stdout",
     "output_type": "stream",
     "text": [
      "v\n",
      "w\n",
      "theta\n",
      "===> /glade/scratch/doubrawa/post_processing/WRF_LES_25m_3D_2015-03-28_21:30_plus_filtered.nc\n",
      "/glade/scratch/doubrawa/post_processing/WRF_LES_25m_3D_2015-03-28_21:40.nc\n",
      "u\n"
     ]
    },
    {
     "name": "stderr",
     "output_type": "stream",
     "text": [
      "/glade/u/home/doubrawa/anaconda2/envs/wrfenv/lib/python3.6/site-packages/scipy/fftpack/basic.py:160: FutureWarning: Using a non-tuple sequence for multidimensional indexing is deprecated; use `arr[tuple(seq)]` instead of `arr[seq]`. In the future this will be interpreted as an array index, `arr[np.array(seq)]`, which will result either in an error or a different result.\n",
      "  z[index] = x\n"
     ]
    },
    {
     "name": "stdout",
     "output_type": "stream",
     "text": [
      "v\n",
      "w\n",
      "theta\n",
      "===> /glade/scratch/doubrawa/post_processing/WRF_LES_25m_3D_2015-03-28_21:40_plus_filtered.nc\n",
      "/glade/scratch/doubrawa/post_processing/WRF_LES_25m_3D_2015-03-28_21:50.nc\n",
      "u\n"
     ]
    },
    {
     "name": "stderr",
     "output_type": "stream",
     "text": [
      "/glade/u/home/doubrawa/anaconda2/envs/wrfenv/lib/python3.6/site-packages/scipy/fftpack/basic.py:160: FutureWarning: Using a non-tuple sequence for multidimensional indexing is deprecated; use `arr[tuple(seq)]` instead of `arr[seq]`. In the future this will be interpreted as an array index, `arr[np.array(seq)]`, which will result either in an error or a different result.\n",
      "  z[index] = x\n"
     ]
    },
    {
     "name": "stdout",
     "output_type": "stream",
     "text": [
      "v\n",
      "w\n",
      "theta\n",
      "===> /glade/scratch/doubrawa/post_processing/WRF_LES_25m_3D_2015-03-28_21:50_plus_filtered.nc\n",
      "/glade/scratch/doubrawa/post_processing/WRF_LES_25m_3D_2015-03-28_22:00.nc\n",
      "u\n"
     ]
    },
    {
     "name": "stderr",
     "output_type": "stream",
     "text": [
      "/glade/u/home/doubrawa/anaconda2/envs/wrfenv/lib/python3.6/site-packages/scipy/fftpack/basic.py:160: FutureWarning: Using a non-tuple sequence for multidimensional indexing is deprecated; use `arr[tuple(seq)]` instead of `arr[seq]`. In the future this will be interpreted as an array index, `arr[np.array(seq)]`, which will result either in an error or a different result.\n",
      "  z[index] = x\n"
     ]
    },
    {
     "name": "stdout",
     "output_type": "stream",
     "text": [
      "v\n",
      "w\n",
      "theta\n",
      "===> /glade/scratch/doubrawa/post_processing/WRF_LES_25m_3D_2015-03-28_22:00_plus_filtered.nc\n",
      "/glade/scratch/doubrawa/post_processing/WRF_LES_25m_3D_2015-03-28_22:10.nc\n",
      "u\n"
     ]
    },
    {
     "name": "stderr",
     "output_type": "stream",
     "text": [
      "/glade/u/home/doubrawa/anaconda2/envs/wrfenv/lib/python3.6/site-packages/scipy/fftpack/basic.py:160: FutureWarning: Using a non-tuple sequence for multidimensional indexing is deprecated; use `arr[tuple(seq)]` instead of `arr[seq]`. In the future this will be interpreted as an array index, `arr[np.array(seq)]`, which will result either in an error or a different result.\n",
      "  z[index] = x\n"
     ]
    },
    {
     "name": "stdout",
     "output_type": "stream",
     "text": [
      "v\n",
      "w\n",
      "theta\n",
      "===> /glade/scratch/doubrawa/post_processing/WRF_LES_25m_3D_2015-03-28_22:10_plus_filtered.nc\n",
      "/glade/scratch/doubrawa/post_processing/WRF_LES_25m_3D_2015-03-28_22:20.nc\n",
      "u\n"
     ]
    },
    {
     "name": "stderr",
     "output_type": "stream",
     "text": [
      "/glade/u/home/doubrawa/anaconda2/envs/wrfenv/lib/python3.6/site-packages/scipy/fftpack/basic.py:160: FutureWarning: Using a non-tuple sequence for multidimensional indexing is deprecated; use `arr[tuple(seq)]` instead of `arr[seq]`. In the future this will be interpreted as an array index, `arr[np.array(seq)]`, which will result either in an error or a different result.\n",
      "  z[index] = x\n"
     ]
    },
    {
     "name": "stdout",
     "output_type": "stream",
     "text": [
      "v\n",
      "w\n",
      "theta\n",
      "===> /glade/scratch/doubrawa/post_processing/WRF_LES_25m_3D_2015-03-28_22:20_plus_filtered.nc\n",
      "/glade/scratch/doubrawa/post_processing/WRF_LES_25m_3D_2015-03-28_22:30.nc\n",
      "u\n"
     ]
    },
    {
     "name": "stderr",
     "output_type": "stream",
     "text": [
      "/glade/u/home/doubrawa/anaconda2/envs/wrfenv/lib/python3.6/site-packages/scipy/fftpack/basic.py:160: FutureWarning: Using a non-tuple sequence for multidimensional indexing is deprecated; use `arr[tuple(seq)]` instead of `arr[seq]`. In the future this will be interpreted as an array index, `arr[np.array(seq)]`, which will result either in an error or a different result.\n",
      "  z[index] = x\n"
     ]
    },
    {
     "name": "stdout",
     "output_type": "stream",
     "text": [
      "v\n",
      "w\n",
      "theta\n",
      "===> /glade/scratch/doubrawa/post_processing/WRF_LES_25m_3D_2015-03-28_22:30_plus_filtered.nc\n",
      "/glade/scratch/doubrawa/post_processing/WRF_LES_25m_3D_2015-03-28_22:40.nc\n",
      "u\n"
     ]
    },
    {
     "name": "stderr",
     "output_type": "stream",
     "text": [
      "/glade/u/home/doubrawa/anaconda2/envs/wrfenv/lib/python3.6/site-packages/scipy/fftpack/basic.py:160: FutureWarning: Using a non-tuple sequence for multidimensional indexing is deprecated; use `arr[tuple(seq)]` instead of `arr[seq]`. In the future this will be interpreted as an array index, `arr[np.array(seq)]`, which will result either in an error or a different result.\n",
      "  z[index] = x\n"
     ]
    },
    {
     "name": "stdout",
     "output_type": "stream",
     "text": [
      "v\n",
      "w\n",
      "theta\n",
      "===> /glade/scratch/doubrawa/post_processing/WRF_LES_25m_3D_2015-03-28_22:40_plus_filtered.nc\n",
      "/glade/scratch/doubrawa/post_processing/WRF_LES_25m_3D_2015-03-28_22:50.nc\n",
      "u\n"
     ]
    },
    {
     "name": "stderr",
     "output_type": "stream",
     "text": [
      "/glade/u/home/doubrawa/anaconda2/envs/wrfenv/lib/python3.6/site-packages/scipy/fftpack/basic.py:160: FutureWarning: Using a non-tuple sequence for multidimensional indexing is deprecated; use `arr[tuple(seq)]` instead of `arr[seq]`. In the future this will be interpreted as an array index, `arr[np.array(seq)]`, which will result either in an error or a different result.\n",
      "  z[index] = x\n"
     ]
    },
    {
     "name": "stdout",
     "output_type": "stream",
     "text": [
      "v\n",
      "w\n",
      "theta\n",
      "===> /glade/scratch/doubrawa/post_processing/WRF_LES_25m_3D_2015-03-28_22:50_plus_filtered.nc\n",
      "/glade/scratch/doubrawa/post_processing/WRF_LES_25m_3D_2015-03-28_23:00.nc\n",
      "u\n"
     ]
    },
    {
     "name": "stderr",
     "output_type": "stream",
     "text": [
      "/glade/u/home/doubrawa/anaconda2/envs/wrfenv/lib/python3.6/site-packages/scipy/fftpack/basic.py:160: FutureWarning: Using a non-tuple sequence for multidimensional indexing is deprecated; use `arr[tuple(seq)]` instead of `arr[seq]`. In the future this will be interpreted as an array index, `arr[np.array(seq)]`, which will result either in an error or a different result.\n",
      "  z[index] = x\n"
     ]
    },
    {
     "name": "stdout",
     "output_type": "stream",
     "text": [
      "v\n",
      "w\n",
      "theta\n",
      "===> /glade/scratch/doubrawa/post_processing/WRF_LES_25m_3D_2015-03-28_23:00_plus_filtered.nc\n",
      "/glade/scratch/doubrawa/post_processing/WRF_LES_25m_3D_2015-03-28_23:10.nc\n",
      "u\n"
     ]
    },
    {
     "name": "stderr",
     "output_type": "stream",
     "text": [
      "/glade/u/home/doubrawa/anaconda2/envs/wrfenv/lib/python3.6/site-packages/scipy/fftpack/basic.py:160: FutureWarning: Using a non-tuple sequence for multidimensional indexing is deprecated; use `arr[tuple(seq)]` instead of `arr[seq]`. In the future this will be interpreted as an array index, `arr[np.array(seq)]`, which will result either in an error or a different result.\n",
      "  z[index] = x\n"
     ]
    },
    {
     "name": "stdout",
     "output_type": "stream",
     "text": [
      "v\n",
      "w\n",
      "theta\n",
      "===> /glade/scratch/doubrawa/post_processing/WRF_LES_25m_3D_2015-03-28_23:10_plus_filtered.nc\n",
      "/glade/scratch/doubrawa/post_processing/WRF_LES_25m_3D_2015-03-28_23:20.nc\n",
      "u\n"
     ]
    },
    {
     "name": "stderr",
     "output_type": "stream",
     "text": [
      "/glade/u/home/doubrawa/anaconda2/envs/wrfenv/lib/python3.6/site-packages/scipy/fftpack/basic.py:160: FutureWarning: Using a non-tuple sequence for multidimensional indexing is deprecated; use `arr[tuple(seq)]` instead of `arr[seq]`. In the future this will be interpreted as an array index, `arr[np.array(seq)]`, which will result either in an error or a different result.\n",
      "  z[index] = x\n"
     ]
    },
    {
     "name": "stdout",
     "output_type": "stream",
     "text": [
      "v\n",
      "w\n",
      "theta\n",
      "===> /glade/scratch/doubrawa/post_processing/WRF_LES_25m_3D_2015-03-28_23:20_plus_filtered.nc\n",
      "/glade/scratch/doubrawa/post_processing/WRF_LES_25m_3D_2015-03-28_23:30.nc\n",
      "u\n"
     ]
    },
    {
     "name": "stderr",
     "output_type": "stream",
     "text": [
      "/glade/u/home/doubrawa/anaconda2/envs/wrfenv/lib/python3.6/site-packages/scipy/fftpack/basic.py:160: FutureWarning: Using a non-tuple sequence for multidimensional indexing is deprecated; use `arr[tuple(seq)]` instead of `arr[seq]`. In the future this will be interpreted as an array index, `arr[np.array(seq)]`, which will result either in an error or a different result.\n",
      "  z[index] = x\n"
     ]
    },
    {
     "name": "stdout",
     "output_type": "stream",
     "text": [
      "v\n",
      "w\n",
      "theta\n",
      "===> /glade/scratch/doubrawa/post_processing/WRF_LES_25m_3D_2015-03-28_23:30_plus_filtered.nc\n",
      "/glade/scratch/doubrawa/post_processing/WRF_LES_25m_3D_2015-03-28_23:40.nc\n",
      "u\n"
     ]
    },
    {
     "name": "stderr",
     "output_type": "stream",
     "text": [
      "/glade/u/home/doubrawa/anaconda2/envs/wrfenv/lib/python3.6/site-packages/scipy/fftpack/basic.py:160: FutureWarning: Using a non-tuple sequence for multidimensional indexing is deprecated; use `arr[tuple(seq)]` instead of `arr[seq]`. In the future this will be interpreted as an array index, `arr[np.array(seq)]`, which will result either in an error or a different result.\n",
      "  z[index] = x\n"
     ]
    },
    {
     "name": "stdout",
     "output_type": "stream",
     "text": [
      "v\n",
      "w\n",
      "theta\n",
      "===> /glade/scratch/doubrawa/post_processing/WRF_LES_25m_3D_2015-03-28_23:40_plus_filtered.nc\n",
      "/glade/scratch/doubrawa/post_processing/WRF_LES_25m_3D_2015-03-28_23:50.nc\n",
      "u\n"
     ]
    },
    {
     "name": "stderr",
     "output_type": "stream",
     "text": [
      "/glade/u/home/doubrawa/anaconda2/envs/wrfenv/lib/python3.6/site-packages/scipy/fftpack/basic.py:160: FutureWarning: Using a non-tuple sequence for multidimensional indexing is deprecated; use `arr[tuple(seq)]` instead of `arr[seq]`. In the future this will be interpreted as an array index, `arr[np.array(seq)]`, which will result either in an error or a different result.\n",
      "  z[index] = x\n"
     ]
    },
    {
     "name": "stdout",
     "output_type": "stream",
     "text": [
      "v\n",
      "w\n",
      "theta\n",
      "===> /glade/scratch/doubrawa/post_processing/WRF_LES_25m_3D_2015-03-28_23:50_plus_filtered.nc\n",
      "/glade/scratch/doubrawa/post_processing/WRF_LES_25m_3D_2015-03-29_14:00.nc\n",
      "u\n"
     ]
    },
    {
     "name": "stderr",
     "output_type": "stream",
     "text": [
      "/glade/u/home/doubrawa/anaconda2/envs/wrfenv/lib/python3.6/site-packages/scipy/fftpack/basic.py:160: FutureWarning: Using a non-tuple sequence for multidimensional indexing is deprecated; use `arr[tuple(seq)]` instead of `arr[seq]`. In the future this will be interpreted as an array index, `arr[np.array(seq)]`, which will result either in an error or a different result.\n",
      "  z[index] = x\n"
     ]
    },
    {
     "name": "stdout",
     "output_type": "stream",
     "text": [
      "v\n",
      "w\n",
      "theta\n",
      "===> /glade/scratch/doubrawa/post_processing/WRF_LES_25m_3D_2015-03-29_14:00_plus_filtered.nc\n",
      "/glade/scratch/doubrawa/post_processing/WRF_LES_25m_3D_2015-03-29_14:10.nc\n",
      "u\n"
     ]
    },
    {
     "name": "stderr",
     "output_type": "stream",
     "text": [
      "/glade/u/home/doubrawa/anaconda2/envs/wrfenv/lib/python3.6/site-packages/scipy/fftpack/basic.py:160: FutureWarning: Using a non-tuple sequence for multidimensional indexing is deprecated; use `arr[tuple(seq)]` instead of `arr[seq]`. In the future this will be interpreted as an array index, `arr[np.array(seq)]`, which will result either in an error or a different result.\n",
      "  z[index] = x\n"
     ]
    },
    {
     "name": "stdout",
     "output_type": "stream",
     "text": [
      "v\n",
      "w\n",
      "theta\n",
      "===> /glade/scratch/doubrawa/post_processing/WRF_LES_25m_3D_2015-03-29_14:10_plus_filtered.nc\n",
      "/glade/scratch/doubrawa/post_processing/WRF_LES_25m_3D_2015-03-29_14:20.nc\n",
      "u\n"
     ]
    },
    {
     "name": "stderr",
     "output_type": "stream",
     "text": [
      "/glade/u/home/doubrawa/anaconda2/envs/wrfenv/lib/python3.6/site-packages/scipy/fftpack/basic.py:160: FutureWarning: Using a non-tuple sequence for multidimensional indexing is deprecated; use `arr[tuple(seq)]` instead of `arr[seq]`. In the future this will be interpreted as an array index, `arr[np.array(seq)]`, which will result either in an error or a different result.\n",
      "  z[index] = x\n"
     ]
    },
    {
     "name": "stdout",
     "output_type": "stream",
     "text": [
      "v\n",
      "w\n",
      "theta\n",
      "===> /glade/scratch/doubrawa/post_processing/WRF_LES_25m_3D_2015-03-29_14:20_plus_filtered.nc\n",
      "/glade/scratch/doubrawa/post_processing/WRF_LES_25m_3D_2015-03-29_14:30.nc\n",
      "u\n"
     ]
    },
    {
     "name": "stderr",
     "output_type": "stream",
     "text": [
      "/glade/u/home/doubrawa/anaconda2/envs/wrfenv/lib/python3.6/site-packages/scipy/fftpack/basic.py:160: FutureWarning: Using a non-tuple sequence for multidimensional indexing is deprecated; use `arr[tuple(seq)]` instead of `arr[seq]`. In the future this will be interpreted as an array index, `arr[np.array(seq)]`, which will result either in an error or a different result.\n",
      "  z[index] = x\n"
     ]
    },
    {
     "name": "stdout",
     "output_type": "stream",
     "text": [
      "v\n",
      "w\n",
      "theta\n",
      "===> /glade/scratch/doubrawa/post_processing/WRF_LES_25m_3D_2015-03-29_14:30_plus_filtered.nc\n",
      "/glade/scratch/doubrawa/post_processing/WRF_LES_25m_3D_2015-03-29_14:40.nc\n",
      "u\n"
     ]
    },
    {
     "name": "stderr",
     "output_type": "stream",
     "text": [
      "/glade/u/home/doubrawa/anaconda2/envs/wrfenv/lib/python3.6/site-packages/scipy/fftpack/basic.py:160: FutureWarning: Using a non-tuple sequence for multidimensional indexing is deprecated; use `arr[tuple(seq)]` instead of `arr[seq]`. In the future this will be interpreted as an array index, `arr[np.array(seq)]`, which will result either in an error or a different result.\n",
      "  z[index] = x\n"
     ]
    },
    {
     "name": "stdout",
     "output_type": "stream",
     "text": [
      "v\n",
      "w\n",
      "theta\n",
      "===> /glade/scratch/doubrawa/post_processing/WRF_LES_25m_3D_2015-03-29_14:40_plus_filtered.nc\n",
      "/glade/scratch/doubrawa/post_processing/WRF_LES_25m_3D_2015-03-29_14:50.nc\n",
      "u\n"
     ]
    },
    {
     "name": "stderr",
     "output_type": "stream",
     "text": [
      "/glade/u/home/doubrawa/anaconda2/envs/wrfenv/lib/python3.6/site-packages/scipy/fftpack/basic.py:160: FutureWarning: Using a non-tuple sequence for multidimensional indexing is deprecated; use `arr[tuple(seq)]` instead of `arr[seq]`. In the future this will be interpreted as an array index, `arr[np.array(seq)]`, which will result either in an error or a different result.\n",
      "  z[index] = x\n"
     ]
    },
    {
     "name": "stdout",
     "output_type": "stream",
     "text": [
      "v\n",
      "w\n",
      "theta\n",
      "===> /glade/scratch/doubrawa/post_processing/WRF_LES_25m_3D_2015-03-29_14:50_plus_filtered.nc\n",
      "/glade/scratch/doubrawa/post_processing/WRF_LES_25m_3D_2015-03-29_15:00.nc\n",
      "u\n"
     ]
    },
    {
     "name": "stderr",
     "output_type": "stream",
     "text": [
      "/glade/u/home/doubrawa/anaconda2/envs/wrfenv/lib/python3.6/site-packages/scipy/fftpack/basic.py:160: FutureWarning: Using a non-tuple sequence for multidimensional indexing is deprecated; use `arr[tuple(seq)]` instead of `arr[seq]`. In the future this will be interpreted as an array index, `arr[np.array(seq)]`, which will result either in an error or a different result.\n",
      "  z[index] = x\n"
     ]
    },
    {
     "name": "stdout",
     "output_type": "stream",
     "text": [
      "v\n",
      "w\n",
      "theta\n",
      "===> /glade/scratch/doubrawa/post_processing/WRF_LES_25m_3D_2015-03-29_15:00_plus_filtered.nc\n",
      "/glade/scratch/doubrawa/post_processing/WRF_LES_25m_3D_2015-03-29_15:10.nc\n",
      "u\n"
     ]
    },
    {
     "name": "stderr",
     "output_type": "stream",
     "text": [
      "/glade/u/home/doubrawa/anaconda2/envs/wrfenv/lib/python3.6/site-packages/scipy/fftpack/basic.py:160: FutureWarning: Using a non-tuple sequence for multidimensional indexing is deprecated; use `arr[tuple(seq)]` instead of `arr[seq]`. In the future this will be interpreted as an array index, `arr[np.array(seq)]`, which will result either in an error or a different result.\n",
      "  z[index] = x\n"
     ]
    },
    {
     "name": "stdout",
     "output_type": "stream",
     "text": [
      "v\n",
      "w\n",
      "theta\n",
      "===> /glade/scratch/doubrawa/post_processing/WRF_LES_25m_3D_2015-03-29_15:10_plus_filtered.nc\n",
      "/glade/scratch/doubrawa/post_processing/WRF_LES_25m_3D_2015-03-29_15:20.nc\n",
      "u\n"
     ]
    },
    {
     "name": "stderr",
     "output_type": "stream",
     "text": [
      "/glade/u/home/doubrawa/anaconda2/envs/wrfenv/lib/python3.6/site-packages/scipy/fftpack/basic.py:160: FutureWarning: Using a non-tuple sequence for multidimensional indexing is deprecated; use `arr[tuple(seq)]` instead of `arr[seq]`. In the future this will be interpreted as an array index, `arr[np.array(seq)]`, which will result either in an error or a different result.\n",
      "  z[index] = x\n"
     ]
    },
    {
     "name": "stdout",
     "output_type": "stream",
     "text": [
      "v\n",
      "w\n",
      "theta\n",
      "===> /glade/scratch/doubrawa/post_processing/WRF_LES_25m_3D_2015-03-29_15:20_plus_filtered.nc\n",
      "/glade/scratch/doubrawa/post_processing/WRF_LES_25m_3D_2015-03-29_15:30.nc\n",
      "u\n"
     ]
    },
    {
     "name": "stderr",
     "output_type": "stream",
     "text": [
      "/glade/u/home/doubrawa/anaconda2/envs/wrfenv/lib/python3.6/site-packages/scipy/fftpack/basic.py:160: FutureWarning: Using a non-tuple sequence for multidimensional indexing is deprecated; use `arr[tuple(seq)]` instead of `arr[seq]`. In the future this will be interpreted as an array index, `arr[np.array(seq)]`, which will result either in an error or a different result.\n",
      "  z[index] = x\n"
     ]
    },
    {
     "name": "stdout",
     "output_type": "stream",
     "text": [
      "v\n",
      "w\n",
      "theta\n",
      "===> /glade/scratch/doubrawa/post_processing/WRF_LES_25m_3D_2015-03-29_15:30_plus_filtered.nc\n",
      "/glade/scratch/doubrawa/post_processing/WRF_LES_25m_3D_2015-03-29_15:40.nc\n",
      "u\n"
     ]
    },
    {
     "name": "stderr",
     "output_type": "stream",
     "text": [
      "/glade/u/home/doubrawa/anaconda2/envs/wrfenv/lib/python3.6/site-packages/scipy/fftpack/basic.py:160: FutureWarning: Using a non-tuple sequence for multidimensional indexing is deprecated; use `arr[tuple(seq)]` instead of `arr[seq]`. In the future this will be interpreted as an array index, `arr[np.array(seq)]`, which will result either in an error or a different result.\n",
      "  z[index] = x\n"
     ]
    },
    {
     "name": "stdout",
     "output_type": "stream",
     "text": [
      "v\n",
      "w\n",
      "theta\n",
      "===> /glade/scratch/doubrawa/post_processing/WRF_LES_25m_3D_2015-03-29_15:40_plus_filtered.nc\n",
      "/glade/scratch/doubrawa/post_processing/WRF_LES_25m_3D_2015-03-29_15:50.nc\n",
      "u\n"
     ]
    },
    {
     "name": "stderr",
     "output_type": "stream",
     "text": [
      "/glade/u/home/doubrawa/anaconda2/envs/wrfenv/lib/python3.6/site-packages/scipy/fftpack/basic.py:160: FutureWarning: Using a non-tuple sequence for multidimensional indexing is deprecated; use `arr[tuple(seq)]` instead of `arr[seq]`. In the future this will be interpreted as an array index, `arr[np.array(seq)]`, which will result either in an error or a different result.\n",
      "  z[index] = x\n"
     ]
    },
    {
     "name": "stdout",
     "output_type": "stream",
     "text": [
      "v\n",
      "w\n",
      "theta\n",
      "===> /glade/scratch/doubrawa/post_processing/WRF_LES_25m_3D_2015-03-29_15:50_plus_filtered.nc\n",
      "/glade/scratch/doubrawa/post_processing/WRF_LES_25m_3D_2015-03-29_16:00.nc\n",
      "u\n"
     ]
    },
    {
     "name": "stderr",
     "output_type": "stream",
     "text": [
      "/glade/u/home/doubrawa/anaconda2/envs/wrfenv/lib/python3.6/site-packages/scipy/fftpack/basic.py:160: FutureWarning: Using a non-tuple sequence for multidimensional indexing is deprecated; use `arr[tuple(seq)]` instead of `arr[seq]`. In the future this will be interpreted as an array index, `arr[np.array(seq)]`, which will result either in an error or a different result.\n",
      "  z[index] = x\n"
     ]
    },
    {
     "name": "stdout",
     "output_type": "stream",
     "text": [
      "v\n",
      "w\n",
      "theta\n",
      "===> /glade/scratch/doubrawa/post_processing/WRF_LES_25m_3D_2015-03-29_16:00_plus_filtered.nc\n",
      "/glade/scratch/doubrawa/post_processing/WRF_LES_25m_3D_2015-03-29_16:10.nc\n",
      "u\n"
     ]
    },
    {
     "name": "stderr",
     "output_type": "stream",
     "text": [
      "/glade/u/home/doubrawa/anaconda2/envs/wrfenv/lib/python3.6/site-packages/scipy/fftpack/basic.py:160: FutureWarning: Using a non-tuple sequence for multidimensional indexing is deprecated; use `arr[tuple(seq)]` instead of `arr[seq]`. In the future this will be interpreted as an array index, `arr[np.array(seq)]`, which will result either in an error or a different result.\n",
      "  z[index] = x\n"
     ]
    },
    {
     "name": "stdout",
     "output_type": "stream",
     "text": [
      "v\n",
      "w\n",
      "theta\n",
      "===> /glade/scratch/doubrawa/post_processing/WRF_LES_25m_3D_2015-03-29_16:10_plus_filtered.nc\n",
      "/glade/scratch/doubrawa/post_processing/WRF_LES_25m_3D_2015-03-29_16:20.nc\n",
      "u\n"
     ]
    },
    {
     "name": "stderr",
     "output_type": "stream",
     "text": [
      "/glade/u/home/doubrawa/anaconda2/envs/wrfenv/lib/python3.6/site-packages/scipy/fftpack/basic.py:160: FutureWarning: Using a non-tuple sequence for multidimensional indexing is deprecated; use `arr[tuple(seq)]` instead of `arr[seq]`. In the future this will be interpreted as an array index, `arr[np.array(seq)]`, which will result either in an error or a different result.\n",
      "  z[index] = x\n"
     ]
    },
    {
     "name": "stdout",
     "output_type": "stream",
     "text": [
      "v\n",
      "w\n",
      "theta\n",
      "===> /glade/scratch/doubrawa/post_processing/WRF_LES_25m_3D_2015-03-29_16:20_plus_filtered.nc\n",
      "/glade/scratch/doubrawa/post_processing/WRF_LES_25m_3D_2015-03-29_16:30.nc\n",
      "u\n"
     ]
    },
    {
     "name": "stderr",
     "output_type": "stream",
     "text": [
      "/glade/u/home/doubrawa/anaconda2/envs/wrfenv/lib/python3.6/site-packages/scipy/fftpack/basic.py:160: FutureWarning: Using a non-tuple sequence for multidimensional indexing is deprecated; use `arr[tuple(seq)]` instead of `arr[seq]`. In the future this will be interpreted as an array index, `arr[np.array(seq)]`, which will result either in an error or a different result.\n",
      "  z[index] = x\n"
     ]
    },
    {
     "name": "stdout",
     "output_type": "stream",
     "text": [
      "v\n",
      "w\n",
      "theta\n",
      "===> /glade/scratch/doubrawa/post_processing/WRF_LES_25m_3D_2015-03-29_16:30_plus_filtered.nc\n",
      "/glade/scratch/doubrawa/post_processing/WRF_LES_25m_3D_2015-03-29_16:40.nc\n",
      "u\n"
     ]
    },
    {
     "name": "stderr",
     "output_type": "stream",
     "text": [
      "/glade/u/home/doubrawa/anaconda2/envs/wrfenv/lib/python3.6/site-packages/scipy/fftpack/basic.py:160: FutureWarning: Using a non-tuple sequence for multidimensional indexing is deprecated; use `arr[tuple(seq)]` instead of `arr[seq]`. In the future this will be interpreted as an array index, `arr[np.array(seq)]`, which will result either in an error or a different result.\n",
      "  z[index] = x\n"
     ]
    },
    {
     "name": "stdout",
     "output_type": "stream",
     "text": [
      "v\n",
      "w\n",
      "theta\n",
      "===> /glade/scratch/doubrawa/post_processing/WRF_LES_25m_3D_2015-03-29_16:40_plus_filtered.nc\n",
      "/glade/scratch/doubrawa/post_processing/WRF_LES_25m_3D_2015-03-29_16:50.nc\n",
      "u\n"
     ]
    },
    {
     "name": "stderr",
     "output_type": "stream",
     "text": [
      "/glade/u/home/doubrawa/anaconda2/envs/wrfenv/lib/python3.6/site-packages/scipy/fftpack/basic.py:160: FutureWarning: Using a non-tuple sequence for multidimensional indexing is deprecated; use `arr[tuple(seq)]` instead of `arr[seq]`. In the future this will be interpreted as an array index, `arr[np.array(seq)]`, which will result either in an error or a different result.\n",
      "  z[index] = x\n"
     ]
    },
    {
     "name": "stdout",
     "output_type": "stream",
     "text": [
      "v\n",
      "w\n",
      "theta\n",
      "===> /glade/scratch/doubrawa/post_processing/WRF_LES_25m_3D_2015-03-29_16:50_plus_filtered.nc\n",
      "/glade/scratch/doubrawa/post_processing/WRF_LES_25m_3D_2015-03-29_17:00.nc\n",
      "u\n"
     ]
    },
    {
     "name": "stderr",
     "output_type": "stream",
     "text": [
      "/glade/u/home/doubrawa/anaconda2/envs/wrfenv/lib/python3.6/site-packages/scipy/fftpack/basic.py:160: FutureWarning: Using a non-tuple sequence for multidimensional indexing is deprecated; use `arr[tuple(seq)]` instead of `arr[seq]`. In the future this will be interpreted as an array index, `arr[np.array(seq)]`, which will result either in an error or a different result.\n",
      "  z[index] = x\n"
     ]
    },
    {
     "name": "stdout",
     "output_type": "stream",
     "text": [
      "v\n",
      "w\n",
      "theta\n",
      "===> /glade/scratch/doubrawa/post_processing/WRF_LES_25m_3D_2015-03-29_17:00_plus_filtered.nc\n",
      "/glade/scratch/doubrawa/post_processing/WRF_LES_25m_3D_2015-03-29_17:10.nc\n",
      "u\n"
     ]
    },
    {
     "name": "stderr",
     "output_type": "stream",
     "text": [
      "/glade/u/home/doubrawa/anaconda2/envs/wrfenv/lib/python3.6/site-packages/scipy/fftpack/basic.py:160: FutureWarning: Using a non-tuple sequence for multidimensional indexing is deprecated; use `arr[tuple(seq)]` instead of `arr[seq]`. In the future this will be interpreted as an array index, `arr[np.array(seq)]`, which will result either in an error or a different result.\n",
      "  z[index] = x\n"
     ]
    },
    {
     "name": "stdout",
     "output_type": "stream",
     "text": [
      "v\n",
      "w\n",
      "theta\n",
      "===> /glade/scratch/doubrawa/post_processing/WRF_LES_25m_3D_2015-03-29_17:10_plus_filtered.nc\n",
      "/glade/scratch/doubrawa/post_processing/WRF_LES_25m_3D_2015-03-29_17:20.nc\n",
      "u\n"
     ]
    },
    {
     "name": "stderr",
     "output_type": "stream",
     "text": [
      "/glade/u/home/doubrawa/anaconda2/envs/wrfenv/lib/python3.6/site-packages/scipy/fftpack/basic.py:160: FutureWarning: Using a non-tuple sequence for multidimensional indexing is deprecated; use `arr[tuple(seq)]` instead of `arr[seq]`. In the future this will be interpreted as an array index, `arr[np.array(seq)]`, which will result either in an error or a different result.\n",
      "  z[index] = x\n"
     ]
    },
    {
     "name": "stdout",
     "output_type": "stream",
     "text": [
      "v\n",
      "w\n",
      "theta\n",
      "===> /glade/scratch/doubrawa/post_processing/WRF_LES_25m_3D_2015-03-29_17:20_plus_filtered.nc\n",
      "/glade/scratch/doubrawa/post_processing/WRF_LES_25m_3D_2015-03-29_17:30.nc\n",
      "u\n"
     ]
    },
    {
     "name": "stderr",
     "output_type": "stream",
     "text": [
      "/glade/u/home/doubrawa/anaconda2/envs/wrfenv/lib/python3.6/site-packages/scipy/fftpack/basic.py:160: FutureWarning: Using a non-tuple sequence for multidimensional indexing is deprecated; use `arr[tuple(seq)]` instead of `arr[seq]`. In the future this will be interpreted as an array index, `arr[np.array(seq)]`, which will result either in an error or a different result.\n",
      "  z[index] = x\n"
     ]
    },
    {
     "name": "stdout",
     "output_type": "stream",
     "text": [
      "v\n",
      "w\n",
      "theta\n",
      "===> /glade/scratch/doubrawa/post_processing/WRF_LES_25m_3D_2015-03-29_17:30_plus_filtered.nc\n",
      "/glade/scratch/doubrawa/post_processing/WRF_LES_25m_3D_2015-03-29_17:40.nc\n",
      "u\n"
     ]
    },
    {
     "name": "stderr",
     "output_type": "stream",
     "text": [
      "/glade/u/home/doubrawa/anaconda2/envs/wrfenv/lib/python3.6/site-packages/scipy/fftpack/basic.py:160: FutureWarning: Using a non-tuple sequence for multidimensional indexing is deprecated; use `arr[tuple(seq)]` instead of `arr[seq]`. In the future this will be interpreted as an array index, `arr[np.array(seq)]`, which will result either in an error or a different result.\n",
      "  z[index] = x\n"
     ]
    },
    {
     "name": "stdout",
     "output_type": "stream",
     "text": [
      "v\n",
      "w\n",
      "theta\n",
      "===> /glade/scratch/doubrawa/post_processing/WRF_LES_25m_3D_2015-03-29_17:40_plus_filtered.nc\n",
      "/glade/scratch/doubrawa/post_processing/WRF_LES_25m_3D_2015-03-29_17:50.nc\n",
      "u\n"
     ]
    },
    {
     "name": "stderr",
     "output_type": "stream",
     "text": [
      "/glade/u/home/doubrawa/anaconda2/envs/wrfenv/lib/python3.6/site-packages/scipy/fftpack/basic.py:160: FutureWarning: Using a non-tuple sequence for multidimensional indexing is deprecated; use `arr[tuple(seq)]` instead of `arr[seq]`. In the future this will be interpreted as an array index, `arr[np.array(seq)]`, which will result either in an error or a different result.\n",
      "  z[index] = x\n"
     ]
    },
    {
     "name": "stdout",
     "output_type": "stream",
     "text": [
      "v\n",
      "w\n",
      "theta\n",
      "===> /glade/scratch/doubrawa/post_processing/WRF_LES_25m_3D_2015-03-29_17:50_plus_filtered.nc\n",
      "/glade/scratch/doubrawa/post_processing/WRF_LES_25m_3D_2015-03-29_18:00.nc\n",
      "u\n"
     ]
    },
    {
     "name": "stderr",
     "output_type": "stream",
     "text": [
      "/glade/u/home/doubrawa/anaconda2/envs/wrfenv/lib/python3.6/site-packages/scipy/fftpack/basic.py:160: FutureWarning: Using a non-tuple sequence for multidimensional indexing is deprecated; use `arr[tuple(seq)]` instead of `arr[seq]`. In the future this will be interpreted as an array index, `arr[np.array(seq)]`, which will result either in an error or a different result.\n",
      "  z[index] = x\n"
     ]
    },
    {
     "name": "stdout",
     "output_type": "stream",
     "text": [
      "v\n",
      "w\n",
      "theta\n",
      "===> /glade/scratch/doubrawa/post_processing/WRF_LES_25m_3D_2015-03-29_18:00_plus_filtered.nc\n",
      "/glade/scratch/doubrawa/post_processing/WRF_LES_25m_3D_2015-03-29_18:10.nc\n",
      "u\n"
     ]
    },
    {
     "name": "stderr",
     "output_type": "stream",
     "text": [
      "/glade/u/home/doubrawa/anaconda2/envs/wrfenv/lib/python3.6/site-packages/scipy/fftpack/basic.py:160: FutureWarning: Using a non-tuple sequence for multidimensional indexing is deprecated; use `arr[tuple(seq)]` instead of `arr[seq]`. In the future this will be interpreted as an array index, `arr[np.array(seq)]`, which will result either in an error or a different result.\n",
      "  z[index] = x\n"
     ]
    },
    {
     "name": "stdout",
     "output_type": "stream",
     "text": [
      "v\n",
      "w\n",
      "theta\n",
      "===> /glade/scratch/doubrawa/post_processing/WRF_LES_25m_3D_2015-03-29_18:10_plus_filtered.nc\n",
      "/glade/scratch/doubrawa/post_processing/WRF_LES_25m_3D_2015-03-29_18:20.nc\n",
      "u\n"
     ]
    },
    {
     "name": "stderr",
     "output_type": "stream",
     "text": [
      "/glade/u/home/doubrawa/anaconda2/envs/wrfenv/lib/python3.6/site-packages/scipy/fftpack/basic.py:160: FutureWarning: Using a non-tuple sequence for multidimensional indexing is deprecated; use `arr[tuple(seq)]` instead of `arr[seq]`. In the future this will be interpreted as an array index, `arr[np.array(seq)]`, which will result either in an error or a different result.\n",
      "  z[index] = x\n"
     ]
    },
    {
     "name": "stdout",
     "output_type": "stream",
     "text": [
      "v\n",
      "w\n",
      "theta\n",
      "===> /glade/scratch/doubrawa/post_processing/WRF_LES_25m_3D_2015-03-29_18:20_plus_filtered.nc\n",
      "/glade/scratch/doubrawa/post_processing/WRF_LES_25m_3D_2015-03-29_18:30.nc\n",
      "u\n"
     ]
    },
    {
     "name": "stderr",
     "output_type": "stream",
     "text": [
      "/glade/u/home/doubrawa/anaconda2/envs/wrfenv/lib/python3.6/site-packages/scipy/fftpack/basic.py:160: FutureWarning: Using a non-tuple sequence for multidimensional indexing is deprecated; use `arr[tuple(seq)]` instead of `arr[seq]`. In the future this will be interpreted as an array index, `arr[np.array(seq)]`, which will result either in an error or a different result.\n",
      "  z[index] = x\n"
     ]
    },
    {
     "name": "stdout",
     "output_type": "stream",
     "text": [
      "v\n",
      "w\n",
      "theta\n",
      "===> /glade/scratch/doubrawa/post_processing/WRF_LES_25m_3D_2015-03-29_18:30_plus_filtered.nc\n",
      "/glade/scratch/doubrawa/post_processing/WRF_LES_25m_3D_2015-03-29_18:40.nc\n",
      "u\n"
     ]
    },
    {
     "name": "stderr",
     "output_type": "stream",
     "text": [
      "/glade/u/home/doubrawa/anaconda2/envs/wrfenv/lib/python3.6/site-packages/scipy/fftpack/basic.py:160: FutureWarning: Using a non-tuple sequence for multidimensional indexing is deprecated; use `arr[tuple(seq)]` instead of `arr[seq]`. In the future this will be interpreted as an array index, `arr[np.array(seq)]`, which will result either in an error or a different result.\n",
      "  z[index] = x\n"
     ]
    },
    {
     "name": "stdout",
     "output_type": "stream",
     "text": [
      "v\n",
      "w\n",
      "theta\n",
      "===> /glade/scratch/doubrawa/post_processing/WRF_LES_25m_3D_2015-03-29_18:40_plus_filtered.nc\n",
      "/glade/scratch/doubrawa/post_processing/WRF_LES_25m_3D_2015-03-29_18:50.nc\n",
      "u\n"
     ]
    },
    {
     "name": "stderr",
     "output_type": "stream",
     "text": [
      "/glade/u/home/doubrawa/anaconda2/envs/wrfenv/lib/python3.6/site-packages/scipy/fftpack/basic.py:160: FutureWarning: Using a non-tuple sequence for multidimensional indexing is deprecated; use `arr[tuple(seq)]` instead of `arr[seq]`. In the future this will be interpreted as an array index, `arr[np.array(seq)]`, which will result either in an error or a different result.\n",
      "  z[index] = x\n"
     ]
    },
    {
     "name": "stdout",
     "output_type": "stream",
     "text": [
      "v\n",
      "w\n",
      "theta\n",
      "===> /glade/scratch/doubrawa/post_processing/WRF_LES_25m_3D_2015-03-29_18:50_plus_filtered.nc\n",
      "/glade/scratch/doubrawa/post_processing/WRF_LES_25m_3D_2015-03-29_19:00.nc\n",
      "u\n"
     ]
    },
    {
     "name": "stderr",
     "output_type": "stream",
     "text": [
      "/glade/u/home/doubrawa/anaconda2/envs/wrfenv/lib/python3.6/site-packages/scipy/fftpack/basic.py:160: FutureWarning: Using a non-tuple sequence for multidimensional indexing is deprecated; use `arr[tuple(seq)]` instead of `arr[seq]`. In the future this will be interpreted as an array index, `arr[np.array(seq)]`, which will result either in an error or a different result.\n",
      "  z[index] = x\n"
     ]
    },
    {
     "name": "stdout",
     "output_type": "stream",
     "text": [
      "v\n",
      "w\n",
      "theta\n",
      "===> /glade/scratch/doubrawa/post_processing/WRF_LES_25m_3D_2015-03-29_19:00_plus_filtered.nc\n",
      "/glade/scratch/doubrawa/post_processing/WRF_LES_25m_3D_2015-03-29_19:10.nc\n",
      "u\n"
     ]
    },
    {
     "name": "stderr",
     "output_type": "stream",
     "text": [
      "/glade/u/home/doubrawa/anaconda2/envs/wrfenv/lib/python3.6/site-packages/scipy/fftpack/basic.py:160: FutureWarning: Using a non-tuple sequence for multidimensional indexing is deprecated; use `arr[tuple(seq)]` instead of `arr[seq]`. In the future this will be interpreted as an array index, `arr[np.array(seq)]`, which will result either in an error or a different result.\n",
      "  z[index] = x\n"
     ]
    },
    {
     "name": "stdout",
     "output_type": "stream",
     "text": [
      "v\n",
      "w\n",
      "theta\n",
      "===> /glade/scratch/doubrawa/post_processing/WRF_LES_25m_3D_2015-03-29_19:10_plus_filtered.nc\n",
      "/glade/scratch/doubrawa/post_processing/WRF_LES_25m_3D_2015-03-29_19:20.nc\n",
      "u\n"
     ]
    },
    {
     "name": "stderr",
     "output_type": "stream",
     "text": [
      "/glade/u/home/doubrawa/anaconda2/envs/wrfenv/lib/python3.6/site-packages/scipy/fftpack/basic.py:160: FutureWarning: Using a non-tuple sequence for multidimensional indexing is deprecated; use `arr[tuple(seq)]` instead of `arr[seq]`. In the future this will be interpreted as an array index, `arr[np.array(seq)]`, which will result either in an error or a different result.\n",
      "  z[index] = x\n"
     ]
    },
    {
     "name": "stdout",
     "output_type": "stream",
     "text": [
      "v\n",
      "w\n",
      "theta\n",
      "===> /glade/scratch/doubrawa/post_processing/WRF_LES_25m_3D_2015-03-29_19:20_plus_filtered.nc\n",
      "/glade/scratch/doubrawa/post_processing/WRF_LES_25m_3D_2015-03-29_19:30.nc\n",
      "u\n"
     ]
    },
    {
     "name": "stderr",
     "output_type": "stream",
     "text": [
      "/glade/u/home/doubrawa/anaconda2/envs/wrfenv/lib/python3.6/site-packages/scipy/fftpack/basic.py:160: FutureWarning: Using a non-tuple sequence for multidimensional indexing is deprecated; use `arr[tuple(seq)]` instead of `arr[seq]`. In the future this will be interpreted as an array index, `arr[np.array(seq)]`, which will result either in an error or a different result.\n",
      "  z[index] = x\n"
     ]
    },
    {
     "name": "stdout",
     "output_type": "stream",
     "text": [
      "v\n",
      "w\n",
      "theta\n",
      "===> /glade/scratch/doubrawa/post_processing/WRF_LES_25m_3D_2015-03-29_19:30_plus_filtered.nc\n",
      "/glade/scratch/doubrawa/post_processing/WRF_LES_25m_3D_2015-03-29_19:40.nc\n",
      "u\n"
     ]
    },
    {
     "name": "stderr",
     "output_type": "stream",
     "text": [
      "/glade/u/home/doubrawa/anaconda2/envs/wrfenv/lib/python3.6/site-packages/scipy/fftpack/basic.py:160: FutureWarning: Using a non-tuple sequence for multidimensional indexing is deprecated; use `arr[tuple(seq)]` instead of `arr[seq]`. In the future this will be interpreted as an array index, `arr[np.array(seq)]`, which will result either in an error or a different result.\n",
      "  z[index] = x\n"
     ]
    },
    {
     "name": "stdout",
     "output_type": "stream",
     "text": [
      "v\n",
      "w\n",
      "theta\n",
      "===> /glade/scratch/doubrawa/post_processing/WRF_LES_25m_3D_2015-03-29_19:40_plus_filtered.nc\n",
      "/glade/scratch/doubrawa/post_processing/WRF_LES_25m_3D_2015-03-29_19:50.nc\n",
      "u\n"
     ]
    },
    {
     "name": "stderr",
     "output_type": "stream",
     "text": [
      "/glade/u/home/doubrawa/anaconda2/envs/wrfenv/lib/python3.6/site-packages/scipy/fftpack/basic.py:160: FutureWarning: Using a non-tuple sequence for multidimensional indexing is deprecated; use `arr[tuple(seq)]` instead of `arr[seq]`. In the future this will be interpreted as an array index, `arr[np.array(seq)]`, which will result either in an error or a different result.\n",
      "  z[index] = x\n"
     ]
    },
    {
     "name": "stdout",
     "output_type": "stream",
     "text": [
      "v\n",
      "w\n",
      "theta\n",
      "===> /glade/scratch/doubrawa/post_processing/WRF_LES_25m_3D_2015-03-29_19:50_plus_filtered.nc\n",
      "/glade/scratch/doubrawa/post_processing/WRF_LES_25m_3D_2015-03-29_20:00.nc\n",
      "u\n"
     ]
    },
    {
     "name": "stderr",
     "output_type": "stream",
     "text": [
      "/glade/u/home/doubrawa/anaconda2/envs/wrfenv/lib/python3.6/site-packages/scipy/fftpack/basic.py:160: FutureWarning: Using a non-tuple sequence for multidimensional indexing is deprecated; use `arr[tuple(seq)]` instead of `arr[seq]`. In the future this will be interpreted as an array index, `arr[np.array(seq)]`, which will result either in an error or a different result.\n",
      "  z[index] = x\n"
     ]
    },
    {
     "name": "stdout",
     "output_type": "stream",
     "text": [
      "v\n",
      "w\n",
      "theta\n",
      "===> /glade/scratch/doubrawa/post_processing/WRF_LES_25m_3D_2015-03-29_20:00_plus_filtered.nc\n",
      "/glade/scratch/doubrawa/post_processing/WRF_LES_25m_3D_2015-03-29_20:10.nc\n",
      "u\n"
     ]
    },
    {
     "name": "stderr",
     "output_type": "stream",
     "text": [
      "/glade/u/home/doubrawa/anaconda2/envs/wrfenv/lib/python3.6/site-packages/scipy/fftpack/basic.py:160: FutureWarning: Using a non-tuple sequence for multidimensional indexing is deprecated; use `arr[tuple(seq)]` instead of `arr[seq]`. In the future this will be interpreted as an array index, `arr[np.array(seq)]`, which will result either in an error or a different result.\n",
      "  z[index] = x\n"
     ]
    },
    {
     "name": "stdout",
     "output_type": "stream",
     "text": [
      "v\n",
      "w\n",
      "theta\n",
      "===> /glade/scratch/doubrawa/post_processing/WRF_LES_25m_3D_2015-03-29_20:10_plus_filtered.nc\n",
      "/glade/scratch/doubrawa/post_processing/WRF_LES_25m_3D_2015-03-29_20:20.nc\n",
      "u\n"
     ]
    },
    {
     "name": "stderr",
     "output_type": "stream",
     "text": [
      "/glade/u/home/doubrawa/anaconda2/envs/wrfenv/lib/python3.6/site-packages/scipy/fftpack/basic.py:160: FutureWarning: Using a non-tuple sequence for multidimensional indexing is deprecated; use `arr[tuple(seq)]` instead of `arr[seq]`. In the future this will be interpreted as an array index, `arr[np.array(seq)]`, which will result either in an error or a different result.\n",
      "  z[index] = x\n"
     ]
    },
    {
     "name": "stdout",
     "output_type": "stream",
     "text": [
      "v\n",
      "w\n",
      "theta\n",
      "===> /glade/scratch/doubrawa/post_processing/WRF_LES_25m_3D_2015-03-29_20:20_plus_filtered.nc\n",
      "/glade/scratch/doubrawa/post_processing/WRF_LES_25m_3D_2015-03-29_20:30.nc\n",
      "u\n"
     ]
    },
    {
     "name": "stderr",
     "output_type": "stream",
     "text": [
      "/glade/u/home/doubrawa/anaconda2/envs/wrfenv/lib/python3.6/site-packages/scipy/fftpack/basic.py:160: FutureWarning: Using a non-tuple sequence for multidimensional indexing is deprecated; use `arr[tuple(seq)]` instead of `arr[seq]`. In the future this will be interpreted as an array index, `arr[np.array(seq)]`, which will result either in an error or a different result.\n",
      "  z[index] = x\n"
     ]
    },
    {
     "name": "stdout",
     "output_type": "stream",
     "text": [
      "v\n",
      "w\n",
      "theta\n",
      "===> /glade/scratch/doubrawa/post_processing/WRF_LES_25m_3D_2015-03-29_20:30_plus_filtered.nc\n",
      "/glade/scratch/doubrawa/post_processing/WRF_LES_25m_3D_2015-03-29_20:40.nc\n",
      "u\n"
     ]
    },
    {
     "name": "stderr",
     "output_type": "stream",
     "text": [
      "/glade/u/home/doubrawa/anaconda2/envs/wrfenv/lib/python3.6/site-packages/scipy/fftpack/basic.py:160: FutureWarning: Using a non-tuple sequence for multidimensional indexing is deprecated; use `arr[tuple(seq)]` instead of `arr[seq]`. In the future this will be interpreted as an array index, `arr[np.array(seq)]`, which will result either in an error or a different result.\n",
      "  z[index] = x\n"
     ]
    },
    {
     "name": "stdout",
     "output_type": "stream",
     "text": [
      "v\n",
      "w\n",
      "theta\n",
      "===> /glade/scratch/doubrawa/post_processing/WRF_LES_25m_3D_2015-03-29_20:40_plus_filtered.nc\n",
      "/glade/scratch/doubrawa/post_processing/WRF_LES_25m_3D_2015-03-29_20:50.nc\n",
      "u\n"
     ]
    },
    {
     "name": "stderr",
     "output_type": "stream",
     "text": [
      "/glade/u/home/doubrawa/anaconda2/envs/wrfenv/lib/python3.6/site-packages/scipy/fftpack/basic.py:160: FutureWarning: Using a non-tuple sequence for multidimensional indexing is deprecated; use `arr[tuple(seq)]` instead of `arr[seq]`. In the future this will be interpreted as an array index, `arr[np.array(seq)]`, which will result either in an error or a different result.\n",
      "  z[index] = x\n"
     ]
    },
    {
     "name": "stdout",
     "output_type": "stream",
     "text": [
      "v\n",
      "w\n",
      "theta\n",
      "===> /glade/scratch/doubrawa/post_processing/WRF_LES_25m_3D_2015-03-29_20:50_plus_filtered.nc\n",
      "/glade/scratch/doubrawa/post_processing/WRF_LES_25m_3D_2015-03-29_21:00.nc\n",
      "u\n"
     ]
    },
    {
     "name": "stderr",
     "output_type": "stream",
     "text": [
      "/glade/u/home/doubrawa/anaconda2/envs/wrfenv/lib/python3.6/site-packages/scipy/fftpack/basic.py:160: FutureWarning: Using a non-tuple sequence for multidimensional indexing is deprecated; use `arr[tuple(seq)]` instead of `arr[seq]`. In the future this will be interpreted as an array index, `arr[np.array(seq)]`, which will result either in an error or a different result.\n",
      "  z[index] = x\n"
     ]
    },
    {
     "name": "stdout",
     "output_type": "stream",
     "text": [
      "v\n",
      "w\n",
      "theta\n",
      "===> /glade/scratch/doubrawa/post_processing/WRF_LES_25m_3D_2015-03-29_21:00_plus_filtered.nc\n",
      "/glade/scratch/doubrawa/post_processing/WRF_LES_25m_3D_2015-03-29_21:10.nc\n",
      "u\n"
     ]
    },
    {
     "name": "stderr",
     "output_type": "stream",
     "text": [
      "/glade/u/home/doubrawa/anaconda2/envs/wrfenv/lib/python3.6/site-packages/scipy/fftpack/basic.py:160: FutureWarning: Using a non-tuple sequence for multidimensional indexing is deprecated; use `arr[tuple(seq)]` instead of `arr[seq]`. In the future this will be interpreted as an array index, `arr[np.array(seq)]`, which will result either in an error or a different result.\n",
      "  z[index] = x\n"
     ]
    },
    {
     "name": "stdout",
     "output_type": "stream",
     "text": [
      "v\n",
      "w\n",
      "theta\n",
      "===> /glade/scratch/doubrawa/post_processing/WRF_LES_25m_3D_2015-03-29_21:10_plus_filtered.nc\n",
      "/glade/scratch/doubrawa/post_processing/WRF_LES_25m_3D_2015-03-29_21:20.nc\n",
      "u\n"
     ]
    },
    {
     "name": "stderr",
     "output_type": "stream",
     "text": [
      "/glade/u/home/doubrawa/anaconda2/envs/wrfenv/lib/python3.6/site-packages/scipy/fftpack/basic.py:160: FutureWarning: Using a non-tuple sequence for multidimensional indexing is deprecated; use `arr[tuple(seq)]` instead of `arr[seq]`. In the future this will be interpreted as an array index, `arr[np.array(seq)]`, which will result either in an error or a different result.\n",
      "  z[index] = x\n"
     ]
    },
    {
     "name": "stdout",
     "output_type": "stream",
     "text": [
      "v\n",
      "w\n",
      "theta\n",
      "===> /glade/scratch/doubrawa/post_processing/WRF_LES_25m_3D_2015-03-29_21:20_plus_filtered.nc\n",
      "/glade/scratch/doubrawa/post_processing/WRF_LES_25m_3D_2015-03-29_21:30.nc\n",
      "u\n"
     ]
    },
    {
     "name": "stderr",
     "output_type": "stream",
     "text": [
      "/glade/u/home/doubrawa/anaconda2/envs/wrfenv/lib/python3.6/site-packages/scipy/fftpack/basic.py:160: FutureWarning: Using a non-tuple sequence for multidimensional indexing is deprecated; use `arr[tuple(seq)]` instead of `arr[seq]`. In the future this will be interpreted as an array index, `arr[np.array(seq)]`, which will result either in an error or a different result.\n",
      "  z[index] = x\n"
     ]
    },
    {
     "name": "stdout",
     "output_type": "stream",
     "text": [
      "v\n",
      "w\n",
      "theta\n",
      "===> /glade/scratch/doubrawa/post_processing/WRF_LES_25m_3D_2015-03-29_21:30_plus_filtered.nc\n",
      "/glade/scratch/doubrawa/post_processing/WRF_LES_25m_3D_2015-03-29_21:40.nc\n",
      "u\n"
     ]
    },
    {
     "name": "stderr",
     "output_type": "stream",
     "text": [
      "/glade/u/home/doubrawa/anaconda2/envs/wrfenv/lib/python3.6/site-packages/scipy/fftpack/basic.py:160: FutureWarning: Using a non-tuple sequence for multidimensional indexing is deprecated; use `arr[tuple(seq)]` instead of `arr[seq]`. In the future this will be interpreted as an array index, `arr[np.array(seq)]`, which will result either in an error or a different result.\n",
      "  z[index] = x\n"
     ]
    },
    {
     "name": "stdout",
     "output_type": "stream",
     "text": [
      "v\n",
      "w\n",
      "theta\n",
      "===> /glade/scratch/doubrawa/post_processing/WRF_LES_25m_3D_2015-03-29_21:40_plus_filtered.nc\n",
      "/glade/scratch/doubrawa/post_processing/WRF_LES_25m_3D_2015-03-29_21:50.nc\n",
      "u\n"
     ]
    },
    {
     "name": "stderr",
     "output_type": "stream",
     "text": [
      "/glade/u/home/doubrawa/anaconda2/envs/wrfenv/lib/python3.6/site-packages/scipy/fftpack/basic.py:160: FutureWarning: Using a non-tuple sequence for multidimensional indexing is deprecated; use `arr[tuple(seq)]` instead of `arr[seq]`. In the future this will be interpreted as an array index, `arr[np.array(seq)]`, which will result either in an error or a different result.\n",
      "  z[index] = x\n"
     ]
    },
    {
     "name": "stdout",
     "output_type": "stream",
     "text": [
      "v\n",
      "w\n",
      "theta\n",
      "===> /glade/scratch/doubrawa/post_processing/WRF_LES_25m_3D_2015-03-29_21:50_plus_filtered.nc\n",
      "/glade/scratch/doubrawa/post_processing/WRF_LES_25m_3D_2015-03-29_22:00.nc\n",
      "u\n"
     ]
    },
    {
     "name": "stderr",
     "output_type": "stream",
     "text": [
      "/glade/u/home/doubrawa/anaconda2/envs/wrfenv/lib/python3.6/site-packages/scipy/fftpack/basic.py:160: FutureWarning: Using a non-tuple sequence for multidimensional indexing is deprecated; use `arr[tuple(seq)]` instead of `arr[seq]`. In the future this will be interpreted as an array index, `arr[np.array(seq)]`, which will result either in an error or a different result.\n",
      "  z[index] = x\n"
     ]
    },
    {
     "name": "stdout",
     "output_type": "stream",
     "text": [
      "v\n",
      "w\n",
      "theta\n",
      "===> /glade/scratch/doubrawa/post_processing/WRF_LES_25m_3D_2015-03-29_22:00_plus_filtered.nc\n",
      "/glade/scratch/doubrawa/post_processing/WRF_LES_25m_3D_2015-03-29_22:10.nc\n",
      "u\n"
     ]
    },
    {
     "name": "stderr",
     "output_type": "stream",
     "text": [
      "/glade/u/home/doubrawa/anaconda2/envs/wrfenv/lib/python3.6/site-packages/scipy/fftpack/basic.py:160: FutureWarning: Using a non-tuple sequence for multidimensional indexing is deprecated; use `arr[tuple(seq)]` instead of `arr[seq]`. In the future this will be interpreted as an array index, `arr[np.array(seq)]`, which will result either in an error or a different result.\n",
      "  z[index] = x\n"
     ]
    },
    {
     "name": "stdout",
     "output_type": "stream",
     "text": [
      "v\n",
      "w\n",
      "theta\n",
      "===> /glade/scratch/doubrawa/post_processing/WRF_LES_25m_3D_2015-03-29_22:10_plus_filtered.nc\n",
      "/glade/scratch/doubrawa/post_processing/WRF_LES_25m_3D_2015-03-29_22:20.nc\n",
      "u\n"
     ]
    },
    {
     "name": "stderr",
     "output_type": "stream",
     "text": [
      "/glade/u/home/doubrawa/anaconda2/envs/wrfenv/lib/python3.6/site-packages/scipy/fftpack/basic.py:160: FutureWarning: Using a non-tuple sequence for multidimensional indexing is deprecated; use `arr[tuple(seq)]` instead of `arr[seq]`. In the future this will be interpreted as an array index, `arr[np.array(seq)]`, which will result either in an error or a different result.\n",
      "  z[index] = x\n"
     ]
    },
    {
     "name": "stdout",
     "output_type": "stream",
     "text": [
      "v\n",
      "w\n",
      "theta\n",
      "===> /glade/scratch/doubrawa/post_processing/WRF_LES_25m_3D_2015-03-29_22:20_plus_filtered.nc\n",
      "/glade/scratch/doubrawa/post_processing/WRF_LES_25m_3D_2015-03-29_22:30.nc\n",
      "u\n"
     ]
    },
    {
     "name": "stderr",
     "output_type": "stream",
     "text": [
      "/glade/u/home/doubrawa/anaconda2/envs/wrfenv/lib/python3.6/site-packages/scipy/fftpack/basic.py:160: FutureWarning: Using a non-tuple sequence for multidimensional indexing is deprecated; use `arr[tuple(seq)]` instead of `arr[seq]`. In the future this will be interpreted as an array index, `arr[np.array(seq)]`, which will result either in an error or a different result.\n",
      "  z[index] = x\n"
     ]
    },
    {
     "name": "stdout",
     "output_type": "stream",
     "text": [
      "v\n",
      "w\n",
      "theta\n",
      "===> /glade/scratch/doubrawa/post_processing/WRF_LES_25m_3D_2015-03-29_22:30_plus_filtered.nc\n",
      "/glade/scratch/doubrawa/post_processing/WRF_LES_25m_3D_2015-03-29_22:40.nc\n",
      "u\n"
     ]
    },
    {
     "name": "stderr",
     "output_type": "stream",
     "text": [
      "/glade/u/home/doubrawa/anaconda2/envs/wrfenv/lib/python3.6/site-packages/scipy/fftpack/basic.py:160: FutureWarning: Using a non-tuple sequence for multidimensional indexing is deprecated; use `arr[tuple(seq)]` instead of `arr[seq]`. In the future this will be interpreted as an array index, `arr[np.array(seq)]`, which will result either in an error or a different result.\n",
      "  z[index] = x\n"
     ]
    },
    {
     "name": "stdout",
     "output_type": "stream",
     "text": [
      "v\n",
      "w\n",
      "theta\n",
      "===> /glade/scratch/doubrawa/post_processing/WRF_LES_25m_3D_2015-03-29_22:40_plus_filtered.nc\n",
      "/glade/scratch/doubrawa/post_processing/WRF_LES_25m_3D_2015-03-29_22:50.nc\n",
      "u\n"
     ]
    },
    {
     "name": "stderr",
     "output_type": "stream",
     "text": [
      "/glade/u/home/doubrawa/anaconda2/envs/wrfenv/lib/python3.6/site-packages/scipy/fftpack/basic.py:160: FutureWarning: Using a non-tuple sequence for multidimensional indexing is deprecated; use `arr[tuple(seq)]` instead of `arr[seq]`. In the future this will be interpreted as an array index, `arr[np.array(seq)]`, which will result either in an error or a different result.\n",
      "  z[index] = x\n"
     ]
    },
    {
     "name": "stdout",
     "output_type": "stream",
     "text": [
      "v\n",
      "w\n",
      "theta\n",
      "===> /glade/scratch/doubrawa/post_processing/WRF_LES_25m_3D_2015-03-29_22:50_plus_filtered.nc\n",
      "/glade/scratch/doubrawa/post_processing/WRF_LES_25m_3D_2015-03-29_23:00.nc\n",
      "u\n"
     ]
    },
    {
     "name": "stderr",
     "output_type": "stream",
     "text": [
      "/glade/u/home/doubrawa/anaconda2/envs/wrfenv/lib/python3.6/site-packages/scipy/fftpack/basic.py:160: FutureWarning: Using a non-tuple sequence for multidimensional indexing is deprecated; use `arr[tuple(seq)]` instead of `arr[seq]`. In the future this will be interpreted as an array index, `arr[np.array(seq)]`, which will result either in an error or a different result.\n",
      "  z[index] = x\n"
     ]
    },
    {
     "name": "stdout",
     "output_type": "stream",
     "text": [
      "v\n",
      "w\n",
      "theta\n",
      "===> /glade/scratch/doubrawa/post_processing/WRF_LES_25m_3D_2015-03-29_23:00_plus_filtered.nc\n",
      "/glade/scratch/doubrawa/post_processing/WRF_LES_25m_3D_2015-03-29_23:10.nc\n",
      "u\n"
     ]
    },
    {
     "name": "stderr",
     "output_type": "stream",
     "text": [
      "/glade/u/home/doubrawa/anaconda2/envs/wrfenv/lib/python3.6/site-packages/scipy/fftpack/basic.py:160: FutureWarning: Using a non-tuple sequence for multidimensional indexing is deprecated; use `arr[tuple(seq)]` instead of `arr[seq]`. In the future this will be interpreted as an array index, `arr[np.array(seq)]`, which will result either in an error or a different result.\n",
      "  z[index] = x\n"
     ]
    },
    {
     "name": "stdout",
     "output_type": "stream",
     "text": [
      "v\n",
      "w\n",
      "theta\n",
      "===> /glade/scratch/doubrawa/post_processing/WRF_LES_25m_3D_2015-03-29_23:10_plus_filtered.nc\n",
      "/glade/scratch/doubrawa/post_processing/WRF_LES_25m_3D_2015-03-29_23:20.nc\n",
      "u\n"
     ]
    },
    {
     "name": "stderr",
     "output_type": "stream",
     "text": [
      "/glade/u/home/doubrawa/anaconda2/envs/wrfenv/lib/python3.6/site-packages/scipy/fftpack/basic.py:160: FutureWarning: Using a non-tuple sequence for multidimensional indexing is deprecated; use `arr[tuple(seq)]` instead of `arr[seq]`. In the future this will be interpreted as an array index, `arr[np.array(seq)]`, which will result either in an error or a different result.\n",
      "  z[index] = x\n"
     ]
    },
    {
     "name": "stdout",
     "output_type": "stream",
     "text": [
      "v\n",
      "w\n",
      "theta\n",
      "===> /glade/scratch/doubrawa/post_processing/WRF_LES_25m_3D_2015-03-29_23:20_plus_filtered.nc\n",
      "/glade/scratch/doubrawa/post_processing/WRF_LES_25m_3D_2015-03-29_23:30.nc\n",
      "u\n"
     ]
    },
    {
     "name": "stderr",
     "output_type": "stream",
     "text": [
      "/glade/u/home/doubrawa/anaconda2/envs/wrfenv/lib/python3.6/site-packages/scipy/fftpack/basic.py:160: FutureWarning: Using a non-tuple sequence for multidimensional indexing is deprecated; use `arr[tuple(seq)]` instead of `arr[seq]`. In the future this will be interpreted as an array index, `arr[np.array(seq)]`, which will result either in an error or a different result.\n",
      "  z[index] = x\n"
     ]
    },
    {
     "name": "stdout",
     "output_type": "stream",
     "text": [
      "v\n",
      "w\n",
      "theta\n",
      "===> /glade/scratch/doubrawa/post_processing/WRF_LES_25m_3D_2015-03-29_23:30_plus_filtered.nc\n",
      "/glade/scratch/doubrawa/post_processing/WRF_LES_25m_3D_2015-03-29_23:40.nc\n",
      "u\n"
     ]
    },
    {
     "name": "stderr",
     "output_type": "stream",
     "text": [
      "/glade/u/home/doubrawa/anaconda2/envs/wrfenv/lib/python3.6/site-packages/scipy/fftpack/basic.py:160: FutureWarning: Using a non-tuple sequence for multidimensional indexing is deprecated; use `arr[tuple(seq)]` instead of `arr[seq]`. In the future this will be interpreted as an array index, `arr[np.array(seq)]`, which will result either in an error or a different result.\n",
      "  z[index] = x\n"
     ]
    },
    {
     "name": "stdout",
     "output_type": "stream",
     "text": [
      "v\n",
      "w\n",
      "theta\n",
      "===> /glade/scratch/doubrawa/post_processing/WRF_LES_25m_3D_2015-03-29_23:40_plus_filtered.nc\n",
      "/glade/scratch/doubrawa/post_processing/WRF_LES_25m_3D_2015-03-29_23:50.nc\n",
      "u\n"
     ]
    },
    {
     "name": "stderr",
     "output_type": "stream",
     "text": [
      "/glade/u/home/doubrawa/anaconda2/envs/wrfenv/lib/python3.6/site-packages/scipy/fftpack/basic.py:160: FutureWarning: Using a non-tuple sequence for multidimensional indexing is deprecated; use `arr[tuple(seq)]` instead of `arr[seq]`. In the future this will be interpreted as an array index, `arr[np.array(seq)]`, which will result either in an error or a different result.\n",
      "  z[index] = x\n"
     ]
    },
    {
     "name": "stdout",
     "output_type": "stream",
     "text": [
      "v\n",
      "w\n",
      "theta\n",
      "===> /glade/scratch/doubrawa/post_processing/WRF_LES_25m_3D_2015-03-29_23:50_plus_filtered.nc\n",
      "/glade/scratch/doubrawa/post_processing/WRF_LES_25m_3D_2015-03-30_14:00.nc\n",
      "u\n"
     ]
    },
    {
     "name": "stderr",
     "output_type": "stream",
     "text": [
      "/glade/u/home/doubrawa/anaconda2/envs/wrfenv/lib/python3.6/site-packages/scipy/fftpack/basic.py:160: FutureWarning: Using a non-tuple sequence for multidimensional indexing is deprecated; use `arr[tuple(seq)]` instead of `arr[seq]`. In the future this will be interpreted as an array index, `arr[np.array(seq)]`, which will result either in an error or a different result.\n",
      "  z[index] = x\n"
     ]
    },
    {
     "name": "stdout",
     "output_type": "stream",
     "text": [
      "v\n",
      "w\n",
      "theta\n",
      "===> /glade/scratch/doubrawa/post_processing/WRF_LES_25m_3D_2015-03-30_14:00_plus_filtered.nc\n",
      "/glade/scratch/doubrawa/post_processing/WRF_LES_25m_3D_2015-03-30_14:10.nc\n",
      "u\n"
     ]
    },
    {
     "name": "stderr",
     "output_type": "stream",
     "text": [
      "/glade/u/home/doubrawa/anaconda2/envs/wrfenv/lib/python3.6/site-packages/scipy/fftpack/basic.py:160: FutureWarning: Using a non-tuple sequence for multidimensional indexing is deprecated; use `arr[tuple(seq)]` instead of `arr[seq]`. In the future this will be interpreted as an array index, `arr[np.array(seq)]`, which will result either in an error or a different result.\n",
      "  z[index] = x\n"
     ]
    },
    {
     "name": "stdout",
     "output_type": "stream",
     "text": [
      "v\n",
      "w\n",
      "theta\n",
      "===> /glade/scratch/doubrawa/post_processing/WRF_LES_25m_3D_2015-03-30_14:10_plus_filtered.nc\n",
      "/glade/scratch/doubrawa/post_processing/WRF_LES_25m_3D_2015-03-30_14:20.nc\n",
      "u\n"
     ]
    },
    {
     "name": "stderr",
     "output_type": "stream",
     "text": [
      "/glade/u/home/doubrawa/anaconda2/envs/wrfenv/lib/python3.6/site-packages/scipy/fftpack/basic.py:160: FutureWarning: Using a non-tuple sequence for multidimensional indexing is deprecated; use `arr[tuple(seq)]` instead of `arr[seq]`. In the future this will be interpreted as an array index, `arr[np.array(seq)]`, which will result either in an error or a different result.\n",
      "  z[index] = x\n"
     ]
    },
    {
     "name": "stdout",
     "output_type": "stream",
     "text": [
      "v\n",
      "w\n",
      "theta\n",
      "===> /glade/scratch/doubrawa/post_processing/WRF_LES_25m_3D_2015-03-30_14:20_plus_filtered.nc\n",
      "/glade/scratch/doubrawa/post_processing/WRF_LES_25m_3D_2015-03-30_14:30.nc\n",
      "u\n"
     ]
    },
    {
     "name": "stderr",
     "output_type": "stream",
     "text": [
      "/glade/u/home/doubrawa/anaconda2/envs/wrfenv/lib/python3.6/site-packages/scipy/fftpack/basic.py:160: FutureWarning: Using a non-tuple sequence for multidimensional indexing is deprecated; use `arr[tuple(seq)]` instead of `arr[seq]`. In the future this will be interpreted as an array index, `arr[np.array(seq)]`, which will result either in an error or a different result.\n",
      "  z[index] = x\n"
     ]
    },
    {
     "name": "stdout",
     "output_type": "stream",
     "text": [
      "v\n",
      "w\n",
      "theta\n",
      "===> /glade/scratch/doubrawa/post_processing/WRF_LES_25m_3D_2015-03-30_14:30_plus_filtered.nc\n",
      "/glade/scratch/doubrawa/post_processing/WRF_LES_25m_3D_2015-03-30_14:40.nc\n",
      "u\n"
     ]
    },
    {
     "name": "stderr",
     "output_type": "stream",
     "text": [
      "/glade/u/home/doubrawa/anaconda2/envs/wrfenv/lib/python3.6/site-packages/scipy/fftpack/basic.py:160: FutureWarning: Using a non-tuple sequence for multidimensional indexing is deprecated; use `arr[tuple(seq)]` instead of `arr[seq]`. In the future this will be interpreted as an array index, `arr[np.array(seq)]`, which will result either in an error or a different result.\n",
      "  z[index] = x\n"
     ]
    },
    {
     "name": "stdout",
     "output_type": "stream",
     "text": [
      "v\n",
      "w\n",
      "theta\n",
      "===> /glade/scratch/doubrawa/post_processing/WRF_LES_25m_3D_2015-03-30_14:40_plus_filtered.nc\n",
      "/glade/scratch/doubrawa/post_processing/WRF_LES_25m_3D_2015-03-30_14:50.nc\n",
      "u\n"
     ]
    },
    {
     "name": "stderr",
     "output_type": "stream",
     "text": [
      "/glade/u/home/doubrawa/anaconda2/envs/wrfenv/lib/python3.6/site-packages/scipy/fftpack/basic.py:160: FutureWarning: Using a non-tuple sequence for multidimensional indexing is deprecated; use `arr[tuple(seq)]` instead of `arr[seq]`. In the future this will be interpreted as an array index, `arr[np.array(seq)]`, which will result either in an error or a different result.\n",
      "  z[index] = x\n"
     ]
    },
    {
     "name": "stdout",
     "output_type": "stream",
     "text": [
      "v\n",
      "w\n",
      "theta\n",
      "===> /glade/scratch/doubrawa/post_processing/WRF_LES_25m_3D_2015-03-30_14:50_plus_filtered.nc\n",
      "/glade/scratch/doubrawa/post_processing/WRF_LES_25m_3D_2015-03-30_15:00.nc\n",
      "u\n"
     ]
    },
    {
     "name": "stderr",
     "output_type": "stream",
     "text": [
      "/glade/u/home/doubrawa/anaconda2/envs/wrfenv/lib/python3.6/site-packages/scipy/fftpack/basic.py:160: FutureWarning: Using a non-tuple sequence for multidimensional indexing is deprecated; use `arr[tuple(seq)]` instead of `arr[seq]`. In the future this will be interpreted as an array index, `arr[np.array(seq)]`, which will result either in an error or a different result.\n",
      "  z[index] = x\n"
     ]
    },
    {
     "name": "stdout",
     "output_type": "stream",
     "text": [
      "v\n",
      "w\n",
      "theta\n",
      "===> /glade/scratch/doubrawa/post_processing/WRF_LES_25m_3D_2015-03-30_15:00_plus_filtered.nc\n",
      "/glade/scratch/doubrawa/post_processing/WRF_LES_25m_3D_2015-03-30_15:10.nc\n",
      "u\n"
     ]
    },
    {
     "name": "stderr",
     "output_type": "stream",
     "text": [
      "/glade/u/home/doubrawa/anaconda2/envs/wrfenv/lib/python3.6/site-packages/scipy/fftpack/basic.py:160: FutureWarning: Using a non-tuple sequence for multidimensional indexing is deprecated; use `arr[tuple(seq)]` instead of `arr[seq]`. In the future this will be interpreted as an array index, `arr[np.array(seq)]`, which will result either in an error or a different result.\n",
      "  z[index] = x\n"
     ]
    },
    {
     "name": "stdout",
     "output_type": "stream",
     "text": [
      "v\n",
      "w\n",
      "theta\n",
      "===> /glade/scratch/doubrawa/post_processing/WRF_LES_25m_3D_2015-03-30_15:10_plus_filtered.nc\n",
      "/glade/scratch/doubrawa/post_processing/WRF_LES_25m_3D_2015-03-30_15:20.nc\n",
      "u\n"
     ]
    },
    {
     "name": "stderr",
     "output_type": "stream",
     "text": [
      "/glade/u/home/doubrawa/anaconda2/envs/wrfenv/lib/python3.6/site-packages/scipy/fftpack/basic.py:160: FutureWarning: Using a non-tuple sequence for multidimensional indexing is deprecated; use `arr[tuple(seq)]` instead of `arr[seq]`. In the future this will be interpreted as an array index, `arr[np.array(seq)]`, which will result either in an error or a different result.\n",
      "  z[index] = x\n"
     ]
    },
    {
     "name": "stdout",
     "output_type": "stream",
     "text": [
      "v\n",
      "w\n",
      "theta\n",
      "===> /glade/scratch/doubrawa/post_processing/WRF_LES_25m_3D_2015-03-30_15:20_plus_filtered.nc\n",
      "/glade/scratch/doubrawa/post_processing/WRF_LES_25m_3D_2015-03-30_15:30.nc\n",
      "u\n"
     ]
    },
    {
     "name": "stderr",
     "output_type": "stream",
     "text": [
      "/glade/u/home/doubrawa/anaconda2/envs/wrfenv/lib/python3.6/site-packages/scipy/fftpack/basic.py:160: FutureWarning: Using a non-tuple sequence for multidimensional indexing is deprecated; use `arr[tuple(seq)]` instead of `arr[seq]`. In the future this will be interpreted as an array index, `arr[np.array(seq)]`, which will result either in an error or a different result.\n",
      "  z[index] = x\n"
     ]
    },
    {
     "name": "stdout",
     "output_type": "stream",
     "text": [
      "v\n",
      "w\n",
      "theta\n",
      "===> /glade/scratch/doubrawa/post_processing/WRF_LES_25m_3D_2015-03-30_15:30_plus_filtered.nc\n",
      "/glade/scratch/doubrawa/post_processing/WRF_LES_25m_3D_2015-03-30_15:40.nc\n",
      "u\n"
     ]
    },
    {
     "name": "stderr",
     "output_type": "stream",
     "text": [
      "/glade/u/home/doubrawa/anaconda2/envs/wrfenv/lib/python3.6/site-packages/scipy/fftpack/basic.py:160: FutureWarning: Using a non-tuple sequence for multidimensional indexing is deprecated; use `arr[tuple(seq)]` instead of `arr[seq]`. In the future this will be interpreted as an array index, `arr[np.array(seq)]`, which will result either in an error or a different result.\n",
      "  z[index] = x\n"
     ]
    },
    {
     "name": "stdout",
     "output_type": "stream",
     "text": [
      "v\n",
      "w\n",
      "theta\n",
      "===> /glade/scratch/doubrawa/post_processing/WRF_LES_25m_3D_2015-03-30_15:40_plus_filtered.nc\n",
      "/glade/scratch/doubrawa/post_processing/WRF_LES_25m_3D_2015-03-30_15:50.nc\n",
      "u\n"
     ]
    },
    {
     "name": "stderr",
     "output_type": "stream",
     "text": [
      "/glade/u/home/doubrawa/anaconda2/envs/wrfenv/lib/python3.6/site-packages/scipy/fftpack/basic.py:160: FutureWarning: Using a non-tuple sequence for multidimensional indexing is deprecated; use `arr[tuple(seq)]` instead of `arr[seq]`. In the future this will be interpreted as an array index, `arr[np.array(seq)]`, which will result either in an error or a different result.\n",
      "  z[index] = x\n"
     ]
    },
    {
     "name": "stdout",
     "output_type": "stream",
     "text": [
      "v\n",
      "w\n",
      "theta\n",
      "===> /glade/scratch/doubrawa/post_processing/WRF_LES_25m_3D_2015-03-30_15:50_plus_filtered.nc\n",
      "/glade/scratch/doubrawa/post_processing/WRF_LES_25m_3D_2015-03-30_16:00.nc\n",
      "u\n"
     ]
    },
    {
     "name": "stderr",
     "output_type": "stream",
     "text": [
      "/glade/u/home/doubrawa/anaconda2/envs/wrfenv/lib/python3.6/site-packages/scipy/fftpack/basic.py:160: FutureWarning: Using a non-tuple sequence for multidimensional indexing is deprecated; use `arr[tuple(seq)]` instead of `arr[seq]`. In the future this will be interpreted as an array index, `arr[np.array(seq)]`, which will result either in an error or a different result.\n",
      "  z[index] = x\n"
     ]
    },
    {
     "name": "stdout",
     "output_type": "stream",
     "text": [
      "v\n",
      "w\n",
      "theta\n",
      "===> /glade/scratch/doubrawa/post_processing/WRF_LES_25m_3D_2015-03-30_16:00_plus_filtered.nc\n",
      "/glade/scratch/doubrawa/post_processing/WRF_LES_25m_3D_2015-03-30_16:10.nc\n",
      "u\n"
     ]
    },
    {
     "name": "stderr",
     "output_type": "stream",
     "text": [
      "/glade/u/home/doubrawa/anaconda2/envs/wrfenv/lib/python3.6/site-packages/scipy/fftpack/basic.py:160: FutureWarning: Using a non-tuple sequence for multidimensional indexing is deprecated; use `arr[tuple(seq)]` instead of `arr[seq]`. In the future this will be interpreted as an array index, `arr[np.array(seq)]`, which will result either in an error or a different result.\n",
      "  z[index] = x\n"
     ]
    },
    {
     "name": "stdout",
     "output_type": "stream",
     "text": [
      "v\n",
      "w\n",
      "theta\n",
      "===> /glade/scratch/doubrawa/post_processing/WRF_LES_25m_3D_2015-03-30_16:10_plus_filtered.nc\n",
      "/glade/scratch/doubrawa/post_processing/WRF_LES_25m_3D_2015-03-30_16:20.nc\n",
      "u\n"
     ]
    },
    {
     "name": "stderr",
     "output_type": "stream",
     "text": [
      "/glade/u/home/doubrawa/anaconda2/envs/wrfenv/lib/python3.6/site-packages/scipy/fftpack/basic.py:160: FutureWarning: Using a non-tuple sequence for multidimensional indexing is deprecated; use `arr[tuple(seq)]` instead of `arr[seq]`. In the future this will be interpreted as an array index, `arr[np.array(seq)]`, which will result either in an error or a different result.\n",
      "  z[index] = x\n"
     ]
    },
    {
     "name": "stdout",
     "output_type": "stream",
     "text": [
      "v\n",
      "w\n",
      "theta\n",
      "===> /glade/scratch/doubrawa/post_processing/WRF_LES_25m_3D_2015-03-30_16:20_plus_filtered.nc\n",
      "/glade/scratch/doubrawa/post_processing/WRF_LES_25m_3D_2015-03-30_16:30.nc\n",
      "u\n"
     ]
    },
    {
     "name": "stderr",
     "output_type": "stream",
     "text": [
      "/glade/u/home/doubrawa/anaconda2/envs/wrfenv/lib/python3.6/site-packages/scipy/fftpack/basic.py:160: FutureWarning: Using a non-tuple sequence for multidimensional indexing is deprecated; use `arr[tuple(seq)]` instead of `arr[seq]`. In the future this will be interpreted as an array index, `arr[np.array(seq)]`, which will result either in an error or a different result.\n",
      "  z[index] = x\n"
     ]
    },
    {
     "name": "stdout",
     "output_type": "stream",
     "text": [
      "v\n",
      "w\n",
      "theta\n",
      "===> /glade/scratch/doubrawa/post_processing/WRF_LES_25m_3D_2015-03-30_16:30_plus_filtered.nc\n",
      "/glade/scratch/doubrawa/post_processing/WRF_LES_25m_3D_2015-03-30_16:40.nc\n",
      "u\n"
     ]
    },
    {
     "name": "stderr",
     "output_type": "stream",
     "text": [
      "/glade/u/home/doubrawa/anaconda2/envs/wrfenv/lib/python3.6/site-packages/scipy/fftpack/basic.py:160: FutureWarning: Using a non-tuple sequence for multidimensional indexing is deprecated; use `arr[tuple(seq)]` instead of `arr[seq]`. In the future this will be interpreted as an array index, `arr[np.array(seq)]`, which will result either in an error or a different result.\n",
      "  z[index] = x\n"
     ]
    },
    {
     "name": "stdout",
     "output_type": "stream",
     "text": [
      "v\n",
      "w\n",
      "theta\n",
      "===> /glade/scratch/doubrawa/post_processing/WRF_LES_25m_3D_2015-03-30_16:40_plus_filtered.nc\n",
      "/glade/scratch/doubrawa/post_processing/WRF_LES_25m_3D_2015-03-30_16:50.nc\n",
      "u\n"
     ]
    },
    {
     "name": "stderr",
     "output_type": "stream",
     "text": [
      "/glade/u/home/doubrawa/anaconda2/envs/wrfenv/lib/python3.6/site-packages/scipy/fftpack/basic.py:160: FutureWarning: Using a non-tuple sequence for multidimensional indexing is deprecated; use `arr[tuple(seq)]` instead of `arr[seq]`. In the future this will be interpreted as an array index, `arr[np.array(seq)]`, which will result either in an error or a different result.\n",
      "  z[index] = x\n"
     ]
    },
    {
     "name": "stdout",
     "output_type": "stream",
     "text": [
      "v\n",
      "w\n",
      "theta\n",
      "===> /glade/scratch/doubrawa/post_processing/WRF_LES_25m_3D_2015-03-30_16:50_plus_filtered.nc\n",
      "/glade/scratch/doubrawa/post_processing/WRF_LES_25m_3D_2015-03-30_17:00.nc\n",
      "u\n"
     ]
    },
    {
     "name": "stderr",
     "output_type": "stream",
     "text": [
      "/glade/u/home/doubrawa/anaconda2/envs/wrfenv/lib/python3.6/site-packages/scipy/fftpack/basic.py:160: FutureWarning: Using a non-tuple sequence for multidimensional indexing is deprecated; use `arr[tuple(seq)]` instead of `arr[seq]`. In the future this will be interpreted as an array index, `arr[np.array(seq)]`, which will result either in an error or a different result.\n",
      "  z[index] = x\n"
     ]
    },
    {
     "name": "stdout",
     "output_type": "stream",
     "text": [
      "v\n",
      "w\n",
      "theta\n",
      "===> /glade/scratch/doubrawa/post_processing/WRF_LES_25m_3D_2015-03-30_17:00_plus_filtered.nc\n",
      "/glade/scratch/doubrawa/post_processing/WRF_LES_25m_3D_2015-03-30_17:10.nc\n",
      "u\n"
     ]
    },
    {
     "name": "stderr",
     "output_type": "stream",
     "text": [
      "/glade/u/home/doubrawa/anaconda2/envs/wrfenv/lib/python3.6/site-packages/scipy/fftpack/basic.py:160: FutureWarning: Using a non-tuple sequence for multidimensional indexing is deprecated; use `arr[tuple(seq)]` instead of `arr[seq]`. In the future this will be interpreted as an array index, `arr[np.array(seq)]`, which will result either in an error or a different result.\n",
      "  z[index] = x\n"
     ]
    },
    {
     "name": "stdout",
     "output_type": "stream",
     "text": [
      "v\n",
      "w\n",
      "theta\n",
      "===> /glade/scratch/doubrawa/post_processing/WRF_LES_25m_3D_2015-03-30_17:10_plus_filtered.nc\n",
      "/glade/scratch/doubrawa/post_processing/WRF_LES_25m_3D_2015-03-30_17:20.nc\n",
      "u\n"
     ]
    },
    {
     "name": "stderr",
     "output_type": "stream",
     "text": [
      "/glade/u/home/doubrawa/anaconda2/envs/wrfenv/lib/python3.6/site-packages/scipy/fftpack/basic.py:160: FutureWarning: Using a non-tuple sequence for multidimensional indexing is deprecated; use `arr[tuple(seq)]` instead of `arr[seq]`. In the future this will be interpreted as an array index, `arr[np.array(seq)]`, which will result either in an error or a different result.\n",
      "  z[index] = x\n"
     ]
    },
    {
     "name": "stdout",
     "output_type": "stream",
     "text": [
      "v\n",
      "w\n",
      "theta\n",
      "===> /glade/scratch/doubrawa/post_processing/WRF_LES_25m_3D_2015-03-30_17:20_plus_filtered.nc\n",
      "/glade/scratch/doubrawa/post_processing/WRF_LES_25m_3D_2015-03-30_17:30.nc\n",
      "u\n"
     ]
    },
    {
     "name": "stderr",
     "output_type": "stream",
     "text": [
      "/glade/u/home/doubrawa/anaconda2/envs/wrfenv/lib/python3.6/site-packages/scipy/fftpack/basic.py:160: FutureWarning: Using a non-tuple sequence for multidimensional indexing is deprecated; use `arr[tuple(seq)]` instead of `arr[seq]`. In the future this will be interpreted as an array index, `arr[np.array(seq)]`, which will result either in an error or a different result.\n",
      "  z[index] = x\n"
     ]
    },
    {
     "name": "stdout",
     "output_type": "stream",
     "text": [
      "v\n",
      "w\n",
      "theta\n",
      "===> /glade/scratch/doubrawa/post_processing/WRF_LES_25m_3D_2015-03-30_17:30_plus_filtered.nc\n",
      "/glade/scratch/doubrawa/post_processing/WRF_LES_25m_3D_2015-03-30_17:40.nc\n",
      "u\n"
     ]
    },
    {
     "name": "stderr",
     "output_type": "stream",
     "text": [
      "/glade/u/home/doubrawa/anaconda2/envs/wrfenv/lib/python3.6/site-packages/scipy/fftpack/basic.py:160: FutureWarning: Using a non-tuple sequence for multidimensional indexing is deprecated; use `arr[tuple(seq)]` instead of `arr[seq]`. In the future this will be interpreted as an array index, `arr[np.array(seq)]`, which will result either in an error or a different result.\n",
      "  z[index] = x\n"
     ]
    },
    {
     "name": "stdout",
     "output_type": "stream",
     "text": [
      "v\n",
      "w\n",
      "theta\n",
      "===> /glade/scratch/doubrawa/post_processing/WRF_LES_25m_3D_2015-03-30_17:40_plus_filtered.nc\n",
      "/glade/scratch/doubrawa/post_processing/WRF_LES_25m_3D_2015-03-30_17:50.nc\n",
      "u\n"
     ]
    },
    {
     "name": "stderr",
     "output_type": "stream",
     "text": [
      "/glade/u/home/doubrawa/anaconda2/envs/wrfenv/lib/python3.6/site-packages/scipy/fftpack/basic.py:160: FutureWarning: Using a non-tuple sequence for multidimensional indexing is deprecated; use `arr[tuple(seq)]` instead of `arr[seq]`. In the future this will be interpreted as an array index, `arr[np.array(seq)]`, which will result either in an error or a different result.\n",
      "  z[index] = x\n"
     ]
    },
    {
     "name": "stdout",
     "output_type": "stream",
     "text": [
      "v\n",
      "w\n",
      "theta\n",
      "===> /glade/scratch/doubrawa/post_processing/WRF_LES_25m_3D_2015-03-30_17:50_plus_filtered.nc\n",
      "/glade/scratch/doubrawa/post_processing/WRF_LES_25m_3D_2015-03-30_18:00.nc\n",
      "u\n"
     ]
    },
    {
     "name": "stderr",
     "output_type": "stream",
     "text": [
      "/glade/u/home/doubrawa/anaconda2/envs/wrfenv/lib/python3.6/site-packages/scipy/fftpack/basic.py:160: FutureWarning: Using a non-tuple sequence for multidimensional indexing is deprecated; use `arr[tuple(seq)]` instead of `arr[seq]`. In the future this will be interpreted as an array index, `arr[np.array(seq)]`, which will result either in an error or a different result.\n",
      "  z[index] = x\n"
     ]
    },
    {
     "name": "stdout",
     "output_type": "stream",
     "text": [
      "v\n",
      "w\n",
      "theta\n",
      "===> /glade/scratch/doubrawa/post_processing/WRF_LES_25m_3D_2015-03-30_18:00_plus_filtered.nc\n",
      "/glade/scratch/doubrawa/post_processing/WRF_LES_25m_3D_2015-03-30_18:10.nc\n",
      "u\n"
     ]
    },
    {
     "name": "stderr",
     "output_type": "stream",
     "text": [
      "/glade/u/home/doubrawa/anaconda2/envs/wrfenv/lib/python3.6/site-packages/scipy/fftpack/basic.py:160: FutureWarning: Using a non-tuple sequence for multidimensional indexing is deprecated; use `arr[tuple(seq)]` instead of `arr[seq]`. In the future this will be interpreted as an array index, `arr[np.array(seq)]`, which will result either in an error or a different result.\n",
      "  z[index] = x\n"
     ]
    },
    {
     "name": "stdout",
     "output_type": "stream",
     "text": [
      "v\n",
      "w\n",
      "theta\n",
      "===> /glade/scratch/doubrawa/post_processing/WRF_LES_25m_3D_2015-03-30_18:10_plus_filtered.nc\n",
      "/glade/scratch/doubrawa/post_processing/WRF_LES_25m_3D_2015-03-30_18:20.nc\n",
      "u\n"
     ]
    },
    {
     "name": "stderr",
     "output_type": "stream",
     "text": [
      "/glade/u/home/doubrawa/anaconda2/envs/wrfenv/lib/python3.6/site-packages/scipy/fftpack/basic.py:160: FutureWarning: Using a non-tuple sequence for multidimensional indexing is deprecated; use `arr[tuple(seq)]` instead of `arr[seq]`. In the future this will be interpreted as an array index, `arr[np.array(seq)]`, which will result either in an error or a different result.\n",
      "  z[index] = x\n"
     ]
    },
    {
     "name": "stdout",
     "output_type": "stream",
     "text": [
      "v\n",
      "w\n",
      "theta\n",
      "===> /glade/scratch/doubrawa/post_processing/WRF_LES_25m_3D_2015-03-30_18:20_plus_filtered.nc\n",
      "/glade/scratch/doubrawa/post_processing/WRF_LES_25m_3D_2015-03-30_18:30.nc\n",
      "u\n"
     ]
    },
    {
     "name": "stderr",
     "output_type": "stream",
     "text": [
      "/glade/u/home/doubrawa/anaconda2/envs/wrfenv/lib/python3.6/site-packages/scipy/fftpack/basic.py:160: FutureWarning: Using a non-tuple sequence for multidimensional indexing is deprecated; use `arr[tuple(seq)]` instead of `arr[seq]`. In the future this will be interpreted as an array index, `arr[np.array(seq)]`, which will result either in an error or a different result.\n",
      "  z[index] = x\n"
     ]
    },
    {
     "name": "stdout",
     "output_type": "stream",
     "text": [
      "v\n",
      "w\n",
      "theta\n",
      "===> /glade/scratch/doubrawa/post_processing/WRF_LES_25m_3D_2015-03-30_18:30_plus_filtered.nc\n",
      "/glade/scratch/doubrawa/post_processing/WRF_LES_25m_3D_2015-03-30_18:40.nc\n",
      "u\n"
     ]
    },
    {
     "name": "stderr",
     "output_type": "stream",
     "text": [
      "/glade/u/home/doubrawa/anaconda2/envs/wrfenv/lib/python3.6/site-packages/scipy/fftpack/basic.py:160: FutureWarning: Using a non-tuple sequence for multidimensional indexing is deprecated; use `arr[tuple(seq)]` instead of `arr[seq]`. In the future this will be interpreted as an array index, `arr[np.array(seq)]`, which will result either in an error or a different result.\n",
      "  z[index] = x\n"
     ]
    },
    {
     "name": "stdout",
     "output_type": "stream",
     "text": [
      "v\n",
      "w\n",
      "theta\n",
      "===> /glade/scratch/doubrawa/post_processing/WRF_LES_25m_3D_2015-03-30_18:40_plus_filtered.nc\n",
      "/glade/scratch/doubrawa/post_processing/WRF_LES_25m_3D_2015-03-30_18:50.nc\n",
      "u\n"
     ]
    },
    {
     "name": "stderr",
     "output_type": "stream",
     "text": [
      "/glade/u/home/doubrawa/anaconda2/envs/wrfenv/lib/python3.6/site-packages/scipy/fftpack/basic.py:160: FutureWarning: Using a non-tuple sequence for multidimensional indexing is deprecated; use `arr[tuple(seq)]` instead of `arr[seq]`. In the future this will be interpreted as an array index, `arr[np.array(seq)]`, which will result either in an error or a different result.\n",
      "  z[index] = x\n"
     ]
    },
    {
     "name": "stdout",
     "output_type": "stream",
     "text": [
      "v\n",
      "w\n",
      "theta\n",
      "===> /glade/scratch/doubrawa/post_processing/WRF_LES_25m_3D_2015-03-30_18:50_plus_filtered.nc\n",
      "/glade/scratch/doubrawa/post_processing/WRF_LES_25m_3D_2015-03-30_19:00.nc\n",
      "u\n"
     ]
    },
    {
     "name": "stderr",
     "output_type": "stream",
     "text": [
      "/glade/u/home/doubrawa/anaconda2/envs/wrfenv/lib/python3.6/site-packages/scipy/fftpack/basic.py:160: FutureWarning: Using a non-tuple sequence for multidimensional indexing is deprecated; use `arr[tuple(seq)]` instead of `arr[seq]`. In the future this will be interpreted as an array index, `arr[np.array(seq)]`, which will result either in an error or a different result.\n",
      "  z[index] = x\n"
     ]
    },
    {
     "name": "stdout",
     "output_type": "stream",
     "text": [
      "v\n",
      "w\n",
      "theta\n",
      "===> /glade/scratch/doubrawa/post_processing/WRF_LES_25m_3D_2015-03-30_19:00_plus_filtered.nc\n",
      "/glade/scratch/doubrawa/post_processing/WRF_LES_25m_3D_2015-03-30_19:10.nc\n",
      "u\n"
     ]
    },
    {
     "name": "stderr",
     "output_type": "stream",
     "text": [
      "/glade/u/home/doubrawa/anaconda2/envs/wrfenv/lib/python3.6/site-packages/scipy/fftpack/basic.py:160: FutureWarning: Using a non-tuple sequence for multidimensional indexing is deprecated; use `arr[tuple(seq)]` instead of `arr[seq]`. In the future this will be interpreted as an array index, `arr[np.array(seq)]`, which will result either in an error or a different result.\n",
      "  z[index] = x\n"
     ]
    },
    {
     "name": "stdout",
     "output_type": "stream",
     "text": [
      "v\n",
      "w\n",
      "theta\n",
      "===> /glade/scratch/doubrawa/post_processing/WRF_LES_25m_3D_2015-03-30_19:10_plus_filtered.nc\n",
      "/glade/scratch/doubrawa/post_processing/WRF_LES_25m_3D_2015-03-30_19:20.nc\n",
      "u\n"
     ]
    },
    {
     "name": "stderr",
     "output_type": "stream",
     "text": [
      "/glade/u/home/doubrawa/anaconda2/envs/wrfenv/lib/python3.6/site-packages/scipy/fftpack/basic.py:160: FutureWarning: Using a non-tuple sequence for multidimensional indexing is deprecated; use `arr[tuple(seq)]` instead of `arr[seq]`. In the future this will be interpreted as an array index, `arr[np.array(seq)]`, which will result either in an error or a different result.\n",
      "  z[index] = x\n"
     ]
    },
    {
     "name": "stdout",
     "output_type": "stream",
     "text": [
      "v\n",
      "w\n",
      "theta\n",
      "===> /glade/scratch/doubrawa/post_processing/WRF_LES_25m_3D_2015-03-30_19:20_plus_filtered.nc\n",
      "/glade/scratch/doubrawa/post_processing/WRF_LES_25m_3D_2015-03-30_19:30.nc\n",
      "u\n"
     ]
    },
    {
     "name": "stderr",
     "output_type": "stream",
     "text": [
      "/glade/u/home/doubrawa/anaconda2/envs/wrfenv/lib/python3.6/site-packages/scipy/fftpack/basic.py:160: FutureWarning: Using a non-tuple sequence for multidimensional indexing is deprecated; use `arr[tuple(seq)]` instead of `arr[seq]`. In the future this will be interpreted as an array index, `arr[np.array(seq)]`, which will result either in an error or a different result.\n",
      "  z[index] = x\n"
     ]
    },
    {
     "name": "stdout",
     "output_type": "stream",
     "text": [
      "v\n",
      "w\n",
      "theta\n",
      "===> /glade/scratch/doubrawa/post_processing/WRF_LES_25m_3D_2015-03-30_19:30_plus_filtered.nc\n",
      "/glade/scratch/doubrawa/post_processing/WRF_LES_25m_3D_2015-03-30_19:40.nc\n",
      "u\n"
     ]
    },
    {
     "name": "stderr",
     "output_type": "stream",
     "text": [
      "/glade/u/home/doubrawa/anaconda2/envs/wrfenv/lib/python3.6/site-packages/scipy/fftpack/basic.py:160: FutureWarning: Using a non-tuple sequence for multidimensional indexing is deprecated; use `arr[tuple(seq)]` instead of `arr[seq]`. In the future this will be interpreted as an array index, `arr[np.array(seq)]`, which will result either in an error or a different result.\n",
      "  z[index] = x\n"
     ]
    },
    {
     "name": "stdout",
     "output_type": "stream",
     "text": [
      "v\n",
      "w\n",
      "theta\n",
      "===> /glade/scratch/doubrawa/post_processing/WRF_LES_25m_3D_2015-03-30_19:40_plus_filtered.nc\n",
      "/glade/scratch/doubrawa/post_processing/WRF_LES_25m_3D_2015-03-30_19:50.nc\n",
      "u\n"
     ]
    },
    {
     "name": "stderr",
     "output_type": "stream",
     "text": [
      "/glade/u/home/doubrawa/anaconda2/envs/wrfenv/lib/python3.6/site-packages/scipy/fftpack/basic.py:160: FutureWarning: Using a non-tuple sequence for multidimensional indexing is deprecated; use `arr[tuple(seq)]` instead of `arr[seq]`. In the future this will be interpreted as an array index, `arr[np.array(seq)]`, which will result either in an error or a different result.\n",
      "  z[index] = x\n"
     ]
    },
    {
     "name": "stdout",
     "output_type": "stream",
     "text": [
      "v\n",
      "w\n",
      "theta\n",
      "===> /glade/scratch/doubrawa/post_processing/WRF_LES_25m_3D_2015-03-30_19:50_plus_filtered.nc\n",
      "/glade/scratch/doubrawa/post_processing/WRF_LES_25m_3D_2015-03-30_20:00.nc\n",
      "u\n"
     ]
    },
    {
     "name": "stderr",
     "output_type": "stream",
     "text": [
      "/glade/u/home/doubrawa/anaconda2/envs/wrfenv/lib/python3.6/site-packages/scipy/fftpack/basic.py:160: FutureWarning: Using a non-tuple sequence for multidimensional indexing is deprecated; use `arr[tuple(seq)]` instead of `arr[seq]`. In the future this will be interpreted as an array index, `arr[np.array(seq)]`, which will result either in an error or a different result.\n",
      "  z[index] = x\n"
     ]
    },
    {
     "name": "stdout",
     "output_type": "stream",
     "text": [
      "v\n",
      "w\n",
      "theta\n",
      "===> /glade/scratch/doubrawa/post_processing/WRF_LES_25m_3D_2015-03-30_20:00_plus_filtered.nc\n",
      "/glade/scratch/doubrawa/post_processing/WRF_LES_25m_3D_2015-03-30_20:10.nc\n",
      "u\n"
     ]
    },
    {
     "name": "stderr",
     "output_type": "stream",
     "text": [
      "/glade/u/home/doubrawa/anaconda2/envs/wrfenv/lib/python3.6/site-packages/scipy/fftpack/basic.py:160: FutureWarning: Using a non-tuple sequence for multidimensional indexing is deprecated; use `arr[tuple(seq)]` instead of `arr[seq]`. In the future this will be interpreted as an array index, `arr[np.array(seq)]`, which will result either in an error or a different result.\n",
      "  z[index] = x\n"
     ]
    },
    {
     "name": "stdout",
     "output_type": "stream",
     "text": [
      "v\n",
      "w\n",
      "theta\n",
      "===> /glade/scratch/doubrawa/post_processing/WRF_LES_25m_3D_2015-03-30_20:10_plus_filtered.nc\n",
      "/glade/scratch/doubrawa/post_processing/WRF_LES_25m_3D_2015-03-30_20:20.nc\n",
      "u\n"
     ]
    },
    {
     "name": "stderr",
     "output_type": "stream",
     "text": [
      "/glade/u/home/doubrawa/anaconda2/envs/wrfenv/lib/python3.6/site-packages/scipy/fftpack/basic.py:160: FutureWarning: Using a non-tuple sequence for multidimensional indexing is deprecated; use `arr[tuple(seq)]` instead of `arr[seq]`. In the future this will be interpreted as an array index, `arr[np.array(seq)]`, which will result either in an error or a different result.\n",
      "  z[index] = x\n"
     ]
    },
    {
     "name": "stdout",
     "output_type": "stream",
     "text": [
      "v\n",
      "w\n",
      "theta\n",
      "===> /glade/scratch/doubrawa/post_processing/WRF_LES_25m_3D_2015-03-30_20:20_plus_filtered.nc\n",
      "/glade/scratch/doubrawa/post_processing/WRF_LES_25m_3D_2015-03-30_20:30.nc\n",
      "u\n"
     ]
    },
    {
     "name": "stderr",
     "output_type": "stream",
     "text": [
      "/glade/u/home/doubrawa/anaconda2/envs/wrfenv/lib/python3.6/site-packages/scipy/fftpack/basic.py:160: FutureWarning: Using a non-tuple sequence for multidimensional indexing is deprecated; use `arr[tuple(seq)]` instead of `arr[seq]`. In the future this will be interpreted as an array index, `arr[np.array(seq)]`, which will result either in an error or a different result.\n",
      "  z[index] = x\n"
     ]
    },
    {
     "name": "stdout",
     "output_type": "stream",
     "text": [
      "v\n",
      "w\n",
      "theta\n",
      "===> /glade/scratch/doubrawa/post_processing/WRF_LES_25m_3D_2015-03-30_20:30_plus_filtered.nc\n",
      "/glade/scratch/doubrawa/post_processing/WRF_LES_25m_3D_2015-03-30_20:40.nc\n",
      "u\n"
     ]
    },
    {
     "name": "stderr",
     "output_type": "stream",
     "text": [
      "/glade/u/home/doubrawa/anaconda2/envs/wrfenv/lib/python3.6/site-packages/scipy/fftpack/basic.py:160: FutureWarning: Using a non-tuple sequence for multidimensional indexing is deprecated; use `arr[tuple(seq)]` instead of `arr[seq]`. In the future this will be interpreted as an array index, `arr[np.array(seq)]`, which will result either in an error or a different result.\n",
      "  z[index] = x\n"
     ]
    },
    {
     "name": "stdout",
     "output_type": "stream",
     "text": [
      "v\n",
      "w\n",
      "theta\n",
      "===> /glade/scratch/doubrawa/post_processing/WRF_LES_25m_3D_2015-03-30_20:40_plus_filtered.nc\n",
      "/glade/scratch/doubrawa/post_processing/WRF_LES_25m_3D_2015-03-30_20:50.nc\n",
      "u\n"
     ]
    },
    {
     "name": "stderr",
     "output_type": "stream",
     "text": [
      "/glade/u/home/doubrawa/anaconda2/envs/wrfenv/lib/python3.6/site-packages/scipy/fftpack/basic.py:160: FutureWarning: Using a non-tuple sequence for multidimensional indexing is deprecated; use `arr[tuple(seq)]` instead of `arr[seq]`. In the future this will be interpreted as an array index, `arr[np.array(seq)]`, which will result either in an error or a different result.\n",
      "  z[index] = x\n"
     ]
    },
    {
     "name": "stdout",
     "output_type": "stream",
     "text": [
      "v\n",
      "w\n",
      "theta\n",
      "===> /glade/scratch/doubrawa/post_processing/WRF_LES_25m_3D_2015-03-30_20:50_plus_filtered.nc\n",
      "/glade/scratch/doubrawa/post_processing/WRF_LES_25m_3D_2015-03-30_21:00.nc\n",
      "u\n"
     ]
    },
    {
     "name": "stderr",
     "output_type": "stream",
     "text": [
      "/glade/u/home/doubrawa/anaconda2/envs/wrfenv/lib/python3.6/site-packages/scipy/fftpack/basic.py:160: FutureWarning: Using a non-tuple sequence for multidimensional indexing is deprecated; use `arr[tuple(seq)]` instead of `arr[seq]`. In the future this will be interpreted as an array index, `arr[np.array(seq)]`, which will result either in an error or a different result.\n",
      "  z[index] = x\n"
     ]
    },
    {
     "name": "stdout",
     "output_type": "stream",
     "text": [
      "v\n",
      "w\n",
      "theta\n",
      "===> /glade/scratch/doubrawa/post_processing/WRF_LES_25m_3D_2015-03-30_21:00_plus_filtered.nc\n",
      "/glade/scratch/doubrawa/post_processing/WRF_LES_25m_3D_2015-03-30_21:10.nc\n",
      "u\n"
     ]
    },
    {
     "name": "stderr",
     "output_type": "stream",
     "text": [
      "/glade/u/home/doubrawa/anaconda2/envs/wrfenv/lib/python3.6/site-packages/scipy/fftpack/basic.py:160: FutureWarning: Using a non-tuple sequence for multidimensional indexing is deprecated; use `arr[tuple(seq)]` instead of `arr[seq]`. In the future this will be interpreted as an array index, `arr[np.array(seq)]`, which will result either in an error or a different result.\n",
      "  z[index] = x\n"
     ]
    },
    {
     "name": "stdout",
     "output_type": "stream",
     "text": [
      "v\n",
      "w\n",
      "theta\n",
      "===> /glade/scratch/doubrawa/post_processing/WRF_LES_25m_3D_2015-03-30_21:10_plus_filtered.nc\n",
      "/glade/scratch/doubrawa/post_processing/WRF_LES_25m_3D_2015-03-30_21:20.nc\n",
      "u\n"
     ]
    },
    {
     "name": "stderr",
     "output_type": "stream",
     "text": [
      "/glade/u/home/doubrawa/anaconda2/envs/wrfenv/lib/python3.6/site-packages/scipy/fftpack/basic.py:160: FutureWarning: Using a non-tuple sequence for multidimensional indexing is deprecated; use `arr[tuple(seq)]` instead of `arr[seq]`. In the future this will be interpreted as an array index, `arr[np.array(seq)]`, which will result either in an error or a different result.\n",
      "  z[index] = x\n"
     ]
    },
    {
     "name": "stdout",
     "output_type": "stream",
     "text": [
      "v\n",
      "w\n",
      "theta\n",
      "===> /glade/scratch/doubrawa/post_processing/WRF_LES_25m_3D_2015-03-30_21:20_plus_filtered.nc\n",
      "/glade/scratch/doubrawa/post_processing/WRF_LES_25m_3D_2015-03-30_21:30.nc\n",
      "u\n"
     ]
    },
    {
     "name": "stderr",
     "output_type": "stream",
     "text": [
      "/glade/u/home/doubrawa/anaconda2/envs/wrfenv/lib/python3.6/site-packages/scipy/fftpack/basic.py:160: FutureWarning: Using a non-tuple sequence for multidimensional indexing is deprecated; use `arr[tuple(seq)]` instead of `arr[seq]`. In the future this will be interpreted as an array index, `arr[np.array(seq)]`, which will result either in an error or a different result.\n",
      "  z[index] = x\n"
     ]
    },
    {
     "name": "stdout",
     "output_type": "stream",
     "text": [
      "v\n",
      "w\n",
      "theta\n",
      "===> /glade/scratch/doubrawa/post_processing/WRF_LES_25m_3D_2015-03-30_21:30_plus_filtered.nc\n",
      "/glade/scratch/doubrawa/post_processing/WRF_LES_25m_3D_2015-03-30_21:40.nc\n",
      "u\n"
     ]
    },
    {
     "name": "stderr",
     "output_type": "stream",
     "text": [
      "/glade/u/home/doubrawa/anaconda2/envs/wrfenv/lib/python3.6/site-packages/scipy/fftpack/basic.py:160: FutureWarning: Using a non-tuple sequence for multidimensional indexing is deprecated; use `arr[tuple(seq)]` instead of `arr[seq]`. In the future this will be interpreted as an array index, `arr[np.array(seq)]`, which will result either in an error or a different result.\n",
      "  z[index] = x\n"
     ]
    },
    {
     "name": "stdout",
     "output_type": "stream",
     "text": [
      "v\n",
      "w\n",
      "theta\n",
      "===> /glade/scratch/doubrawa/post_processing/WRF_LES_25m_3D_2015-03-30_21:40_plus_filtered.nc\n",
      "/glade/scratch/doubrawa/post_processing/WRF_LES_25m_3D_2015-03-30_21:50.nc\n",
      "u\n"
     ]
    },
    {
     "name": "stderr",
     "output_type": "stream",
     "text": [
      "/glade/u/home/doubrawa/anaconda2/envs/wrfenv/lib/python3.6/site-packages/scipy/fftpack/basic.py:160: FutureWarning: Using a non-tuple sequence for multidimensional indexing is deprecated; use `arr[tuple(seq)]` instead of `arr[seq]`. In the future this will be interpreted as an array index, `arr[np.array(seq)]`, which will result either in an error or a different result.\n",
      "  z[index] = x\n"
     ]
    },
    {
     "name": "stdout",
     "output_type": "stream",
     "text": [
      "v\n",
      "w\n",
      "theta\n",
      "===> /glade/scratch/doubrawa/post_processing/WRF_LES_25m_3D_2015-03-30_21:50_plus_filtered.nc\n",
      "/glade/scratch/doubrawa/post_processing/WRF_LES_25m_3D_2015-03-30_22:00.nc\n",
      "u\n"
     ]
    },
    {
     "name": "stderr",
     "output_type": "stream",
     "text": [
      "/glade/u/home/doubrawa/anaconda2/envs/wrfenv/lib/python3.6/site-packages/scipy/fftpack/basic.py:160: FutureWarning: Using a non-tuple sequence for multidimensional indexing is deprecated; use `arr[tuple(seq)]` instead of `arr[seq]`. In the future this will be interpreted as an array index, `arr[np.array(seq)]`, which will result either in an error or a different result.\n",
      "  z[index] = x\n"
     ]
    },
    {
     "name": "stdout",
     "output_type": "stream",
     "text": [
      "v\n",
      "w\n",
      "theta\n",
      "===> /glade/scratch/doubrawa/post_processing/WRF_LES_25m_3D_2015-03-30_22:00_plus_filtered.nc\n",
      "/glade/scratch/doubrawa/post_processing/WRF_LES_25m_3D_2015-03-30_22:10.nc\n",
      "u\n"
     ]
    },
    {
     "name": "stderr",
     "output_type": "stream",
     "text": [
      "/glade/u/home/doubrawa/anaconda2/envs/wrfenv/lib/python3.6/site-packages/scipy/fftpack/basic.py:160: FutureWarning: Using a non-tuple sequence for multidimensional indexing is deprecated; use `arr[tuple(seq)]` instead of `arr[seq]`. In the future this will be interpreted as an array index, `arr[np.array(seq)]`, which will result either in an error or a different result.\n",
      "  z[index] = x\n"
     ]
    },
    {
     "name": "stdout",
     "output_type": "stream",
     "text": [
      "v\n",
      "w\n",
      "theta\n",
      "===> /glade/scratch/doubrawa/post_processing/WRF_LES_25m_3D_2015-03-30_22:10_plus_filtered.nc\n",
      "/glade/scratch/doubrawa/post_processing/WRF_LES_25m_3D_2015-03-30_22:20.nc\n",
      "u\n"
     ]
    },
    {
     "name": "stderr",
     "output_type": "stream",
     "text": [
      "/glade/u/home/doubrawa/anaconda2/envs/wrfenv/lib/python3.6/site-packages/scipy/fftpack/basic.py:160: FutureWarning: Using a non-tuple sequence for multidimensional indexing is deprecated; use `arr[tuple(seq)]` instead of `arr[seq]`. In the future this will be interpreted as an array index, `arr[np.array(seq)]`, which will result either in an error or a different result.\n",
      "  z[index] = x\n"
     ]
    },
    {
     "name": "stdout",
     "output_type": "stream",
     "text": [
      "v\n",
      "w\n",
      "theta\n",
      "===> /glade/scratch/doubrawa/post_processing/WRF_LES_25m_3D_2015-03-30_22:20_plus_filtered.nc\n",
      "/glade/scratch/doubrawa/post_processing/WRF_LES_25m_3D_2015-03-30_22:30.nc\n",
      "u\n"
     ]
    },
    {
     "name": "stderr",
     "output_type": "stream",
     "text": [
      "/glade/u/home/doubrawa/anaconda2/envs/wrfenv/lib/python3.6/site-packages/scipy/fftpack/basic.py:160: FutureWarning: Using a non-tuple sequence for multidimensional indexing is deprecated; use `arr[tuple(seq)]` instead of `arr[seq]`. In the future this will be interpreted as an array index, `arr[np.array(seq)]`, which will result either in an error or a different result.\n",
      "  z[index] = x\n"
     ]
    },
    {
     "name": "stdout",
     "output_type": "stream",
     "text": [
      "v\n",
      "w\n",
      "theta\n",
      "===> /glade/scratch/doubrawa/post_processing/WRF_LES_25m_3D_2015-03-30_22:30_plus_filtered.nc\n",
      "/glade/scratch/doubrawa/post_processing/WRF_LES_25m_3D_2015-03-30_22:40.nc\n",
      "u\n"
     ]
    },
    {
     "name": "stderr",
     "output_type": "stream",
     "text": [
      "/glade/u/home/doubrawa/anaconda2/envs/wrfenv/lib/python3.6/site-packages/scipy/fftpack/basic.py:160: FutureWarning: Using a non-tuple sequence for multidimensional indexing is deprecated; use `arr[tuple(seq)]` instead of `arr[seq]`. In the future this will be interpreted as an array index, `arr[np.array(seq)]`, which will result either in an error or a different result.\n",
      "  z[index] = x\n"
     ]
    },
    {
     "name": "stdout",
     "output_type": "stream",
     "text": [
      "v\n",
      "w\n",
      "theta\n",
      "===> /glade/scratch/doubrawa/post_processing/WRF_LES_25m_3D_2015-03-30_22:40_plus_filtered.nc\n",
      "/glade/scratch/doubrawa/post_processing/WRF_LES_25m_3D_2015-03-30_22:50.nc\n",
      "u\n"
     ]
    },
    {
     "name": "stderr",
     "output_type": "stream",
     "text": [
      "/glade/u/home/doubrawa/anaconda2/envs/wrfenv/lib/python3.6/site-packages/scipy/fftpack/basic.py:160: FutureWarning: Using a non-tuple sequence for multidimensional indexing is deprecated; use `arr[tuple(seq)]` instead of `arr[seq]`. In the future this will be interpreted as an array index, `arr[np.array(seq)]`, which will result either in an error or a different result.\n",
      "  z[index] = x\n"
     ]
    },
    {
     "name": "stdout",
     "output_type": "stream",
     "text": [
      "v\n",
      "w\n",
      "theta\n",
      "===> /glade/scratch/doubrawa/post_processing/WRF_LES_25m_3D_2015-03-30_22:50_plus_filtered.nc\n",
      "/glade/scratch/doubrawa/post_processing/WRF_LES_25m_3D_2015-03-30_23:00.nc\n",
      "u\n"
     ]
    },
    {
     "name": "stderr",
     "output_type": "stream",
     "text": [
      "/glade/u/home/doubrawa/anaconda2/envs/wrfenv/lib/python3.6/site-packages/scipy/fftpack/basic.py:160: FutureWarning: Using a non-tuple sequence for multidimensional indexing is deprecated; use `arr[tuple(seq)]` instead of `arr[seq]`. In the future this will be interpreted as an array index, `arr[np.array(seq)]`, which will result either in an error or a different result.\n",
      "  z[index] = x\n"
     ]
    },
    {
     "name": "stdout",
     "output_type": "stream",
     "text": [
      "v\n",
      "w\n",
      "theta\n",
      "===> /glade/scratch/doubrawa/post_processing/WRF_LES_25m_3D_2015-03-30_23:00_plus_filtered.nc\n",
      "/glade/scratch/doubrawa/post_processing/WRF_LES_25m_3D_2015-03-30_23:10.nc\n",
      "u\n"
     ]
    },
    {
     "name": "stderr",
     "output_type": "stream",
     "text": [
      "/glade/u/home/doubrawa/anaconda2/envs/wrfenv/lib/python3.6/site-packages/scipy/fftpack/basic.py:160: FutureWarning: Using a non-tuple sequence for multidimensional indexing is deprecated; use `arr[tuple(seq)]` instead of `arr[seq]`. In the future this will be interpreted as an array index, `arr[np.array(seq)]`, which will result either in an error or a different result.\n",
      "  z[index] = x\n"
     ]
    },
    {
     "name": "stdout",
     "output_type": "stream",
     "text": [
      "v\n",
      "w\n",
      "theta\n",
      "===> /glade/scratch/doubrawa/post_processing/WRF_LES_25m_3D_2015-03-30_23:10_plus_filtered.nc\n",
      "/glade/scratch/doubrawa/post_processing/WRF_LES_25m_3D_2015-03-30_23:20.nc\n",
      "u\n"
     ]
    },
    {
     "name": "stderr",
     "output_type": "stream",
     "text": [
      "/glade/u/home/doubrawa/anaconda2/envs/wrfenv/lib/python3.6/site-packages/scipy/fftpack/basic.py:160: FutureWarning: Using a non-tuple sequence for multidimensional indexing is deprecated; use `arr[tuple(seq)]` instead of `arr[seq]`. In the future this will be interpreted as an array index, `arr[np.array(seq)]`, which will result either in an error or a different result.\n",
      "  z[index] = x\n"
     ]
    },
    {
     "name": "stdout",
     "output_type": "stream",
     "text": [
      "v\n",
      "w\n",
      "theta\n",
      "===> /glade/scratch/doubrawa/post_processing/WRF_LES_25m_3D_2015-03-30_23:20_plus_filtered.nc\n",
      "/glade/scratch/doubrawa/post_processing/WRF_LES_25m_3D_2015-03-30_23:30.nc\n",
      "u\n"
     ]
    },
    {
     "name": "stderr",
     "output_type": "stream",
     "text": [
      "/glade/u/home/doubrawa/anaconda2/envs/wrfenv/lib/python3.6/site-packages/scipy/fftpack/basic.py:160: FutureWarning: Using a non-tuple sequence for multidimensional indexing is deprecated; use `arr[tuple(seq)]` instead of `arr[seq]`. In the future this will be interpreted as an array index, `arr[np.array(seq)]`, which will result either in an error or a different result.\n",
      "  z[index] = x\n"
     ]
    },
    {
     "name": "stdout",
     "output_type": "stream",
     "text": [
      "v\n",
      "w\n",
      "theta\n",
      "===> /glade/scratch/doubrawa/post_processing/WRF_LES_25m_3D_2015-03-30_23:30_plus_filtered.nc\n",
      "/glade/scratch/doubrawa/post_processing/WRF_LES_25m_3D_2015-03-30_23:40.nc\n",
      "u\n"
     ]
    },
    {
     "name": "stderr",
     "output_type": "stream",
     "text": [
      "/glade/u/home/doubrawa/anaconda2/envs/wrfenv/lib/python3.6/site-packages/scipy/fftpack/basic.py:160: FutureWarning: Using a non-tuple sequence for multidimensional indexing is deprecated; use `arr[tuple(seq)]` instead of `arr[seq]`. In the future this will be interpreted as an array index, `arr[np.array(seq)]`, which will result either in an error or a different result.\n",
      "  z[index] = x\n"
     ]
    },
    {
     "name": "stdout",
     "output_type": "stream",
     "text": [
      "v\n",
      "w\n",
      "theta\n",
      "===> /glade/scratch/doubrawa/post_processing/WRF_LES_25m_3D_2015-03-30_23:40_plus_filtered.nc\n",
      "/glade/scratch/doubrawa/post_processing/WRF_LES_25m_3D_2015-03-30_23:50.nc\n",
      "u\n"
     ]
    },
    {
     "name": "stderr",
     "output_type": "stream",
     "text": [
      "/glade/u/home/doubrawa/anaconda2/envs/wrfenv/lib/python3.6/site-packages/scipy/fftpack/basic.py:160: FutureWarning: Using a non-tuple sequence for multidimensional indexing is deprecated; use `arr[tuple(seq)]` instead of `arr[seq]`. In the future this will be interpreted as an array index, `arr[np.array(seq)]`, which will result either in an error or a different result.\n",
      "  z[index] = x\n"
     ]
    },
    {
     "name": "stdout",
     "output_type": "stream",
     "text": [
      "v\n",
      "w\n",
      "theta\n",
      "===> /glade/scratch/doubrawa/post_processing/WRF_LES_25m_3D_2015-03-30_23:50_plus_filtered.nc\n"
     ]
    }
   ],
   "source": [
    "for fname in fnames:\n",
    "    \n",
    "    print(fname)\n",
    "    data = xarray.open_dataset(fname)\n",
    "    nk, nj, ni = data.u.shape    \n",
    "    filt_dict = {}\n",
    "    \n",
    "    for varname in [\"u\",\"v\",\"w\",\"theta\"]:\n",
    "        print(varname)\n",
    "        filtered = np.zeros((nk,nj,ni))\n",
    "        for k in range(nk):\n",
    "            \n",
    "            # 1. get 2-d array\n",
    "            tmp = data[varname].isel(bottom_top=k).data\n",
    "            \n",
    "            # 2. remove spatial mean\n",
    "            tmp_mean = np.mean(tmp)\n",
    "            tmp = tmp - tmp_mean\n",
    "            \n",
    "            # 3. apply window (to minimize noise since the arrays are not periodic in space)\n",
    "            tmp = tmp*hamm_2d\n",
    "            \n",
    "            # 4. apply fft\n",
    "            psd_2d = fftpack.fft2(tmp)\n",
    "\n",
    "            # 5. apply butterworth filter (instead of sharp filter, to minimize ringing effect near cut-off wavenumber)\n",
    "            psd_2d = np.squeeze(psd_2d)*BWnth_2d_f\n",
    "            \n",
    "            # 6. invert to get the array back and put it in the kth index of the previously allocated 3-d array\n",
    "            filtered[k,...] = fftpack.ifft2(psd_2d).real + tmp_mean\n",
    "\n",
    "        # now turn that filtered array into a xarray datarray    \n",
    "        filt_dict[varname+\"_filt\"] = xarray.DataArray(filtered, \n",
    "                                                      coords=data[varname].coords, \n",
    "                                                      dims=data[varname].dims)\n",
    "    # now turn all those xarray dataarrays into an xarray dataset\n",
    "    all_data = data.merge(xarray.Dataset(filt_dict))\n",
    "    fout = os.path.join(inpath,os.path.split(fname)[-1].split('.nc')[0]+\"_plus_filtered.nc\")\n",
    "    print(\"===> {0}\".format(fout))\n",
    "    all_data.to_netcdf(fout)"
   ]
  },
  {
   "cell_type": "markdown",
   "metadata": {},
   "source": [
    "### compare filtered vs. not filtered"
   ]
  },
  {
   "cell_type": "code",
   "execution_count": 39,
   "metadata": {},
   "outputs": [],
   "source": [
    "k = 8\n",
    "varname = \"w\""
   ]
  },
  {
   "cell_type": "code",
   "execution_count": 46,
   "metadata": {},
   "outputs": [
    {
     "data": {
      "text/plain": [
       "<matplotlib.collections.QuadMesh at 0x2b0a5e4495c0>"
      ]
     },
     "execution_count": 46,
     "metadata": {},
     "output_type": "execute_result"
    },
    {
     "data": {
      "image/png": "[encoded data removed]",
      "text/plain": [
       "<Figure size 720x360 with 2 Axes>"
      ]
     },
     "metadata": {
      "needs_background": "light"
     },
     "output_type": "display_data"
    }
   ],
   "source": [
    "fig = plt.figure(figsize=(2*5, 5))\n",
    "\n",
    "x = data[varname].west_east.data\n",
    "y = data[varname].south_north.data\n",
    "z = data[varname].isel(bottom_top=k).data\n",
    "\n",
    "ax1 = fig.add_subplot(121)\n",
    "ax1.pcolormesh(x,y,z)\n",
    "\n",
    "x = all_data[varname+\"_filt\"].west_east.data\n",
    "y = all_data[varname+\"_filt\"].south_north.data\n",
    "z = all_data[varname+\"_filt\"].isel(bottom_top=k).data\n",
    "\n",
    "ax2 = fig.add_subplot(122)\n",
    "ax2.pcolormesh(x,y,z)\n"
   ]
  },
  {
   "cell_type": "code",
   "execution_count": null,
   "metadata": {},
   "outputs": [],
   "source": []
  }
 ],
 "metadata": {
  "kernelspec": {
   "display_name": "Python 3",
   "language": "python",
   "name": "python3"
  },
  "language_info": {
   "codemirror_mode": {
    "name": "ipython",
    "version": 3
   },
   "file_extension": ".py",
   "mimetype": "text/x-python",
   "name": "python",
   "nbconvert_exporter": "python",
   "pygments_lexer": "ipython3",
   "version": "3.6.8"
  }
 },
 "nbformat": 4,
 "nbformat_minor": 2
}
