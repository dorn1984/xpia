{
 "cells": [
  {
   "cell_type": "code",
   "execution_count": 19,
   "metadata": {},
   "outputs": [],
   "source": [
    "import numpy as np\n",
    "import pandas as pd\n",
    "import matplotlib.pyplot as plt"
   ]
  },
  {
   "cell_type": "code",
   "execution_count": 374,
   "metadata": {},
   "outputs": [],
   "source": [
    "plt.rc(\"font\",size=14)"
   ]
  },
  {
   "cell_type": "code",
   "execution_count": 112,
   "metadata": {},
   "outputs": [],
   "source": [
    "days = [20,21,28,29,30]"
   ]
  },
  {
   "cell_type": "markdown",
   "metadata": {},
   "source": [
    "## i/o"
   ]
  },
  {
   "cell_type": "code",
   "execution_count": 186,
   "metadata": {},
   "outputs": [],
   "source": [
    "    fname  = \"/Volumes/Baby-Orange/XPIA-NCAR/processed/UST_SPATIAL_AVG_15km_by_15km_D02_March{0}.csv\".format(day)\n",
    "    df_ust = pd.read_csv(fname, index_col=[0], parse_dates=True)"
   ]
  },
  {
   "cell_type": "code",
   "execution_count": 219,
   "metadata": {},
   "outputs": [],
   "source": [
    "for iday,day in enumerate(days):\n",
    "\n",
    "    start = pd.to_datetime('2015-{0}-{1} 14:10'.format(3,day))\n",
    "    end   = pd.to_datetime('2015-{0}-{1} 23:50'.format(3,day))\n",
    "    idx   = pd.date_range(start=start, end=end, freq='10min')  \n",
    "    idx.freq=None\n",
    "    \n",
    "    fname  = \"/Volumes/Baby-Orange/XPIA-NCAR/processed/UST_SPATIAL_AVG_15km_by_15km_D02_March{0}.csv\".format(day)\n",
    "    df_ust = pd.read_csv(fname, index_col=[0], parse_dates=True)\n",
    "    df_ust = df_ust.reindex(index=idx)\n",
    "    df_ust = pd.Series(index=df_ust.index,data=np.ravel(df_ust.values))\n",
    "\n",
    "    fname  = \"/Volumes/Baby-Orange/XPIA-NCAR/processed/HFX_SPATIAL_AVG_15km_by_15km_D02_March{0}.csv\".format(day)\n",
    "    df_hfx = pd.read_csv(fname, index_col=[0], parse_dates=True)\n",
    "    df_hfx = df_hfx.reindex(index=idx)\n",
    "    df_hfx = pd.Series(index=df_hfx.index,data=np.ravel(df_hfx.values))\n",
    "    \n",
    "    fname  = \"/Volumes/Baby-Orange/XPIA-NCAR/processed/PBLH_SPATIAL_AVG_15km_by_15km_D02_March{0}.csv\".format(day)\n",
    "    df_zi = pd.read_csv(fname, index_col=[0], parse_dates=True)\n",
    "    df_zi.index = df_zi.index.tz_localize(None)\n",
    "    df_zi = pd.Series(index=df_zi.index,data=df_zi['median'].values)\n",
    "    df_zi = df_zi.reindex(index=idx)\n",
    "\n",
    "    df_theta = df_zi.copy() * 0.0 + 300.0\n",
    "\n",
    "    df_wst = ((9.81/df_theta)* df_zi * df_hfx)**(1/3.)\n",
    "\n",
    "    if iday==0:\n",
    "        df_ust_final = df_ust.copy()\n",
    "        df_wst_final = df_wst.copy()\n",
    "        df_zi_final  = df_zi.copy()\n",
    "    else:\n",
    "        df_ust_final = pd.concat([df_ust_final,df_ust],axis=0)\n",
    "        df_wst_final = pd.concat([df_wst_final,df_wst],axis=0)    \n",
    "        df_zi_final  = pd.concat([df_zi_final,df_zi],axis=0)            "
   ]
  },
  {
   "cell_type": "markdown",
   "metadata": {},
   "source": [
    "## functions"
   ]
  },
  {
   "cell_type": "code",
   "execution_count": 401,
   "metadata": {},
   "outputs": [],
   "source": [
    "def p_nl(delta_star,C_cs=None,ust=None,wst=None):\n",
    "    \n",
    "    # Hyeyum Hailey Shin and Song-You Hong, “Representation of the Subgrid-Scale Turbulent Transport in Convective Boundary Layers at Gray-Zone Resolutions,” Monthly Weather Review 143, no. 1 (January 1, 2015): 250–71, https://doi.org/10.1175/MWR-D-14-00116.1.\n",
    "    # Eqs. [2] & [3]\n",
    "    \n",
    "    if C_cs==None:\n",
    "        a_cs = 0.5\n",
    "        b_cs = -40.0\n",
    "        c_cs = -0.5\n",
    "        d_cs = 8.0\n",
    "        e_cs = 3.0\n",
    "\n",
    "        arg           = b_cs * np.abs(ust/wst+c_cs) + d_cs\n",
    "        C_cs          = a_cs * (np.tanh(arg)+e_cs)    \n",
    "\n",
    "    delta_star_cs = delta_star/C_cs\n",
    "    \n",
    "    top = delta_star_cs**2 + 0.936*delta_star_cs**(7/8.) - 1.110\n",
    "    bot = delta_star_cs**2 + 0.312*delta_star_cs**(7/8.) + 0.329\n",
    "    \n",
    "    return C_cs,0.243*top/bot+0.757\n",
    "\n",
    "def p_l(delta_star):\n",
    "    \n",
    "    # Hyeyum Hailey Shin and Song-You Hong, “Representation of the Subgrid-Scale Turbulent Transport in Convective Boundary Layers at Gray-Zone Resolutions,” Monthly Weather Review 143, no. 1 (January 1, 2015): 250–71, https://doi.org/10.1175/MWR-D-14-00116.1.\n",
    "    # Eq. [7]\n",
    "  \n",
    "    top = delta_star**2 + 0.870*delta_star**(0.5) - 0.913\n",
    "    bot = delta_star**2 + 0.153*delta_star**(0.5) + 0.278\n",
    "\n",
    "    return 0.280*top/bot+0.720"
   ]
  },
  {
   "cell_type": "markdown",
   "metadata": {},
   "source": [
    "## theoretical values"
   ]
  },
  {
   "cell_type": "code",
   "execution_count": 398,
   "metadata": {},
   "outputs": [],
   "source": [
    "delta_star = np.arange(0.0,10.01,0.01)\n",
    "local      = p_l(delta_star)\n",
    "non_local  = p_nl(delta_star,C_cs=1.0)"
   ]
  },
  {
   "cell_type": "markdown",
   "metadata": {},
   "source": [
    "## actual values"
   ]
  },
  {
   "cell_type": "code",
   "execution_count": 402,
   "metadata": {},
   "outputs": [],
   "source": [
    "delta              = 333.0 \n",
    "delta_star_actual  = delta/df_zi_final\n",
    "\n",
    "local_actual = p_l(delta_star_actual.values)\n",
    "C_s, non_local_actual = p_nl(delta_star_actual.values,ust=df_ust_final.values,wst=df_wst_final.values)"
   ]
  },
  {
   "cell_type": "code",
   "execution_count": 403,
   "metadata": {},
   "outputs": [
    {
     "data": {
      "text/plain": [
       "[<matplotlib.lines.Line2D at 0x12eee6ef0>]"
      ]
     },
     "execution_count": 403,
     "metadata": {},
     "output_type": "execute_result"
    },
    {
     "data": {
      "image/png": "[encoded data removed]",
      "text/plain": [
       "<Figure size 432x288 with 1 Axes>"
      ]
     },
     "metadata": {
      "needs_background": "light"
     },
     "output_type": "display_data"
    }
   ],
   "source": [
    "plt.plot(delta_star_actual.values, 'ok')"
   ]
  },
  {
   "cell_type": "code",
   "execution_count": 404,
   "metadata": {},
   "outputs": [
    {
     "data": {
      "text/plain": [
       "[<matplotlib.lines.Line2D at 0x12ef96518>]"
      ]
     },
     "execution_count": 404,
     "metadata": {},
     "output_type": "execute_result"
    },
    {
     "data": {
      "image/png": "[encoded data removed]",
      "text/plain": [
       "<Figure size 432x288 with 1 Axes>"
      ]
     },
     "metadata": {
      "needs_background": "light"
     },
     "output_type": "display_data"
    }
   ],
   "source": [
    "plt.figure()\n",
    "plt.plot(local_actual,'ok')\n",
    "plt.plot(non_local_actual,'or')"
   ]
  },
  {
   "cell_type": "markdown",
   "metadata": {},
   "source": [
    "## get histogram of actual values of p_l and p_nl"
   ]
  },
  {
   "cell_type": "code",
   "execution_count": 394,
   "metadata": {},
   "outputs": [],
   "source": [
    "bins        = np.arange(-2, 1.01, 0.2)\n",
    "vals, bins  = np.histogram(np.log10(local_actual), bins=bins, density=False)\n",
    "perc_vals   = (vals/np.sum(vals) * 100)\n",
    "bin_centers = (bins[1:]+bins[0:-1])/2"
   ]
  },
  {
   "cell_type": "code",
   "execution_count": 395,
   "metadata": {},
   "outputs": [],
   "source": [
    "bins              = np.arange(-2, 1.01, 0.2)\n",
    "vals_nl, bins_nl  = np.histogram(np.log10(non_local_actual), bins=bins, density=False)\n",
    "perc_vals_nl      = (vals_nl/np.sum(vals_nl) * 100)\n",
    "bin_centers_nl    = (bins_nl[1:]+bins_nl[0:-1])/2"
   ]
  },
  {
   "cell_type": "markdown",
   "metadata": {},
   "source": [
    "## get histogram of u*/w* ==> always < 0.1!!!"
   ]
  },
  {
   "cell_type": "code",
   "execution_count": 405,
   "metadata": {},
   "outputs": [],
   "source": [
    "bins                    = np.arange(0.0, 1.01, 0.1)\n",
    "vals_stars, bins_stars  = np.histogram(df_ust_final.values/df_wst_final.values, bins=bins, density=False)\n",
    "perc_vals_stars         = (vals_stars/np.sum(vals_stars) * 100)\n",
    "bin_centers_stars       = (bins_stars[1:]+bins_stars[0:-1])/2"
   ]
  },
  {
   "cell_type": "markdown",
   "metadata": {},
   "source": [
    "## plot"
   ]
  },
  {
   "cell_type": "code",
   "execution_count": 400,
   "metadata": {},
   "outputs": [
    {
     "name": "stderr",
     "output_type": "stream",
     "text": [
      "/Users/pdoubraw/anaconda3/lib/python3.6/site-packages/ipykernel_launcher.py:3: RuntimeWarning: divide by zero encountered in log10\n",
      "  This is separate from the ipykernel package so we can avoid doing imports until\n",
      "/Users/pdoubraw/anaconda3/lib/python3.6/site-packages/ipykernel_launcher.py:4: RuntimeWarning: divide by zero encountered in log10\n",
      "  after removing the cwd from sys.path.\n"
     ]
    },
    {
     "data": {
      "text/plain": [
       "Text(0.5, 0, 'Horizontal grid spacing relative to boundary layer height\\n$\\\\Delta_*=\\\\Delta/z_i$ [-]')"
      ]
     },
     "execution_count": 400,
     "metadata": {},
     "output_type": "execute_result"
    },
    {
     "data": {
      "image/png": "[encoded data removed]",
      "text/plain": [
       "<Figure size 432x288 with 2 Axes>"
      ]
     },
     "metadata": {
      "needs_background": "light"
     },
     "output_type": "display_data"
    }
   ],
   "source": [
    "fig = plt.figure()\n",
    "ax  = fig.add_subplot(111)\n",
    "ax.plot(np.log10(delta_star),local,'-',color='tomato',lw=3,label='SGS local')\n",
    "ax.plot(np.log10(delta_star),non_local,'-k',label='SGS non-local',lw=1,zorder=10)\n",
    "ax.set_ylim([-0.2,1.2])\n",
    "ax.set_ylabel(\"Parameterization scaling\\n$P_L$ or $P_{NL}$ [-]\")\n",
    "plt.legend()\n",
    "\n",
    "ax2 = ax.twinx()\n",
    "ax2.bar(bin_centers,perc_vals_nl,width=0.2,edgecolor='tomato',ls='-',color='white',lw=3,alpha=1,hatch='//')\n",
    "ax2.bar(bin_centers,perc_vals,width=0.09,edgecolor='k',color='w',lw=1,alpha=0.9)\n",
    "ax2.set_ylim([0.5,100])\n",
    "ax2.set_ylabel(\"Frequency of ocurrence [%]\")\n",
    "\n",
    "ax.set_xticks([-2,-1,0,1])\n",
    "ax.set_xticklabels([str(a) for a in [0.01,0.1,1,10]])\n",
    "ax.set_xlabel(\"Horizontal grid spacing relative to boundary layer height\\n$\\Delta_*=\\Delta/z_i$ [-]\")\n",
    "\n",
    "# fig.savefig(\"../figs/PL_PNL.png\",dpi=250,bbox_inches=\"tight\")"
   ]
  },
  {
   "cell_type": "code",
   "execution_count": 359,
   "metadata": {},
   "outputs": [],
   "source": [
    "\n"
   ]
  },
  {
   "cell_type": "code",
   "execution_count": null,
   "metadata": {},
   "outputs": [],
   "source": []
  }
 ],
 "metadata": {
  "kernelspec": {
   "display_name": "Python 3",
   "language": "python",
   "name": "python3"
  },
  "language_info": {
   "codemirror_mode": {
    "name": "ipython",
    "version": 3
   },
   "file_extension": ".py",
   "mimetype": "text/x-python",
   "name": "python",
   "nbconvert_exporter": "python",
   "pygments_lexer": "ipython3",
   "version": "3.6.8"
  }
 },
 "nbformat": 4,
 "nbformat_minor": 2
}
