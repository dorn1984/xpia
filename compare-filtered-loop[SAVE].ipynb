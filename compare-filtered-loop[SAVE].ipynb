{
 "cells": [
  {
   "cell_type": "markdown",
   "metadata": {},
   "source": [
    "# filter ALL simulations and save result"
   ]
  },
  {
   "cell_type": "code",
   "execution_count": 1,
   "metadata": {},
   "outputs": [],
   "source": [
    "import numpy as np\n",
    "import os, glob\n",
    "import matplotlib.pyplot as plt\n",
    "plt.rc(\"font\",size=14)\n",
    "\n",
    "from netCDF4 import Dataset\n",
    "import xarray, wrf\n",
    "\n",
    "from pandas import to_datetime, date_range, Timedelta\n",
    "from scipy.signal import welch\n",
    "from matplotlib.cm import get_cmap\n",
    "import cartopy.crs as crs\n",
    "from cartopy.feature import NaturalEarthFeature"
   ]
  },
  {
   "cell_type": "code",
   "execution_count": 2,
   "metadata": {},
   "outputs": [],
   "source": [
    "plt.rc(\"font\",size=14)"
   ]
  },
  {
   "cell_type": "code",
   "execution_count": 3,
   "metadata": {},
   "outputs": [],
   "source": [
    "from scipy import fftpack"
   ]
  },
  {
   "cell_type": "code",
   "execution_count": 4,
   "metadata": {},
   "outputs": [],
   "source": [
    "import warnings\n",
    "warnings.simplefilter(action='ignore', category=FutureWarning)"
   ]
  },
  {
   "cell_type": "code",
   "execution_count": 5,
   "metadata": {},
   "outputs": [],
   "source": [
    "height = 100.0"
   ]
  },
  {
   "cell_type": "code",
   "execution_count": 13,
   "metadata": {},
   "outputs": [],
   "source": [
    "dx = {\"MYNN\":333.0,\n",
    "       \"SH\":333.0,\n",
    "       \"VLES\":333.0,\n",
    "       \"YSU\":333.0,\n",
    "       \"LES_25\":25.0,\n",
    "       \"LES_100\":100.0,\n",
    "       \"VLES-ISO\":333.0}"
   ]
  },
  {
   "cell_type": "code",
   "execution_count": 34,
   "metadata": {},
   "outputs": [],
   "source": [
    "day      = 21"
   ]
  },
  {
   "cell_type": "code",
   "execution_count": 35,
   "metadata": {},
   "outputs": [],
   "source": [
    "directories = {\"VLES-ISO\":\"/glade/scratch/doubrawa/VLES/03{0}15-Isotropic\".format(day)}\n",
    "#                \"MYNN\":\"/glade/scratch/doubrawa/MYNN/03{0}15/\".format(day),\n",
    "#                \"SH\":\"/glade/scratch/doubrawa/SH/03{0}15/\".format(day),\n",
    "#                \"VLES\":\"/glade/scratch/doubrawa/VLES/03{0}15/\".format(day),\n",
    "#                \"YSU\":\"/glade/scratch/doubrawa/YSU/03{0}15/\".format(day),\n",
    "#                \"LES_25\":\"/glade/scratch/doubrawa/postProcessing/\",\n",
    "#                \"LES_100\":\"/glade/scratch/doubrawa/postProcessing/\"}"
   ]
  },
  {
   "cell_type": "code",
   "execution_count": 36,
   "metadata": {},
   "outputs": [],
   "source": [
    "figPath = \"/glade/u/home/doubrawa/figs/\""
   ]
  },
  {
   "cell_type": "markdown",
   "metadata": {},
   "source": [
    "# read in all the data"
   ]
  },
  {
   "cell_type": "code",
   "execution_count": 37,
   "metadata": {},
   "outputs": [],
   "source": [
    "t_start = to_datetime(\"2015-03-{0} 14:00:00\".format(day),  format=\"%Y-%m-%d %H:%M:%S\")\n",
    "t_end   = to_datetime(\"2015-03-{0} 00:00:00\".format(day+1),format=\"%Y-%m-%d %H:%M:%S\")\n",
    "t_vec   = date_range(start=t_start, end=t_end, freq='30min')\n",
    "dt      = {\"LES_25\":10,\"LES_100\":60,\"MYNN\":30*60,\"YSU\":30*60,\"SH\":30*60,\"VLES\":30*60,\"VLES-ISO\":30*60}"
   ]
  },
  {
   "cell_type": "code",
   "execution_count": 38,
   "metadata": {},
   "outputs": [],
   "source": [
    "w     = {}\n",
    "t     = {}\n",
    "xlat  = {}\n",
    "xlong = {}"
   ]
  },
  {
   "cell_type": "code",
   "execution_count": 39,
   "metadata": {},
   "outputs": [
    {
     "name": "stdout",
     "output_type": "stream",
     "text": [
      "VLES-ISO\n",
      "2015-03-21 14:00:00\n",
      "2015-03-21 14:30:00\n",
      "2015-03-21 15:00:00\n",
      "2015-03-21 15:30:00\n",
      "2015-03-21 16:00:00\n",
      "2015-03-21 16:30:00\n",
      "2015-03-21 17:00:00\n",
      "2015-03-21 17:30:00\n",
      "2015-03-21 18:00:00\n",
      "2015-03-21 18:30:00\n",
      "2015-03-21 19:00:00\n",
      "2015-03-21 19:30:00\n",
      "2015-03-21 20:00:00\n",
      "2015-03-21 20:30:00\n",
      "2015-03-21 21:00:00\n",
      "2015-03-21 21:30:00\n",
      "2015-03-21 22:00:00\n",
      "2015-03-21 22:30:00\n",
      "2015-03-21 23:00:00\n",
      "2015-03-21 23:30:00\n",
      "2015-03-22 00:00:00\n"
     ]
    }
   ],
   "source": [
    "for key,directory in directories.items():\n",
    "    print(key)\n",
    "    for datetime in t_vec:\n",
    "        if not( (datetime.day==28) & (datetime.hour==19) & (datetime.minute==30) ):\n",
    "            datetime_str  = \"{0:%Y-%m-%d_%H:%M}\".format(datetime)       \n",
    "            print(datetime)\n",
    "            if \"LES_\" not in key:\n",
    "                wrfout        = glob.glob(os.path.join(directory,'wrfout_d03*{0}*'.format(datetime_str)))[0]            \n",
    "                wrfnc_for_wrf = Dataset(wrfout,'r')\n",
    "                wrfnc         = xarray.open_dataset(wrfout)\n",
    "                wrf_datetime  = to_datetime(wrfnc.XTIME[0].data)\n",
    "\n",
    "                hgt           = wrf.getvar(wrfnc_for_wrf, \"ter\", units=\"m\")\n",
    "                z             = wrf.getvar(wrfnc_for_wrf, \"z\", units=\"m\")\n",
    "                zref          = z-hgt\n",
    "                w_3d          = wrf.getvar(wrfnc_for_wrf, \"wa\", units=\"m s-1\")\n",
    "                w_2d          = wrf.interplevel(w_3d, zref, height, meta=True)    \n",
    "                t_3d          = wrf.getvar(wrfnc_for_wrf, \"theta\", units=\"K\")\n",
    "                t_2d          = wrf.interplevel(t_3d, zref, height, meta=True)    \n",
    "                lat           = wrf.getvar(wrfnc_for_wrf, \"lat\")\n",
    "                lon           = wrf.getvar(wrfnc_for_wrf, \"lon\")                \n",
    "                w_2d[\"time\"]  = w_2d[\"Time\"]\n",
    "                w_2d          = w_2d.expand_dims('time')            \n",
    "                t_2d[\"time\"]  = t_2d[\"Time\"]\n",
    "                t_2d          = t_2d.expand_dims('time')                                          \n",
    "            else:\n",
    "                wrfout       = sorted(glob.glob(os.path.join(directory,'WRF_{0}m_{1:%Y-%m-%d}*{1:%H:%M}*.nc'.format(key,datetime))))\n",
    "                if len(wrfout)==0:\n",
    "                    wrfout       = sorted(glob.glob(os.path.join(directory,'WRF_{0}m_{1:%Y-%m-%d}*{1:%H:%M}*.nc'.format(key,datetime+Timedelta(\"1min\")))))                \n",
    "                if len(wrfout)==0:\n",
    "                    break\n",
    "                else:\n",
    "                    wrfout        = wrfout[0]\n",
    "                wrfnc         = xarray.open_dataset(wrfout)\n",
    "                wrf_datetimes = [to_datetime(i) for i in wrfnc.time.data]\n",
    "                min_diff      = np.min([(i - datetime).seconds for i in wrf_datetimes])\n",
    "                min_diff_idx  = np.argmin([(i - datetime).seconds for i in wrf_datetimes])            \n",
    "\n",
    "                condition = min_diff <= dt[key]\n",
    "                if not(condition):\n",
    "                    print (\"ERROR\")\n",
    "                    print (datetime)\n",
    "                    print (wrf_datetimes[min_diff_idx])\n",
    "                    break            \n",
    "                wrfnc  = wrfnc.isel(time=min_diff_idx)\n",
    "                w_2d = wrfnc[\"w\"]\n",
    "                t_2d = wrfnc[\"theta\"]\n",
    "                lat  = wrfnc.xlat\n",
    "                lon  = wrfnc.xlong\n",
    "\n",
    "            if datetime==t_vec[0]:\n",
    "                w[key]     = w_2d.copy()\n",
    "                t[key]     = t_2d.copy()\n",
    "                xlat[key]  = lat\n",
    "                xlong[key] = lon\n",
    "            else:\n",
    "                w[key] = xarray.concat([w[key], w_2d], dim='time')\n",
    "                t[key] = xarray.concat([t[key], t_2d], dim='time') "
   ]
  },
  {
   "cell_type": "markdown",
   "metadata": {},
   "source": [
    "# get equivalent x/y coordinates across domains"
   ]
  },
  {
   "cell_type": "code",
   "execution_count": 40,
   "metadata": {},
   "outputs": [],
   "source": [
    "ref_wrfnc = Dataset(\"/glade/scratch/domingom/Cheyenne/XPIA_mesoLES/SIMULS/WRF_mesoLES_4dom_RAP_2015_03_12_mesoLES/HOUR_14_1/wrfout_d04_2015-03-13_14:00:10_0000\")"
   ]
  },
  {
   "cell_type": "code",
   "execution_count": 41,
   "metadata": {},
   "outputs": [],
   "source": [
    "x = {}\n",
    "y = {}\n",
    "for key in directories.keys():\n",
    "\n",
    "    x[key], y[key] = wrf.ll_to_xy(ref_wrfnc, xlat[key], xlong[key])\n",
    "    x[key]   = np.reshape(x[key].data,w[key].shape[1:])\n",
    "    y[key]   = np.reshape(y[key].data,w[key].shape[1:])        "
   ]
  },
  {
   "cell_type": "markdown",
   "metadata": {},
   "source": [
    "# clip all of them to the same area"
   ]
  },
  {
   "cell_type": "code",
   "execution_count": 42,
   "metadata": {},
   "outputs": [],
   "source": [
    "xmin, xmax = (0,1200)#np.min(x[\"LES_25\"]), np.max(x[\"LES_25\"])\n",
    "ymin, ymax = (0,1200)#np.min(y[\"LES_25\"]), np.max(y[\"LES_25\"])       "
   ]
  },
  {
   "cell_type": "code",
   "execution_count": 43,
   "metadata": {},
   "outputs": [
    {
     "name": "stdout",
     "output_type": "stream",
     "text": [
      "VLES-ISO\n"
     ]
    }
   ],
   "source": [
    "w_clipped   = {}\n",
    "t_clipped   = {}\n",
    "\n",
    "for key in directories.keys():\n",
    "    \n",
    "    if key!=\"LES_25\":\n",
    "\n",
    "        print(key)\n",
    "\n",
    "        condition_x = ( (x[key] >= xmin) & (x[key]<=xmax) )\n",
    "        condition_y = ( (y[key] >= ymin) & (y[key]<=ymax) )\n",
    "        condition   = condition_x & condition_y\n",
    "\n",
    "        idx_sn, idx_we = np.where(condition)\n",
    "        idx_sn         = np.unique(idx_sn)\n",
    "        idx_we         = np.unique(idx_we)\n",
    "\n",
    "        w_clipped[key] = (w[key].isel(west_east=idx_we,south_north=idx_sn)).copy()\n",
    "        t_clipped[key] = (t[key].isel(west_east=idx_we,south_north=idx_sn)).copy()\n",
    "\n",
    "        w_clipped[key][\"west_east\"]   = (x[key][0,:][idx_we]).copy()\n",
    "        w_clipped[key][\"south_north\"] = (y[key][:,0][idx_sn]).copy()\n",
    "        t_clipped[key][\"west_east\"]   = (x[key][0,:][idx_we]).copy()\n",
    "        t_clipped[key][\"south_north\"] = (y[key][:,0][idx_sn]).copy()\n",
    "    \n",
    "if \"LES_25\" in directories.keys():\n",
    "    key=\"LES_25\"\n",
    "    print(key)\n",
    "    w_clipped[key]   = w[key]   \n",
    "    t_clipped[key]   = t[key]   \n",
    "    w_clipped[key][\"west_east\"]   = x[key][0,:].copy()\n",
    "    w_clipped[key][\"south_north\"] = y[key][:,0].copy()\n",
    "    t_clipped[key][\"west_east\"]   = x[key][0,:].copy()\n",
    "    t_clipped[key][\"south_north\"] = y[key][:,0].copy()"
   ]
  },
  {
   "cell_type": "markdown",
   "metadata": {},
   "source": [
    "# apply filter"
   ]
  },
  {
   "cell_type": "code",
   "execution_count": 44,
   "metadata": {},
   "outputs": [],
   "source": [
    "k_cut = 1/(333*4.)    "
   ]
  },
  {
   "cell_type": "code",
   "execution_count": 45,
   "metadata": {},
   "outputs": [],
   "source": [
    "w_filt = {}\n",
    "t_filt = {}\n",
    "for key in w_clipped.keys():\n",
    "    n_t  = len(w_clipped[key].time)\n",
    "    n_we = len(w_clipped[key].west_east)\n",
    "    n_sn = len(w_clipped[key].south_north)\n",
    "    w_filt[key] = np.zeros((n_t,n_sn,n_we))\n",
    "    t_filt[key] = np.zeros((n_t,n_sn,n_we))"
   ]
  },
  {
   "cell_type": "code",
   "execution_count": 46,
   "metadata": {},
   "outputs": [
    {
     "name": "stdout",
     "output_type": "stream",
     "text": [
      "VLES-ISO\n"
     ]
    }
   ],
   "source": [
    "for key in w_clipped.keys():\n",
    "    print (key)\n",
    "    n_t  = len(w_clipped[key].time)\n",
    "    for i_t in range(n_t):\n",
    "        for pair in [(w_clipped,w_filt),(t_clipped,t_filt)]:\n",
    "            clipped, filtered      = pair\n",
    "            this_time              = clipped[key].interpolate_na(dim='south_north').interpolate_na(dim='west_east').data[i_t,:,:].copy()                \n",
    "            psd_2d                 = fftpack.fft2(this_time)\n",
    "            kappas_1d              = fftpack.fftfreq(len(this_time),d=dx[key])\n",
    "            [kappas_j,kappas_i]    = np.meshgrid(kappas_1d,kappas_1d)   \n",
    "            idx                    = np.where( (np.abs(kappas_j)>k_cut) | (np.abs(kappas_i)>k_cut) )\n",
    "            psd_2d_filt            = psd_2d.copy()\n",
    "            psd_2d_filt[idx]       = 0.0+0j\n",
    "            filtered[key][i_t,:,:] = fftpack.ifft2(psd_2d_filt).real     "
   ]
  },
  {
   "cell_type": "markdown",
   "metadata": {},
   "source": [
    "# turn filtered data into dataarray"
   ]
  },
  {
   "cell_type": "code",
   "execution_count": 47,
   "metadata": {},
   "outputs": [
    {
     "name": "stdout",
     "output_type": "stream",
     "text": [
      "VLES-ISO\n"
     ]
    }
   ],
   "source": [
    "for key in w_filt.keys():\n",
    "    print (key)\n",
    "\n",
    "    if \"LES_\" not in key:\n",
    "        w_clipped[key][\"lat\"] = w_clipped[key][\"XLAT\"]\n",
    "        w_clipped[key][\"lon\"] = w_clipped[key][\"XLONG\"] \n",
    "        w_clipped[key]        = w_clipped[key].drop(\"XTIME\").drop(\"Time\").drop(\"XLAT\").drop(\"XLONG\")\n",
    "        t_clipped[key][\"lat\"] = t_clipped[key][\"XLAT\"]\n",
    "        t_clipped[key][\"lon\"] = t_clipped[key][\"XLONG\"]        \n",
    "        t_clipped[key]        = t_clipped[key].drop(\"XTIME\").drop(\"Time\").drop(\"XLAT\").drop(\"XLONG\")\n",
    "    else:\n",
    "        w_clipped[key][\"lat\"] = w_clipped[key][\"xlat\"]\n",
    "        w_clipped[key][\"lon\"] = w_clipped[key][\"xlong\"] \n",
    "        w_clipped[key]        = w_clipped[key].drop(\"xlat\").drop(\"xlong\")\n",
    "        t_clipped[key][\"lat\"] = t_clipped[key][\"xlat\"]\n",
    "        t_clipped[key][\"lon\"] = t_clipped[key][\"xlong\"]        \n",
    "        t_clipped[key]        = t_clipped[key].drop(\"xlat\").drop(\"xlong\")    \n",
    "    \n",
    "    w_filt[key] = xarray.DataArray(w_filt[key],\n",
    "                     coords={\"time\":w_clipped[key].time,\n",
    "                             \"south_north\":w_clipped[key].south_north,\n",
    "                             \"west_east\":w_clipped[key].west_east,\n",
    "                             \"lat\":w_clipped[key].lat,\n",
    "                             \"lon\":w_clipped[key].lon}, \n",
    "                     dims=(\"time\",\"south_north\",\"west_east\"), \n",
    "                     name=\"w (filtered for k < 1/{0:.0f}\".format(1/k_cut), \n",
    "                     attrs={\"unit\":\"m s-1\",\"stagger\":\"\"})\n",
    "    \n",
    "    t_filt[key] = xarray.DataArray(t_filt[key],\n",
    "                     coords={\"time\":t_clipped[key].time,\n",
    "                             \"south_north\":t_clipped[key].south_north,\n",
    "                             \"west_east\":t_clipped[key].west_east,\n",
    "                             \"lat\":t_clipped[key].lat,\n",
    "                             \"lon\":t_clipped[key].lon}, \n",
    "                     dims=(\"time\",\"south_north\",\"west_east\"), \n",
    "                     name=\"potential temperature (filtered for k < 1/{0:.0f}\".format(1/k_cut), \n",
    "                     attrs={\"unit\":\"K\",\"stagger\":\"\"})"
   ]
  },
  {
   "cell_type": "markdown",
   "metadata": {},
   "source": [
    "# put dataarrays together into a dataset"
   ]
  },
  {
   "cell_type": "code",
   "execution_count": 48,
   "metadata": {},
   "outputs": [
    {
     "name": "stdout",
     "output_type": "stream",
     "text": [
      "VLES-ISO\n"
     ]
    }
   ],
   "source": [
    "for key in w_clipped.keys():\n",
    "    if \"projection\" in w_clipped[key].attrs.keys():\n",
    "        print (key)\n",
    "        w_clipped[key].attrs = w_filt[key].attrs\n",
    "        t_clipped[key].attrs = t_filt[key].attrs"
   ]
  },
  {
   "cell_type": "code",
   "execution_count": 49,
   "metadata": {},
   "outputs": [
    {
     "name": "stdout",
     "output_type": "stream",
     "text": [
      "VLES-ISO\n"
     ]
    }
   ],
   "source": [
    "for key in w_clipped.keys():\n",
    "    print (key)\n",
    "    dataset = xarray.Dataset(data_vars={\"w\":w_clipped[key],\n",
    "                          \"w_filt\":w_filt[key],\n",
    "                          \"theta\":t_clipped[key],\n",
    "                          \"theta_filt\":t_filt[key]})\n",
    " \n",
    "    dataset.assign_coords(z=100.0)\n",
    "    pathout = os.path.join(\"/glade/scratch/doubrawa/postProcessing/\",\"WRF_{0}_{1:%Y-%m-%d}_FILTERED.nc\".format(key,t_start))\n",
    "    dataset.to_netcdf(pathout)"
   ]
  },
  {
   "cell_type": "code",
   "execution_count": null,
   "metadata": {},
   "outputs": [],
   "source": []
  },
  {
   "cell_type": "code",
   "execution_count": null,
   "metadata": {},
   "outputs": [],
   "source": []
  }
 ],
 "metadata": {
  "kernelspec": {
   "display_name": "Python (mwrfenv)",
   "language": "python",
   "name": "wrfenv"
  },
  "language_info": {
   "codemirror_mode": {
    "name": "ipython",
    "version": 3
   },
   "file_extension": ".py",
   "mimetype": "text/x-python",
   "name": "python",
   "nbconvert_exporter": "python",
   "pygments_lexer": "ipython3",
   "version": "3.6.6"
  }
 },
 "nbformat": 4,
 "nbformat_minor": 2
}
